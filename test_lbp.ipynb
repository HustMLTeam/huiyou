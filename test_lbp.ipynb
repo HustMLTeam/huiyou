{
 "metadata": {
  "name": "",
  "signature": "sha256:aa92bdbfa06d144753dc7dbea163d412ba7d14989ffc22ad871cc7aa93ceefde"
 },
 "nbformat": 3,
 "nbformat_minor": 0,
 "worksheets": [
  {
   "cells": [
    {
     "cell_type": "code",
     "collapsed": false,
     "input": [
      "import numpy as np\n",
      "import matplotlib.pyplot as plt"
     ],
     "language": "python",
     "metadata": {},
     "outputs": [],
     "prompt_number": 1
    },
    {
     "cell_type": "code",
     "collapsed": false,
     "input": [
      "from detect import LevelDetector\n",
      "det = LevelDetector('lbp')\n",
      "import cv2\n",
      "image = cv2.imread('data/tube.jpg', 0)\n",
      "tube1 = image[0:271, 30:70]"
     ],
     "language": "python",
     "metadata": {},
     "outputs": [],
     "prompt_number": 2
    },
    {
     "cell_type": "code",
     "collapsed": false,
     "input": [
      "pos1 = det.locate_window(tube1, 5)"
     ],
     "language": "python",
     "metadata": {},
     "outputs": [],
     "prompt_number": 3
    },
    {
     "cell_type": "code",
     "collapsed": false,
     "input": [
      "print(pos1)"
     ],
     "language": "python",
     "metadata": {},
     "outputs": [
      {
       "output_type": "stream",
       "stream": "stdout",
       "text": [
        "[[118 151  10  30]\n",
        " [ 45  78  13  33]\n",
        " [187 221  13  32]\n",
        " [ 81 115  11  30]\n",
        " [152 186  11  31]]\n"
       ]
      }
     ],
     "prompt_number": 4
    },
    {
     "cell_type": "code",
     "collapsed": false,
     "input": [
      "fig1 = plt.figure()\n",
      "for i, (y_start, y_end, x_start, x_end) in enumerate(pos1):\n",
      "    ax = fig1.add_subplot(1, 5, i+1)\n",
      "    ax.imshow(tube1[y_start:y_end, x_start:x_end], plt.cm.gray)\n",
      "# fig.show()"
     ],
     "language": "python",
     "metadata": {},
     "outputs": [],
     "prompt_number": 13
    },
    {
     "cell_type": "code",
     "collapsed": false,
     "input": [
      "########################################################################################"
     ],
     "language": "python",
     "metadata": {},
     "outputs": []
    },
    {
     "cell_type": "code",
     "collapsed": false,
     "input": [
      "tube2 = image[0:271, 78:115]"
     ],
     "language": "python",
     "metadata": {},
     "outputs": [],
     "prompt_number": 8
    },
    {
     "cell_type": "code",
     "collapsed": false,
     "input": [
      "pos2 = det.locate_window(tube2, 7)"
     ],
     "language": "python",
     "metadata": {},
     "outputs": [],
     "prompt_number": 9
    },
    {
     "cell_type": "code",
     "collapsed": false,
     "input": [
      "print(pos2)"
     ],
     "language": "python",
     "metadata": {},
     "outputs": [
      {
       "output_type": "stream",
       "stream": "stdout",
       "text": [
        "[[109 141   6  26]\n",
        " [ 36  70   7  27]\n",
        " [214 245  11  31]\n",
        " [146 179   6  26]\n",
        " [ 74 107   6  26]\n",
        " [179 213   9  29]\n",
        " [  2  34  10  31]]\n"
       ]
      }
     ],
     "prompt_number": 10
    },
    {
     "cell_type": "code",
     "collapsed": false,
     "input": [
      "fig2 = plt.figure()\n",
      "for i, (y_start, y_end, x_start, x_end) in enumerate(pos2):\n",
      "    ax = fig2.add_subplot(1, 7, i+1)\n",
      "    ax.imshow(tube2[y_start:y_end, x_start:x_end], plt.cm.gray)\n",
      "# fig.show()"
     ],
     "language": "python",
     "metadata": {},
     "outputs": [],
     "prompt_number": 14
    },
    {
     "cell_type": "code",
     "collapsed": false,
     "input": [
      "plt.show()"
     ],
     "language": "python",
     "metadata": {},
     "outputs": [],
     "prompt_number": 15
    }
   ],
   "metadata": {}
  }
 ]
}