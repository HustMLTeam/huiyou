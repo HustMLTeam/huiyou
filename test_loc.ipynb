{
 "metadata": {
  "name": "",
  "signature": "sha256:8fd966831db846d91259708a7d1b004134fa0c270093b00aac342cdc0ce334d7"
 },
 "nbformat": 3,
 "nbformat_minor": 0,
 "worksheets": [
  {
   "cells": [
    {
     "cell_type": "code",
     "collapsed": false,
     "input": [
      "import numpy as np\n",
      "import cv2\n",
      "from basic import FeatureExtractor, Classifier, Decision\n",
      "from slide_window import slide_window\n",
      "import matplotlib.pyplot as plt"
     ],
     "language": "python",
     "metadata": {},
     "outputs": []
    },
    {
     "cell_type": "code",
     "collapsed": false,
     "input": [
      "fe = FeatureExtractor('lbp', file='data/pkl/window_lbp.pkl')\n",
      "clf = Classifier('svm', file='data/pkl/window_lbp_svm.pkl')"
     ],
     "language": "python",
     "metadata": {},
     "outputs": []
    },
    {
     "cell_type": "code",
     "collapsed": false,
     "input": [
      "image = cv2.imread('data/tube_b.jpg', 0)"
     ],
     "language": "python",
     "metadata": {},
     "outputs": []
    },
    {
     "cell_type": "code",
     "collapsed": false,
     "input": [
      "from time import time\n",
      "t0 = time()"
     ],
     "language": "python",
     "metadata": {},
     "outputs": []
    },
    {
     "cell_type": "code",
     "collapsed": false,
     "input": [
      "positions = []\n",
      "height, width = image.shape\n",
      "for y_start, y_end, x_start, x_end in slide_window(width, height,\n",
      "                        width_min=30, width_max=50, width_inc=5,\n",
      "                        height_min=60, height_max=100, height_inc=5,\n",
      "                        x_step=3, y_step=3):\n",
      "    i = image[y_start:y_end, x_start:x_end]\n",
      "    feature = fe.extract(i)\n",
      "    if clf.classify(feature.reshape(1, -1)):\n",
      "        positions.append((y_start, y_end, x_start, x_end))"
     ],
     "language": "python",
     "metadata": {},
     "outputs": []
    },
    {
     "cell_type": "code",
     "collapsed": false,
     "input": [
      "t1 = time()\n",
      "print(t1 - t0)"
     ],
     "language": "python",
     "metadata": {},
     "outputs": []
    },
    {
     "cell_type": "code",
     "collapsed": false,
     "input": [
      "dec = Decision('average')\n",
      "result = dec.decide(np.array(positions),13)\n",
      "r_sorted = sorted(result, key=lambda t: t[0])\n",
      "print(r_sorted)"
     ],
     "language": "python",
     "metadata": {},
     "outputs": []
    },
    {
     "cell_type": "code",
     "collapsed": false,
     "input": [
      "img = image.copy()\n",
      "for y1, y2, x1, x2 in r_sorted:\n",
      "    cv2.rectangle(img, (x1, y1), (x2, y2), (0, 255, 0))\n",
      "plt.imshow(img, 'gray')\n",
      "plt.show()"
     ],
     "language": "python",
     "metadata": {},
     "outputs": []
    }
   ],
   "metadata": {}
  }
 ]
}