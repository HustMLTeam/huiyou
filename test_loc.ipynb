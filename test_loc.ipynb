{
 "metadata": {
  "name": "",
  "signature": "sha256:461572ae714c642975b8fc596deeb9fa104167e31acb3f3256901b9980afa58a"
 },
 "nbformat": 3,
 "nbformat_minor": 0,
 "worksheets": [
  {
   "cells": [
    {
     "cell_type": "code",
     "collapsed": false,
     "input": [
      "import numpy as np\n",
      "import cv2\n",
      "from basic import FeatureExtractor, Classifier, Decision\n",
      "from slide_window import slide_window\n",
      "import matplotlib.pyplot as plt"
     ],
     "language": "python",
     "metadata": {},
     "outputs": [],
     "prompt_number": 1
    },
    {
     "cell_type": "code",
     "collapsed": false,
     "input": [
      "fe = FeatureExtractor('lbp', file='data/pkl/window_lbp.pkl')\n",
      "clf = Classifier('svm', file='data/pkl/window_lbp_svm.pkl')"
     ],
     "language": "python",
     "metadata": {},
     "outputs": [],
     "prompt_number": 2
    },
    {
     "cell_type": "code",
     "collapsed": false,
     "input": [
      "image = cv2.imread('data/tube_b.jpg', 0)"
     ],
     "language": "python",
     "metadata": {},
     "outputs": [],
     "prompt_number": 2
    },
    {
     "cell_type": "code",
     "collapsed": false,
     "input": [
      "img2 = image[:, 200:360]"
     ],
     "language": "python",
     "metadata": {},
     "outputs": [],
     "prompt_number": 7
    },
    {
     "cell_type": "code",
     "collapsed": false,
     "input": [
      "plt.imshow(img2, 'gray')\n",
      "plt.show()"
     ],
     "language": "python",
     "metadata": {},
     "outputs": [],
     "prompt_number": 49
    },
    {
     "cell_type": "code",
     "collapsed": false,
     "input": [
      "# img = image[100:610, 120:210]"
     ],
     "language": "python",
     "metadata": {},
     "outputs": [],
     "prompt_number": 5
    },
    {
     "cell_type": "code",
     "collapsed": false,
     "input": [
      "from time import time\n",
      "t0 = time()"
     ],
     "language": "python",
     "metadata": {},
     "outputs": [],
     "prompt_number": 8
    },
    {
     "cell_type": "code",
     "collapsed": false,
     "input": [
      "positions2 = []\n",
      "height, width = img2.shape\n",
      "for y_start, y_end, x_start, x_end in slide_window(width, height,\n",
      "                        width_min=30, width_max=50, width_inc=5,\n",
      "                        height_min=60, height_max=100, height_inc=5,\n",
      "                        x_step=3, y_step=3):\n",
      "    i = img2[y_start:y_end, x_start:x_end]\n",
      "    feature = fe.extract(i)\n",
      "    if clf.classify(feature.reshape(1, -1)):\n",
      "        positions2.append((y_start, y_end, x_start, x_end))"
     ],
     "language": "python",
     "metadata": {},
     "outputs": [],
     "prompt_number": 9
    },
    {
     "cell_type": "code",
     "collapsed": false,
     "input": [
      "t1 = time()\n",
      "print(t1 - t0)"
     ],
     "language": "python",
     "metadata": {},
     "outputs": [
      {
       "output_type": "stream",
       "stream": "stdout",
       "text": [
        "1725.8926265239716\n"
       ]
      }
     ],
     "prompt_number": 10
    },
    {
     "cell_type": "code",
     "collapsed": false,
     "input": [
      "dec = Decision('average')\n",
      "result = dec.decide(np.array(positions2), 7)\n",
      "r_sorted = sorted(result, key=lambda t: t[0])\n",
      "print(r_sorted)"
     ],
     "language": "python",
     "metadata": {},
     "outputs": [
      {
       "output_type": "stream",
       "stream": "stdout",
       "text": [
        "[(3, 93, 65, 107), (95, 183, 61, 101), (189, 273, 59, 100), (289, 372, 59, 99), (386, 470, 62, 102), (481, 567, 66, 107), (572, 652, 73, 113)]\n"
       ]
      }
     ],
     "prompt_number": 81
    },
    {
     "cell_type": "code",
     "collapsed": false,
     "input": [
      "fig = plt.figure()\n",
      "for i, (y1, y2, x1, x2) in enumerate(r_sorted):\n",
      "    ax = fig.add_subplot(1, 7, i+1)\n",
      "    ax.imshow(img2[y1:y2, x1:x2], 'gray')\n",
      "    ax.axis('off')\n",
      "plt.show()"
     ],
     "language": "python",
     "metadata": {},
     "outputs": [],
     "prompt_number": 82
    },
    {
     "cell_type": "code",
     "collapsed": false,
     "input": [
      "##############################################################################"
     ],
     "language": "python",
     "metadata": {},
     "outputs": []
    },
    {
     "cell_type": "code",
     "collapsed": false,
     "input": [
      "img = image[:, 120:210]"
     ],
     "language": "python",
     "metadata": {},
     "outputs": [],
     "prompt_number": 4
    },
    {
     "cell_type": "code",
     "collapsed": false,
     "input": [
      "plt.imshow(img, 'gray')\n",
      "plt.show()"
     ],
     "language": "python",
     "metadata": {},
     "outputs": [],
     "prompt_number": 5
    },
    {
     "cell_type": "code",
     "collapsed": false,
     "input": [
      "positions = []\n",
      "height, width = img.shape\n",
      "for y_start, y_end, x_start, x_end in slide_window(width, height,\n",
      "                        width_min=25, width_max=50, width_inc=5,\n",
      "                        height_min=50, height_max=100, height_inc=5,\n",
      "                        x_step=3, y_step=3):\n",
      "    i = img[y_start:y_end, x_start:x_end]\n",
      "    feature = fe.extract(i)\n",
      "    if clf.classify(feature.reshape(1, -1)):\n",
      "        positions.append((y_start, y_end, x_start, x_end))"
     ],
     "language": "python",
     "metadata": {},
     "outputs": [],
     "prompt_number": 6
    },
    {
     "cell_type": "code",
     "collapsed": false,
     "input": [
      "dec = Decision('average')\n",
      "result = dec.decide(np.array(positions), 5)\n",
      "r_sorted = sorted(result, key=lambda t: t[0])\n",
      "print(r_sorted)"
     ],
     "language": "python",
     "metadata": {},
     "outputs": [
      {
       "output_type": "stream",
       "stream": "stdout",
       "text": [
        "[(125, 205, 25, 59), (223, 303, 19, 55), (317, 400, 18, 54), (408, 486, 18, 58), (499, 580, 24, 62)]\n"
       ]
      }
     ],
     "prompt_number": 15
    },
    {
     "cell_type": "code",
     "collapsed": false,
     "input": [
      "fig = plt.figure()\n",
      "for i, (y1, y2, x1, x2) in enumerate(r_sorted):\n",
      "    ax = fig.add_subplot(1, 5, i+1)\n",
      "    ax.imshow(img[y1:y2, x1:x2], 'gray')\n",
      "    ax.axis('off')\n",
      "plt.show()"
     ],
     "language": "python",
     "metadata": {},
     "outputs": [],
     "prompt_number": 16
    },
    {
     "cell_type": "code",
     "collapsed": false,
     "input": [
      "pos = [(7, 92, 269, 308),\n",
      "                    (94, 184, 261, 302),\n",
      "                    (190, 284, 259, 302),\n",
      "                    (288, 374, 260, 299),\n",
      "                    (387, 477, 261, 303),\n",
      "                    (481, 570, 266, 308),\n",
      "                    (568, 651, 273, 314)]"
     ],
     "language": "python",
     "metadata": {},
     "outputs": [],
     "prompt_number": 3
    },
    {
     "cell_type": "code",
     "collapsed": false,
     "input": [
      "i = image.copy()\n",
      "for y1, y2, x1, x2 in pos:\n",
      "    cv2.rectangle(i, (x1, y1), (x2, y2), (0, 255, 0))\n",
      "plt.imshow(i, 'gray')\n",
      "plt.show()"
     ],
     "language": "python",
     "metadata": {},
     "outputs": [],
     "prompt_number": 6
    }
   ],
   "metadata": {}
  }
 ]
}