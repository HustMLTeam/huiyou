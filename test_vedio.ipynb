{
 "metadata": {
  "name": "",
  "signature": "sha256:bd39c294dce446e159870ee2770108c08d83fb962e55eb25431446694d2490f4"
 },
 "nbformat": 3,
 "nbformat_minor": 0,
 "worksheets": [
  {
   "cells": [
    {
     "cell_type": "code",
     "collapsed": false,
     "input": [
      "import numpy as np\n",
      "import cv2\n",
      "from scipy.signal import convolve2d\n",
      "from collections import deque"
     ],
     "language": "python",
     "metadata": {},
     "outputs": [],
     "prompt_number": 1
    },
    {
     "cell_type": "code",
     "collapsed": false,
     "input": [
      "def show_im(mul, frame=None, *imgs):\n",
      "    result = None\n",
      "    height = imgs[0].shape[0]\n",
      "    cut = cv2.cvtColor(np.ones((height, 1), dtype='uint8') * 255, cv2.COLOR_GRAY2BGR)\n",
      "    for img in imgs:\n",
      "        if img.ndim == 2:\n",
      "            img = cv2.cvtColor(img.astype('uint8'), cv2.COLOR_GRAY2BGR)\n",
      "            \n",
      "        if result is None:\n",
      "            result = img\n",
      "        else:\n",
      "            result = np.hstack((result, cut, img))\n",
      "    result = cv2.resize(result, None, fx=mul, fy=mul)\n",
      "    \n",
      "    if frame is not None:\n",
      "        new_width = result.shape[1]\n",
      "        new_height = int(frame.shape[0] / frame.shape[1] * new_width)\n",
      "        new_frame = cv2.resize(frame, (new_width, new_height))\n",
      "        result = np.vstack((new_frame, result))\n",
      "        \n",
      "    cv2.imshow('frame', result)"
     ],
     "language": "python",
     "metadata": {},
     "outputs": [],
     "prompt_number": 2
    },
    {
     "cell_type": "code",
     "collapsed": false,
     "input": [
      "# \u627e\u5230\u8fde\u7eed\u7684\u6a2a\u5411\u7684\u4e09\u4e2a\n",
      "def horizontal_filter(src):\n",
      "    result = convolve2d(src, np.ones((1, 5))/5, mode='same')\n",
      "    ret, result = cv2.threshold(np.uint8(result), 200, 255, cv2.THRESH_BINARY)\n",
      "    return result"
     ],
     "language": "python",
     "metadata": {},
     "outputs": [],
     "prompt_number": 3
    },
    {
     "cell_type": "code",
     "collapsed": false,
     "input": [
      "loc1 = [(2, 35, 88, 108),\n",
      "(35, 69, 85, 105),\n",
      "(72, 105, 84, 105),\n",
      "(108, 142, 84, 104),\n",
      "(145, 178, 84, 104),\n",
      "(179, 213, 87, 108),\n",
      "(214, 246, 89, 109)]"
     ],
     "language": "python",
     "metadata": {},
     "outputs": [],
     "prompt_number": 9
    },
    {
     "cell_type": "code",
     "collapsed": false,
     "input": [
      "init_level = 160"
     ],
     "language": "python",
     "metadata": {},
     "outputs": [],
     "prompt_number": 7
    },
    {
     "cell_type": "code",
     "collapsed": false,
     "input": [
      "# \u4e0d\u5747\u8861\u5316\n",
      "levels = deque([init_level] * 40, maxlen=40)\n",
      "first_avg = []\n",
      "background = None\n",
      "\n",
      "speed = 1\n",
      "count = 0\n",
      "\n",
      "p = 0.2\n",
      "t = 30\n",
      "d = 50\n",
      "threshold = 30\n",
      "\n",
      "cap = cv2.VideoCapture('data/tube.mp4')\n",
      "while cap.isOpened():\n",
      "    count += 1\n",
      "    ret, frame = cap.read()\n",
      "    if not ret:\n",
      "        print('quit')\n",
      "        break\n",
      "\n",
      "    origin = np.zeros((250, 60, 3), 'uint8')\n",
      "    blue = np.zeros((250, 60), 'float64')\n",
      "    if background is None:\n",
      "        for i, (y1, y2, x1, x2) in enumerate(loc1):\n",
      "            wind = frame[y1:y2, x1:x2]\n",
      "            origin[y1:y2, x1-80:x2-80] = wind\n",
      "            wind = wind[:, :, 0]\n",
      "#             wind = cv2.equalizeHist(wind)\n",
      "            blue[y1:y2, x1-80:x2-80] = wind\n",
      "#             first_avg.append(around_avg(wind))\n",
      "        background = blue.copy()\n",
      "    else:\n",
      "        for i, (y1, y2, x1, x2) in enumerate(loc1):\n",
      "            wind = frame[y1:y2, x1:x2]\n",
      "            origin[y1:y2, x1-80:x2-80] = wind\n",
      "            wind = wind[:, :, 0].astype('float64')\n",
      "#             avg = around_avg(wind)\n",
      "            blue[y1:y2, x1-80:x2-80] = wind\n",
      "\n",
      "    \n",
      "    foreground = np.abs(blue - background)\n",
      "#     foreground[foreground<=t] = 0\n",
      "    \n",
      "    if not count % 20:\n",
      "        background = p * blue + (1 - p) * background\n",
      "#         tmp = p * blue + (1 - p) * background\n",
      "#         background[foreground==0] = tmp[foreground==0]\n",
      "        \n",
      "    sobel = cv2.Sobel(foreground, cv2.CV_16S, 0, 1)\n",
      "#     sobel[:init_level] = np.where(sobel[:init_level] > threshold, 255, 0).astype('uint8')\n",
      "#     sobel[init_level:] = np.where(sobel[init_level:] < -threshold, 255, 0).astype('uint8')\n",
      "    sobel = np.where(np.abs(sobel) > threshold, 255, 0).astype('uint8')\n",
      "    \n",
      "    sobel_bl = horizontal_filter(sobel)\n",
      "\n",
      "    cur_level = int(np.mean(levels))\n",
      "    if np.any(sobel_bl[cur_level-50:cur_level+50]):\n",
      "        levels.append(np.median(np.where(sobel_bl[cur_level-50:cur_level+50])[0]) + cur_level - 50)\n",
      "        \n",
      "#     if count < 15000:\n",
      "#         continue\n",
      "    \n",
      "    cv2.line(origin, (0, cur_level), (30, cur_level), (0, 255, 0))\n",
      "        \n",
      "    show_im(1, None, origin, blue, background, foreground * 10, sobel, sobel_bl)\n",
      "        \n",
      "    key = cv2.waitKey(speed) & 0xff\n",
      "    if key == ord('q'):\n",
      "        break\n",
      "    elif key == ord('p'):\n",
      "        cv2.waitKey()\n",
      "    elif key == ord('c'):\n",
      "        speed = 40 - speed\n",
      "cap.release()\n",
      "cv2.destroyAllWindows()"
     ],
     "language": "python",
     "metadata": {},
     "outputs": [],
     "prompt_number": 19
    },
    {
     "cell_type": "code",
     "collapsed": false,
     "input": [
      "from detect import Detector"
     ],
     "language": "python",
     "metadata": {},
     "outputs": [],
     "prompt_number": 5
    },
    {
     "cell_type": "code",
     "collapsed": false,
     "input": [
      "tube1 = Detector(tube[1], window[1], scale[1], 450, 33)"
     ],
     "language": "python",
     "metadata": {},
     "outputs": [],
     "prompt_number": 6
    },
    {
     "cell_type": "code",
     "collapsed": false,
     "input": [],
     "language": "python",
     "metadata": {},
     "outputs": []
    },
    {
     "cell_type": "code",
     "collapsed": false,
     "input": [
      "# s = [np.s_[a:b, c:d] for a, b, c, d in [\n",
      "#         [49, 77, 48, 61],\n",
      "#         [85, 112, 46, 58],\n",
      "#         [121, 148, 45, 56],\n",
      "#         [159, 183, 47, 56],\n",
      "#         [192, 216, 47, 59],\n",
      "\n",
      "#         [5, 33, 92, 105],\n",
      "#         [40, 68, 90, 103],\n",
      "#         [76, 105, 89, 101],\n",
      "#         [113, 141, 89, 101],\n",
      "#         [150, 177, 90, 102],\n",
      "#         [185, 210, 92, 104],\n",
      "#         [219, 244, 95, 107]]]"
     ],
     "language": "python",
     "metadata": {},
     "outputs": []
    },
    {
     "cell_type": "code",
     "collapsed": false,
     "input": [
      "blue = np.zeros((250, 30), 'uint8')"
     ],
     "language": "python",
     "metadata": {},
     "outputs": [],
     "prompt_number": 65
    },
    {
     "cell_type": "code",
     "collapsed": false,
     "input": [
      "pos = [(7, 92, 269, 308),\n",
      "                    (94, 184, 261, 302),\n",
      "                    (190, 284, 259, 302),\n",
      "                    (288, 374, 260, 299),\n",
      "                    (387, 477, 261, 303),\n",
      "                    (481, 570, 266, 308),\n",
      "                    (568, 651, 273, 314)]"
     ],
     "language": "python",
     "metadata": {},
     "outputs": [],
     "prompt_number": 13
    },
    {
     "cell_type": "code",
     "collapsed": false,
     "input": [
      "# windows = np.zeros((670, 60, 3), 'uint8')\n",
      "# blue = np.zeros((670, 60), 'uint8')"
     ],
     "language": "python",
     "metadata": {},
     "outputs": [],
     "prompt_number": 23
    },
    {
     "cell_type": "code",
     "collapsed": false,
     "input": [
      "# \u7b2c\u4e8c\u5217\u7b2c3\u4e2a\u7a97\u53e3\n",
      "cap = cv2.VideoCapture('data/tube1.mp4')\n",
      "\n",
      "count = 0\n",
      "levels = deque([450]*40, maxlen=40)\n",
      "\n",
      "p = 0.1\n",
      "t = 5\n",
      "speed = 1\n",
      "\n",
      "while cap.isOpened():\n",
      "    count += 1\n",
      "    \n",
      "    ret, frame = cap.read()\n",
      "    if not ret:\n",
      "        print('quit')\n",
      "        break\n",
      "        \n",
      "    windows = np.zeros((670, 60, 3), 'uint8')\n",
      "    blue = np.zeros((670, 60), 'uint8')\n",
      "    for y1, y2, x1, x2 in pos:\n",
      "        windows[y1:y2, x1-255:x2-255] = frame[y1:y2, x1:x2]\n",
      "        blue[y1:y2, x1-255:x2-255] = frame[y1:y2, x1:x2, 0]\n",
      "    \n",
      "    if count == 1:\n",
      "        background = blue.astype('float64')\n",
      "#         first_avg = tube.mean()\n",
      "#     else:\n",
      "#         blue = blue + (first_avg - tube.mean()) / std * 100\n",
      "        \n",
      "#     background_equ = cv2.equalizeHist(background.astype('uint8')).astype('float64')\n",
      "#     blue_equ = cv2.equalizeHist(blue.astype('uint8')).astype('float64')\n",
      "        \n",
      "    foreground = np.absolute(blue - background).astype('uint8')\n",
      "    foreground[foreground<=t] = 0\n",
      "    \n",
      "    if not count % 20:\n",
      "        tmp = p * blue + (1 - p) * background\n",
      "        background[foreground==0] = tmp[foreground==0]\n",
      "    \n",
      "#     if not count % 200:\n",
      "#         print(background.mean())\n",
      "        \n",
      "#     fore_bl = cv2.medianBlur(foreground, 3)\n",
      "    sobel_ = cv2.Sobel(foreground, cv2.CV_16S, 0, 1)\n",
      "    sobel = np.where(sobel_>100, 255, 0).astype('uint8')\n",
      "    sobel_bl = median_filter(sobel)\n",
      "    if np.any(sobel_bl):\n",
      "        levels.append(sobel_bl.sum(axis=1).argmax())\n",
      "    \n",
      "\n",
      "    if count < 0:\n",
      "        continue\n",
      "    else:\n",
      "        key = cv2.waitKey(speed) & 0xff\n",
      "        \n",
      "#     cv2.line(window, (0, int(np.mean(levels))), (10, int(np.mean(levels))), (0, 255, 0))\n",
      "\n",
      "    \n",
      "    cv2.line(windows, (0, int(np.mean(levels))), (30, int(np.mean(levels))), (0, 255, 0))    \n",
      "    show_im(1, None, windows, blue, \n",
      "            background.astype('uint8'), foreground, sobel, sobel_bl)\n",
      "\n",
      "#     key = cv2.waitKey(speed) & 0xff\n",
      "    if key == ord('q'):\n",
      "        print('quit')\n",
      "        break\n",
      "    elif key == ord('p'):\n",
      "        print('pause')\n",
      "        cv2.waitKey()\n",
      "    elif key == ord('c'):\n",
      "        print('change speed')\n",
      "        speed = 40 - speed\n",
      "        \n",
      "cap.release()\n",
      "cv2.destroyAllWindows()"
     ],
     "language": "python",
     "metadata": {},
     "outputs": [
      {
       "output_type": "stream",
       "stream": "stdout",
       "text": [
        "pause\n",
        "quit"
       ]
      },
      {
       "output_type": "stream",
       "stream": "stdout",
       "text": [
        "\n"
       ]
      }
     ],
     "prompt_number": 32
    },
    {
     "cell_type": "code",
     "collapsed": false,
     "input": [
      "# \u7b2c\u4e8c\u5217\u7b2c3\u4e2a\u7a97\u53e3\n",
      "cap = cv2.VideoCapture('data/tube.mp4')\n",
      "\n",
      "count = 0\n",
      "levels = deque([0], maxlen=40)\n",
      "\n",
      "p = 0.1\n",
      "t = 5\n",
      "speed = 1\n",
      "\n",
      "while cap.isOpened():\n",
      "    count += 1\n",
      "    \n",
      "    ret, frame = cap.read()\n",
      "    if not ret:\n",
      "        print('quit')\n",
      "        break\n",
      "        \n",
      "    for y1, y2, x1, x2 in pos:\n",
      "        windows[y1:y2, x1-85:x2-85] = \n",
      "        blue[y1:y2, x1-85:x2-85] = cv2.equalizeHist(frame[y1:y2, x1:x2, 0])\n",
      "        \n",
      "#     tube = frame[:, 33:70, 0]\n",
      "#     window = frame[105:150, 85:103]\n",
      "#     blue = window[:, :, 0]\n",
      "\n",
      "#     blue = cv2.equalizeHist(blue).astype('float64')\n",
      "\n",
      "\n",
      "#     std = blue.std()\n",
      "#     blue = blue / std * 100\n",
      "    \n",
      "    if count == 1:\n",
      "        background = blue.astype('float64')\n",
      "#         first_avg = tube.mean()\n",
      "#     else:\n",
      "#         blue = blue + (first_avg - tube.mean()) / std * 100\n",
      "        \n",
      "#     background_equ = cv2.equalizeHist(background.astype('uint8')).astype('float64')\n",
      "#     blue_equ = cv2.equalizeHist(blue.astype('uint8')).astype('float64')\n",
      "        \n",
      "    foreground = np.absolute(blue - background).astype('uint8')\n",
      "    foreground[foreground<=t] = 0\n",
      "    \n",
      "    if not count % 20:\n",
      "        tmp = p * blue + (1 - p) * background\n",
      "        background[foreground==0] = tmp[foreground==0]\n",
      "    \n",
      "#     if not count % 200:\n",
      "#         print(background.mean())\n",
      "        \n",
      "#     fore_bl = cv2.medianBlur(foreground, 3)\n",
      "    sobel_ = cv2.Sobel(foreground, cv2.CV_16S, 0, 1)\n",
      "    sobel = np.where(sobel_>100, 255, 0).astype('uint8')\n",
      "    sobel_bl = median_filter(sobel)\n",
      "    if np.any(sobel_bl):\n",
      "        levels.append(sobel_bl.sum(axis=1).argmax())\n",
      "    \n",
      "#     if np.any(sobel_bl):\n",
      "#         print(sobel_)\n",
      "#     if not count % 200:\n",
      "#         print(foreground.mean())\n",
      "#     if count < 4500 or count > 6000:\n",
      "#         if np.any(sobel_bl):\n",
      "#             print(count)\n",
      "#             print(sobel_)\n",
      "#             cv2.waitKey()\n",
      "\n",
      "    if count < 0:\n",
      "        continue\n",
      "    else:\n",
      "        key = cv2.waitKey(speed) & 0xff\n",
      "        \n",
      "#     cv2.line(window, (0, int(np.mean(levels))), (10, int(np.mean(levels))), (0, 255, 0))\n",
      "        \n",
      "    show_im(1, None, blue, \n",
      "            background.astype('uint8'), foreground, sobel, sobel_bl)\n",
      "\n",
      "#     key = cv2.waitKey(speed) & 0xff\n",
      "    if key == ord('q'):\n",
      "        print('quit')\n",
      "        break\n",
      "    elif key == ord('p'):\n",
      "        print('pause')\n",
      "        cv2.waitKey()\n",
      "    elif key == ord('c'):\n",
      "        print('change speed')\n",
      "        speed = 40 - speed\n",
      "        \n",
      "cap.release()\n",
      "cv2.destroyAllWindows()"
     ],
     "language": "python",
     "metadata": {},
     "outputs": [
      {
       "ename": "SyntaxError",
       "evalue": "invalid syntax (<ipython-input-25-656e379a0807>, line 20)",
       "output_type": "pyerr",
       "traceback": [
        "\u001b[0;36m  File \u001b[0;32m\"<ipython-input-25-656e379a0807>\"\u001b[0;36m, line \u001b[0;32m20\u001b[0m\n\u001b[0;31m    windows[y1:y2, x1-85:x2-85] =\u001b[0m\n\u001b[0m                                  ^\u001b[0m\n\u001b[0;31mSyntaxError\u001b[0m\u001b[0;31m:\u001b[0m invalid syntax\n"
       ]
      }
     ],
     "prompt_number": 25
    },
    {
     "cell_type": "code",
     "collapsed": false,
     "input": [
      "pos = [[5, 33, 92, 105],\n",
      "        [40, 68, 90, 103],\n",
      "        [76, 105, 89, 101],\n",
      "        [113, 141, 89, 101],\n",
      "        [150, 177, 90, 102],\n",
      "        [185, 210, 92, 104],\n",
      "        [219, 244, 95, 107]]"
     ],
     "language": "python",
     "metadata": {},
     "outputs": [],
     "prompt_number": 5
    },
    {
     "cell_type": "code",
     "collapsed": false,
     "input": [
      "blue = np.zeros((250, 30), 'uint8')"
     ],
     "language": "python",
     "metadata": {},
     "outputs": [],
     "prompt_number": 8
    },
    {
     "cell_type": "code",
     "collapsed": false,
     "input": [
      "pos = [(7, 92, 269, 308),\n",
      "                    (94, 184, 261, 302),\n",
      "                    (190, 284, 259, 302),\n",
      "                    (288, 374, 260, 299),\n",
      "                    (387, 477, 261, 303),\n",
      "                    (481, 570, 266, 308),\n",
      "                    (568, 651, 273, 314)]\n",
      "cap = cv2.VideoCapture('data/tube1.mp4')\n",
      "\n",
      "fgbg4000 = cv2.createBackgroundSubtractorMOG2(history=4000, varThreshold=8, detectShadows=False)\n",
      "fgbg4000_ = cv2.createBackgroundSubtractorMOG2(history=4000, varThreshold=4, detectShadows=False)\n",
      "# fgbg10000= cv2.createBackgroundSubtractorMOG2(history=10000, varThreshold=16, detectShadows=False)\n",
      "\n",
      "speed = 1\n",
      "count = 0\n",
      "\n",
      "while(1):\n",
      "    count += 1\n",
      "    ret, frame = cap.read()\n",
      "    if not ret:\n",
      "        print('quit')\n",
      "        break\n",
      "        \n",
      "#     tube = frame[:, 33:70, 0]\n",
      "#     window = frame[113:141, 89:101]\n",
      "#     blue = window[:, :, 0]\n",
      "    for y1, y2, x1, x2 in pos:\n",
      "        fra[y1:y2, x1-255:x2-255] = frame[y1:y2, x1:x2, 0]\n",
      "    \n",
      "#     if count == 1:\n",
      "#         std = blue.std()\n",
      "#     blue = blue / std * 100\n",
      "    \n",
      "#     blue_equ = cv2.equalizeHist(blue)\n",
      " \n",
      "    fgmask4000 = fgbg4000.apply(fra)\n",
      "    fgmask4000_ = fgbg4000_.apply(fra)\n",
      "#     fgmask10000= fgbg10000.apply(blue_equ)\n",
      "\n",
      "    blur = horizontal_filter(fgmask4000_)\n",
      "    \n",
      "#     if count < 16000:\n",
      "#         continue\n",
      "#     else:\n",
      "    key = cv2.waitKey(speed) & 0xff\n",
      "    \n",
      "            \n",
      "    show_im(1, None, fra, fgmask4000, fgmask4000_, blur)\n",
      "\n",
      "\n",
      "#     key = cv2.waitKey(speed) & 0xff\n",
      "    if key == ord('q'):\n",
      "        print('quit')\n",
      "        break\n",
      "    elif key == ord('p'):\n",
      "        print('pause')\n",
      "        cv2.waitKey()\n",
      "    elif key == ord('c'):\n",
      "        print('change speed')\n",
      "        speed = 40 - speed\n",
      "        \n",
      "cap.release()\n",
      "cv2.destroyAllWindows()"
     ],
     "language": "python",
     "metadata": {},
     "outputs": [
      {
       "output_type": "stream",
       "stream": "stdout",
       "text": [
        "pause\n",
        "pause"
       ]
      },
      {
       "output_type": "stream",
       "stream": "stdout",
       "text": [
        "\n",
        "pause"
       ]
      },
      {
       "output_type": "stream",
       "stream": "stdout",
       "text": [
        "\n",
        "pause"
       ]
      },
      {
       "output_type": "stream",
       "stream": "stdout",
       "text": [
        "\n",
        "pause"
       ]
      },
      {
       "output_type": "stream",
       "stream": "stdout",
       "text": [
        "\n",
        "pause"
       ]
      },
      {
       "output_type": "stream",
       "stream": "stdout",
       "text": [
        "\n",
        "pause"
       ]
      },
      {
       "output_type": "stream",
       "stream": "stdout",
       "text": [
        "\n",
        "pause"
       ]
      },
      {
       "output_type": "stream",
       "stream": "stdout",
       "text": [
        "\n",
        "pause"
       ]
      },
      {
       "output_type": "stream",
       "stream": "stdout",
       "text": [
        "\n",
        "pause"
       ]
      },
      {
       "output_type": "stream",
       "stream": "stdout",
       "text": [
        "\n",
        "pause"
       ]
      },
      {
       "output_type": "stream",
       "stream": "stdout",
       "text": [
        "\n",
        "pause"
       ]
      },
      {
       "output_type": "stream",
       "stream": "stdout",
       "text": [
        "\n",
        "pause"
       ]
      },
      {
       "output_type": "stream",
       "stream": "stdout",
       "text": [
        "\n",
        "pause"
       ]
      },
      {
       "output_type": "stream",
       "stream": "stdout",
       "text": [
        "\n",
        "pause"
       ]
      },
      {
       "output_type": "stream",
       "stream": "stdout",
       "text": [
        "\n",
        "pause"
       ]
      },
      {
       "output_type": "stream",
       "stream": "stdout",
       "text": [
        "\n",
        "pause"
       ]
      },
      {
       "output_type": "stream",
       "stream": "stdout",
       "text": [
        "\n",
        "pause"
       ]
      },
      {
       "output_type": "stream",
       "stream": "stdout",
       "text": [
        "\n",
        "pause"
       ]
      },
      {
       "output_type": "stream",
       "stream": "stdout",
       "text": [
        "\n",
        "pause"
       ]
      },
      {
       "output_type": "stream",
       "stream": "stdout",
       "text": [
        "\n",
        "quit"
       ]
      },
      {
       "output_type": "stream",
       "stream": "stdout",
       "text": [
        "\n"
       ]
      }
     ],
     "prompt_number": 28
    },
    {
     "cell_type": "code",
     "collapsed": false,
     "input": [
      "fgmask.shape"
     ],
     "language": "python",
     "metadata": {},
     "outputs": [
      {
       "metadata": {},
       "output_type": "pyout",
       "prompt_number": 21,
       "text": [
        "(720, 1280)"
       ]
      }
     ],
     "prompt_number": 21
    },
    {
     "cell_type": "code",
     "collapsed": false,
     "input": [
      "window[:, :, 0] / std * 100"
     ],
     "language": "python",
     "metadata": {},
     "outputs": [
      {
       "metadata": {},
       "output_type": "pyout",
       "prompt_number": 43,
       "text": [
        "array([[ 442.8593272 ,  410.0549326 ,  405.95438327, ...,  463.36207383,\n",
        "         537.1719617 ,  561.77525766],\n",
        "       [ 422.35658058,  393.65273529,  410.0549326 , ...,  463.36207383,\n",
        "         459.26152451,  615.0823989 ],\n",
        "       [ 418.25603125,  389.55218597,  410.0549326 , ...,  430.55767923,\n",
        "         557.67470833,  672.49008946],\n",
        "       ..., \n",
        "       [ 496.16646844,  606.88130024,  319.84284743, ...,  504.36756709,\n",
        "         471.56317249,  598.68020159],\n",
        "       [ 496.16646844,  520.7697644 ,  323.94339675, ...,  508.46811642,\n",
        "         451.06042586,  606.88130024],\n",
        "       [ 328.04394608,  336.24504473,  328.04394608, ...,  500.26701777,\n",
        "         446.95987653,  582.27800429]])"
       ]
      }
     ],
     "prompt_number": 43
    },
    {
     "cell_type": "code",
     "collapsed": false,
     "input": [
      "# \u7b2c\u4e8c\u5217\u7b2c4\u4e2a\u7a97\u53e3\n",
      "cap = cv2.VideoCapture('data/tube.mp4')\n",
      "\n",
      "count = 0\n",
      "\n",
      "p = 0.1\n",
      "t = 50\n",
      "speed = 1\n",
      "\n",
      "while cap.isOpened():\n",
      "    count += 1\n",
      "    \n",
      "    ret, frame = cap.read()\n",
      "    if not ret:\n",
      "        print('quit')\n",
      "        break\n",
      "        \n",
      "    tube = frame[:, 33:70, 0]\n",
      "    window = frame[150:177, 90:102]\n",
      "    blue = window[:, :, 0]\n",
      "    \n",
      "    blue = cv2.equalizeHist(blue).astype('float64')\n",
      "    \n",
      "    if count == 1:\n",
      "        background = blue.astype('float64')\n",
      "        first_avg = tube.mean()\n",
      "    else:\n",
      "        blue = blue + first_avg - tube.mean()\n",
      "        \n",
      "#     background_equ = cv2.equalizeHist(background.astype('uint8')).astype('float64')\n",
      "#     blue_equ = cv2.equalizeHist(blue.astype('uint8')).astype('float64')\n",
      "        \n",
      "    foreground = np.absolute(blue - background).astype('uint8')\n",
      "    foreground[foreground<=t] = 0\n",
      "    \n",
      "    if not count % 20:\n",
      "        tmp = p * blue + (1 - p) * background\n",
      "        background[foreground==0] = tmp[foreground==0]\n",
      "    \n",
      "#     if not count % 200:\n",
      "#         print(background.mean())\n",
      "        \n",
      "#     fore_bl = cv2.medianBlur(foreground, 3)\n",
      "    sobel_ = cv2.Sobel(foreground, cv2.CV_16S, 0, 1)\n",
      "    sobel = np.where(sobel_>150, 255, 0).astype('uint8')\n",
      "    sobel_bl = median_filter(sobel)\n",
      "#     if np.any(sobel_bl):\n",
      "#         print(sobel_)\n",
      "#     if not count % 200:\n",
      "#         print(foreground.mean())\n",
      "#     if count < 4500 or count > 6000:\n",
      "#         if np.any(sobel_bl):\n",
      "#             print(count)\n",
      "#             print(sobel_)\n",
      "#             cv2.waitKey()\n",
      "\n",
      "#     if count < 17000:\n",
      "#         continue\n",
      "#     else:\n",
      "#         key = cv2.waitKey(speed) & 0xff\n",
      "        \n",
      "    show_im(8, frame, window, blue.astype('uint8'), \n",
      "            background.astype('uint8'), foreground, sobel, sobel_bl)\n",
      "\n",
      "    key = cv2.waitKey(speed) & 0xff\n",
      "    if key == ord('q'):\n",
      "        print('quit')\n",
      "        break\n",
      "    elif key == ord('p'):\n",
      "        print('pause')\n",
      "        cv2.waitKey()\n",
      "    elif key == ord('c'):\n",
      "        print('change speed')\n",
      "        speed = 40 - speed\n",
      "        \n",
      "cap.release()\n",
      "cv2.destroyAllWindows()"
     ],
     "language": "python",
     "metadata": {},
     "outputs": [
      {
       "output_type": "stream",
       "stream": "stdout",
       "text": [
        "pause\n",
        "pause"
       ]
      },
      {
       "output_type": "stream",
       "stream": "stdout",
       "text": [
        "\n",
        "pause"
       ]
      },
      {
       "output_type": "stream",
       "stream": "stdout",
       "text": [
        "\n",
        "pause"
       ]
      },
      {
       "output_type": "stream",
       "stream": "stdout",
       "text": [
        "\n",
        "pause"
       ]
      },
      {
       "output_type": "stream",
       "stream": "stdout",
       "text": [
        "\n",
        "pause"
       ]
      },
      {
       "output_type": "stream",
       "stream": "stdout",
       "text": [
        "\n",
        "pause"
       ]
      },
      {
       "output_type": "stream",
       "stream": "stdout",
       "text": [
        "\n",
        "pause"
       ]
      },
      {
       "output_type": "stream",
       "stream": "stdout",
       "text": [
        "\n",
        "pause"
       ]
      },
      {
       "output_type": "stream",
       "stream": "stdout",
       "text": [
        "\n",
        "pause"
       ]
      },
      {
       "output_type": "stream",
       "stream": "stdout",
       "text": [
        "\n",
        "pause"
       ]
      },
      {
       "output_type": "stream",
       "stream": "stdout",
       "text": [
        "\n",
        "pause"
       ]
      },
      {
       "output_type": "stream",
       "stream": "stdout",
       "text": [
        "\n",
        "pause"
       ]
      },
      {
       "output_type": "stream",
       "stream": "stdout",
       "text": [
        "\n",
        "quit"
       ]
      },
      {
       "output_type": "stream",
       "stream": "stdout",
       "text": [
        "\n"
       ]
      }
     ],
     "prompt_number": 14
    },
    {
     "cell_type": "code",
     "collapsed": false,
     "input": [
      "# \u7b2c\u4e8c\u5217\u7b2c5\u4e2a\u7a97\u53e3\n",
      "cap = cv2.VideoCapture('data/tube.mp4')\n",
      "\n",
      "count = 0\n",
      "\n",
      "p = 0.1\n",
      "t = 3\n",
      "speed = 1\n",
      "\n",
      "while cap.isOpened():\n",
      "    count += 1\n",
      "    \n",
      "    ret, frame = cap.read()\n",
      "    if not ret:\n",
      "        print('quit')\n",
      "        break\n",
      "        \n",
      "    tube = frame[:, 33:70, 0]\n",
      "    window = frame[185:210, 92:104]\n",
      "    blue = window[:, :, 0]\n",
      "    \n",
      "    if count == 1:\n",
      "        background = blue.astype('float64')\n",
      "        first_avg = tube.mean()\n",
      "    else:\n",
      "        blue = blue + first_avg - tube.mean()\n",
      "        \n",
      "    background_equ = cv2.equalizeHist(background.astype('uint8')).astype('float64')\n",
      "    blue_equ = cv2.equalizeHist(blue.astype('uint8')).astype('float64')\n",
      "        \n",
      "    foreground = np.absolute(blue_equ - background_equ).astype('uint8')\n",
      "    foreground[foreground<=t] = 0\n",
      "    \n",
      "    if not count % 20:\n",
      "        tmp = p * blue + (1 - p) * background\n",
      "        background[foreground==0] = tmp[foreground==0]\n",
      "    \n",
      "#     if not count % 200:\n",
      "#         print(background.mean())\n",
      "        \n",
      "#     fore_bl = cv2.medianBlur(foreground, 3)\n",
      "    sobel_ = cv2.Sobel(foreground, cv2.CV_16S, 0, 1)\n",
      "    sobel = np.where(sobel_>150, 255, 0).astype('uint8')\n",
      "    sobel_bl = median_filter(sobel)\n",
      "#     if np.any(sobel_bl):\n",
      "#         print(sobel_)\n",
      "#     if not count % 200:\n",
      "#         print(foreground.mean())\n",
      "#     if count < 4500 or count > 6000:\n",
      "#         if np.any(sobel_bl):\n",
      "#             print(count)\n",
      "#             print(sobel_)\n",
      "#             cv2.waitKey()\n",
      "\n",
      "#     if count < 17000:\n",
      "#         continue\n",
      "#     else:\n",
      "#         key = cv2.waitKey(speed) & 0xff\n",
      "        \n",
      "    show_im(8, frame, window, blue.astype('uint8'), blue_equ.astype('uint8'),\n",
      "            background.astype('uint8'), background_equ.astype('uint8'), foreground, sobel, sobel_bl)\n",
      "\n",
      "    key = cv2.waitKey(speed) & 0xff\n",
      "    if key == ord('q'):\n",
      "        print('quit')\n",
      "        break\n",
      "    elif key == ord('p'):\n",
      "        print('pause')\n",
      "        cv2.waitKey()\n",
      "    elif key == ord('c'):\n",
      "        print('change speed')\n",
      "        speed = 40 - speed\n",
      "        \n",
      "cap.release()\n",
      "cv2.destroyAllWindows()"
     ],
     "language": "python",
     "metadata": {},
     "outputs": [
      {
       "output_type": "stream",
       "stream": "stdout",
       "text": [
        "pause\n",
        "pause"
       ]
      },
      {
       "output_type": "stream",
       "stream": "stdout",
       "text": [
        "\n",
        "quit"
       ]
      },
      {
       "output_type": "stream",
       "stream": "stdout",
       "text": [
        "\n"
       ]
      }
     ],
     "prompt_number": 4
    },
    {
     "cell_type": "code",
     "collapsed": false,
     "input": [],
     "language": "python",
     "metadata": {},
     "outputs": []
    }
   ],
   "metadata": {}
  }
 ]
}