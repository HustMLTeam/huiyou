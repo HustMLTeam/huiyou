{
 "metadata": {
  "name": "",
  "signature": "sha256:dc0a7e16b546cf2f7e24f57c8c2b95b21a210e31a3e31a435a0c7911aa6c7782"
 },
 "nbformat": 3,
 "nbformat_minor": 0,
 "worksheets": [
  {
   "cells": [
    {
     "cell_type": "code",
     "collapsed": false,
     "input": [
      "import cv2"
     ],
     "language": "python",
     "metadata": {},
     "outputs": [],
     "prompt_number": 2
    },
    {
     "cell_type": "code",
     "collapsed": false,
     "input": [
      "import matplotlib.pyplot as plt"
     ],
     "language": "python",
     "metadata": {},
     "outputs": [],
     "prompt_number": 3
    },
    {
     "cell_type": "code",
     "collapsed": false,
     "input": [
      "img1 = cv2.imread('data/window10.png', 0)\n",
      "img1 = ((img - img.min()) / (img.max() - img.min()) * 255).astype('uint8')\n",
      "img2 = cv2.imread('data/window10.png', 0)\n",
      "img2 = ((img - img.min()) / (img.max() - img.min()) * 255).astype('uint8')"
     ],
     "language": "python",
     "metadata": {},
     "outputs": [],
     "prompt_number": 24
    },
    {
     "cell_type": "code",
     "collapsed": false,
     "input": [
      "img1_e = cv2.Canny(img, 120, 175, L2gradient=True)\n",
      "img2_e = cv2.Canny(img, 120, 175, L2gradient=True)\n",
      "\n",
      "plt.subplot(221),plt.imshow(img1,cmap = 'gray')\n",
      "plt.title('Original Image'), plt.xticks([]), plt.yticks([])\n",
      "plt.subplot(222),plt.imshow(img1_e,cmap = 'gray')\n",
      "plt.title('Edge Image'), plt.xticks([]), plt.yticks([])\n",
      "plt.subplot(223),plt.imshow(img2,cmap = 'gray')\n",
      "plt.title('Original Image'), plt.xticks([]), plt.yticks([])\n",
      "plt.subplot(224),plt.imshow(img2_e,cmap = 'gray')\n",
      "plt.title('Edge Image'), plt.xticks([]), plt.yticks([])\n",
      "\n",
      "plt.show()"
     ],
     "language": "python",
     "metadata": {},
     "outputs": []
    },
    {
     "cell_type": "code",
     "collapsed": false,
     "input": [],
     "language": "python",
     "metadata": {},
     "outputs": [],
     "prompt_number": 4
    }
   ],
   "metadata": {}
  }
 ]
}