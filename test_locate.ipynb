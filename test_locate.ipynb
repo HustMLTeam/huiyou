{
 "metadata": {
  "name": "",
  "signature": "sha256:f2203df3b391ed46ddd2ef63907b8f999d3eba4f2108b13f9cf9448afd2299fd"
 },
 "nbformat": 3,
 "nbformat_minor": 0,
 "worksheets": [
  {
   "cells": [
    {
     "cell_type": "code",
     "collapsed": false,
     "input": [
      "from detect import LevelDetector"
     ],
     "language": "python",
     "metadata": {},
     "outputs": [],
     "prompt_number": 1
    },
    {
     "cell_type": "code",
     "collapsed": false,
     "input": [
      "import matplotlib.pyplot as plt\n",
      "import numpy as np\n",
      "from scipy import misc"
     ],
     "language": "python",
     "metadata": {},
     "outputs": [],
     "prompt_number": 2
    },
    {
     "cell_type": "code",
     "collapsed": false,
     "input": [
      "img = misc.imread('data/tube.jpg', mode='L')"
     ],
     "language": "python",
     "metadata": {},
     "outputs": [],
     "prompt_number": 3
    },
    {
     "cell_type": "code",
     "collapsed": false,
     "input": [
      "det = LevelDetector(tube_extract='sift', tube_classify='svm', window_extract='lbp', window_classify='svm')"
     ],
     "language": "python",
     "metadata": {},
     "outputs": [],
     "prompt_number": 4
    },
    {
     "cell_type": "code",
     "collapsed": false,
     "input": [
      "####################### \u5b9a\u4f4d\u4e24\u4e2a\u6db2\u4f4d\u4eea #####################"
     ],
     "language": "python",
     "metadata": {},
     "outputs": []
    },
    {
     "cell_type": "code",
     "collapsed": false,
     "input": [
      "positions = det.locate_tube(img)\n",
      "print(positions)"
     ],
     "language": "python",
     "metadata": {},
     "outputs": [],
     "prompt_number": 5
    },
    {
     "cell_type": "code",
     "collapsed": false,
     "input": [
      "fig = plt.figure()\n",
      "for i, (y_start, y_end, x_start, x_end) in enumerate(positions):\n",
      "    ax = fig.add_subplot(1, 2, i+1)\n",
      "    ax.imshow(img[y_start:y_end, x_start:x_end], cmap='gray')\n",
      "fig.show()"
     ],
     "language": "python",
     "metadata": {},
     "outputs": [],
     "prompt_number": 15
    },
    {
     "cell_type": "code",
     "collapsed": false,
     "input": [
      "tube1 = img[positions[0][0]:positions[0][1], positions[0][2]:positions[0][3]]\n",
      "tube2 = img[positions[1][0]:positions[1][1], positions[1][2]:positions[1][3]]"
     ],
     "language": "python",
     "metadata": {},
     "outputs": [],
     "prompt_number": 10
    },
    {
     "cell_type": "code",
     "collapsed": false,
     "input": [
      "##################### \u7b2c\u4e00\u4e2a\u6db2\u4f4d\u4eea\u4e0a\u5b9a\u4f4d5\u4e2a\u7a97\u53e3 ##################"
     ],
     "language": "python",
     "metadata": {},
     "outputs": []
    },
    {
     "cell_type": "code",
     "collapsed": false,
     "input": [
      "pos = det.locate_window(tube1, 5)\n",
      "print(pos)"
     ],
     "language": "python",
     "metadata": {},
     "outputs": [
      {
       "output_type": "stream",
       "stream": "stdout",
       "text": [
        "[[ 45  78  10  30]\n",
        " [152 186   8  28]\n",
        " [118 151   7  26]\n",
        " [ 81 115   8  27]\n",
        " [187 221   9  29]]\n"
       ]
      }
     ],
     "prompt_number": 16
    },
    {
     "cell_type": "code",
     "collapsed": false,
     "input": [
      "fig = plt.figure()\n",
      "for i, (y_start, y_end, x_start, x_end) in enumerate(pos):\n",
      "    ax = fig.add_subplot(1, 5, i+1)\n",
      "    ax.imshow(tube1[y_start:y_end, x_start:x_end], cmap='gray')\n",
      "fig.show()"
     ],
     "language": "python",
     "metadata": {},
     "outputs": [],
     "prompt_number": 17
    },
    {
     "cell_type": "code",
     "collapsed": false,
     "input": [
      "##################### \u7b2c\u4e8c\u4e2a\u6db2\u4f4d\u4eea\u4e0a\u5b9a\u4f4d7\u4e2a\u7a97\u53e3 ##################"
     ],
     "language": "python",
     "metadata": {},
     "outputs": []
    },
    {
     "cell_type": "code",
     "collapsed": false,
     "input": [
      "pos = det.locate_window(tube2, 7)\n",
      "print(pos)"
     ],
     "language": "python",
     "metadata": {},
     "outputs": [
      {
       "output_type": "stream",
       "stream": "stdout",
       "text": [
        "[[109 141   6  26]\n",
        " [ 36  70   7  27]\n",
        " [214 245  11  31]\n",
        " [146 179   6  26]\n",
        " [ 74 107   6  26]\n",
        " [179 213   9  29]\n",
        " [  2  34  10  31]]\n"
       ]
      }
     ],
     "prompt_number": 18
    },
    {
     "cell_type": "code",
     "collapsed": false,
     "input": [
      "fig = plt.figure()\n",
      "for i, (y_start, y_end, x_start, x_end) in enumerate(pos):\n",
      "    ax = fig.add_subplot(1, 7, i+1)\n",
      "    ax.imshow(tube2[y_start:y_end, x_start:x_end], cmap='gray')\n",
      "fig.show()"
     ],
     "language": "python",
     "metadata": {},
     "outputs": [],
     "prompt_number": 20
    }
   ],
   "metadata": {}
  }
 ]
}