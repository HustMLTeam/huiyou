{
 "metadata": {
  "name": "",
  "signature": "sha256:b0e242bc112f1485172a64ec140f65ac2fe7188eda1cb88edff7b5b3f582aaea"
 },
 "nbformat": 3,
 "nbformat_minor": 0,
 "worksheets": [
  {
   "cells": [
    {
     "cell_type": "code",
     "collapsed": false,
     "input": [
      "from classifier import Svm\n",
      "from feature_extractor import Sift\n",
      "from slide_window import SlideWindow\n",
      "from decision import raw"
     ],
     "language": "python",
     "metadata": {},
     "outputs": [],
     "prompt_number": 1
    },
    {
     "cell_type": "code",
     "collapsed": false,
     "input": [
      "import cv2"
     ],
     "language": "python",
     "metadata": {},
     "outputs": [],
     "prompt_number": 2
    },
    {
     "cell_type": "code",
     "collapsed": false,
     "input": [
      "img = cv2.imread('data/tube.jpg', 0)"
     ],
     "language": "python",
     "metadata": {},
     "outputs": [],
     "prompt_number": 3
    },
    {
     "cell_type": "code",
     "collapsed": false,
     "input": [
      "s_win = SlideWindow(Sift().tube(), Svm().tube(), raw, width_min=20, width_max=45, width_inc=10, height_min=210,\n",
      "                    height_max=250, height_inc=10, x_step=3, y_step=10)"
     ],
     "language": "python",
     "metadata": {},
     "outputs": [],
     "prompt_number": 15
    },
    {
     "cell_type": "code",
     "collapsed": false,
     "input": [
      "r = s_win.slide(img[:, 20:140])"
     ],
     "language": "python",
     "metadata": {},
     "outputs": [
      {
       "output_type": "stream",
       "stream": "stdout",
       "text": [
        "15 20 30 210\n",
        "15 30 30 210\n",
        "15 40 30 210\n",
        "18"
       ]
      },
      {
       "output_type": "stream",
       "stream": "stdout",
       "text": [
        " 10 30 210\n",
        "18 20 30 210\n",
        "18 30 30 210\n",
        "18 40 30 210\n",
        "18 50 30 210\n",
        "18"
       ]
      },
      {
       "output_type": "stream",
       "stream": "stdout",
       "text": [
        " 60 30 210\n",
        "21 20 30 210\n",
        "21 30 30 210\n",
        "21"
       ]
      },
      {
       "output_type": "stream",
       "stream": "stdout",
       "text": [
        " 40 30 210\n",
        "24"
       ]
      },
      {
       "output_type": "stream",
       "stream": "stdout",
       "text": [
        " 30 30 210\n",
        "24 40 30 210\n",
        "63"
       ]
      },
      {
       "output_type": "stream",
       "stream": "stdout",
       "text": [
        " 10 30 210\n",
        "63 20 30 210\n",
        "63 30 30 210\n",
        "15"
       ]
      },
      {
       "output_type": "stream",
       "stream": "stdout",
       "text": [
        " 20 30 220\n",
        "15 30 30 220\n",
        "18 10 30 220\n",
        "18"
       ]
      },
      {
       "output_type": "stream",
       "stream": "stdout",
       "text": [
        " 20 30 220\n",
        "18 30 30 220\n",
        "18 40 30 220\n",
        "18 50 30 220\n",
        "21"
       ]
      },
      {
       "output_type": "stream",
       "stream": "stdout",
       "text": [
        " 20 30 220\n",
        "21 30 30 220\n",
        "21 40 30 220\n",
        "24"
       ]
      },
      {
       "output_type": "stream",
       "stream": "stdout",
       "text": [
        " 30 30 220\n",
        "63"
       ]
      },
      {
       "output_type": "stream",
       "stream": "stdout",
       "text": [
        " 10 30 220\n",
        "63 20 30 220\n",
        "63 30 30 220\n",
        "15"
       ]
      },
      {
       "output_type": "stream",
       "stream": "stdout",
       "text": [
        " 20 30 230\n",
        "18 10 30 230\n",
        "18"
       ]
      },
      {
       "output_type": "stream",
       "stream": "stdout",
       "text": [
        " 20 30 230\n",
        "18 30 30 230\n",
        "18 40 30 230\n",
        "21"
       ]
      },
      {
       "output_type": "stream",
       "stream": "stdout",
       "text": [
        " 20 30 230\n",
        "21 30 30 230\n",
        "21 40 30 230\n",
        "63"
       ]
      },
      {
       "output_type": "stream",
       "stream": "stdout",
       "text": [
        " 10 30 230\n",
        "63 20 30 230\n",
        "63 30 30 230\n",
        "18"
       ]
      },
      {
       "output_type": "stream",
       "stream": "stdout",
       "text": [
        " 10 30 240\n",
        "18 20 30 240\n",
        "18 30 30 240\n",
        "21"
       ]
      },
      {
       "output_type": "stream",
       "stream": "stdout",
       "text": [
        " 20 30 240\n",
        "21 30 30 240\n",
        "63"
       ]
      },
      {
       "output_type": "stream",
       "stream": "stdout",
       "text": [
        " 10 30 240\n",
        "63 20 30 240\n",
        "12"
       ]
      },
      {
       "output_type": "stream",
       "stream": "stdout",
       "text": [
        " 20 40 210\n",
        "12 30 40 210\n",
        "12 40 40 210\n",
        "15"
       ]
      },
      {
       "output_type": "stream",
       "stream": "stdout",
       "text": [
        " 20 40 210\n",
        "15 30 40 210\n",
        "15 40 40 210\n",
        "18"
       ]
      },
      {
       "output_type": "stream",
       "stream": "stdout",
       "text": [
        " 20 40 210\n",
        "18 30 40 210\n",
        "18 40 40 210\n",
        "21"
       ]
      },
      {
       "output_type": "stream",
       "stream": "stdout",
       "text": [
        " 20 40 210\n",
        "21 30 40 210\n",
        "21 40 40 210\n",
        "21 50 40 210\n",
        "12"
       ]
      },
      {
       "output_type": "stream",
       "stream": "stdout",
       "text": [
        " 20 40 220\n",
        "12 30 40 220\n",
        "15"
       ]
      },
      {
       "output_type": "stream",
       "stream": "stdout",
       "text": [
        " 20 40 220\n",
        "15 30 40 220\n",
        "15 40 40 220\n",
        "18"
       ]
      },
      {
       "output_type": "stream",
       "stream": "stdout",
       "text": [
        " 20 40 220\n",
        "18 30 40 220\n",
        "18 40 40 220\n",
        "21"
       ]
      },
      {
       "output_type": "stream",
       "stream": "stdout",
       "text": [
        " 20 40 220\n",
        "21 30 40 220\n",
        "21 40 40 220\n",
        "12"
       ]
      },
      {
       "output_type": "stream",
       "stream": "stdout",
       "text": [
        " 20 40 230\n",
        "15"
       ]
      },
      {
       "output_type": "stream",
       "stream": "stdout",
       "text": [
        " 20 40 230\n",
        "15 30 40 230\n",
        "15 40 40 230\n",
        "18"
       ]
      },
      {
       "output_type": "stream",
       "stream": "stdout",
       "text": [
        " 20 40 230\n",
        "18 30 40 230\n",
        "18 40 40 230\n",
        "21"
       ]
      },
      {
       "output_type": "stream",
       "stream": "stdout",
       "text": [
        " 20 40 230\n",
        "21 30 40 230\n",
        "21 40 40 230\n",
        "15"
       ]
      },
      {
       "output_type": "stream",
       "stream": "stdout",
       "text": [
        " 30 40 240\n",
        "18 20 40 240\n",
        "18"
       ]
      },
      {
       "output_type": "stream",
       "stream": "stdout",
       "text": [
        " 30 40 240\n",
        "21"
       ]
      },
      {
       "output_type": "stream",
       "stream": "stdout",
       "text": [
        " 30 40 240\n"
       ]
      }
     ],
     "prompt_number": 16
    },
    {
     "cell_type": "code",
     "collapsed": false,
     "input": [
      "from sklearn.cluster import KMeans"
     ],
     "language": "python",
     "metadata": {},
     "outputs": [],
     "prompt_number": 17
    },
    {
     "cell_type": "code",
     "collapsed": false,
     "input": [
      "cluster = KMeans(n_clusters=2, random_state=42)"
     ],
     "language": "python",
     "metadata": {},
     "outputs": [],
     "prompt_number": 18
    },
    {
     "cell_type": "code",
     "collapsed": false,
     "input": [
      "cluster.fit_predict(r)"
     ],
     "language": "python",
     "metadata": {},
     "outputs": [
      {
       "metadata": {},
       "output_type": "pyout",
       "prompt_number": 19,
       "text": [
        "array([0, 0, 0, 0, 0, 0, 0, 0, 0, 0, 0, 0, 0, 0, 1, 1, 1, 0, 0, 0, 0, 0, 0,\n",
        "       0, 0, 0, 0, 0, 1, 1, 1, 0, 0, 0, 0, 0, 0, 0, 0, 1, 1, 1, 0, 0, 0, 0,\n",
        "       0, 1, 1, 0, 0, 0, 0, 0, 0, 0, 0, 0, 0, 0, 0, 0, 0, 0, 0, 0, 0, 0, 0,\n",
        "       0, 0, 0, 0, 0, 0, 0, 0, 0, 0, 0, 0, 0, 0, 0, 0, 0, 0], dtype=int32)"
       ]
      }
     ],
     "prompt_number": 19
    },
    {
     "cell_type": "code",
     "collapsed": false,
     "input": [
      "i = _"
     ],
     "language": "python",
     "metadata": {},
     "outputs": [],
     "prompt_number": 20
    },
    {
     "cell_type": "code",
     "collapsed": false,
     "input": [
      "r[i==1]"
     ],
     "language": "python",
     "metadata": {},
     "outputs": [
      {
       "metadata": {},
       "output_type": "pyout",
       "prompt_number": 21,
       "text": [
        "array([[ 63,  10,  30, 210],\n",
        "       [ 63,  20,  30, 210],\n",
        "       [ 63,  30,  30, 210],\n",
        "       [ 63,  10,  30, 220],\n",
        "       [ 63,  20,  30, 220],\n",
        "       [ 63,  30,  30, 220],\n",
        "       [ 63,  10,  30, 230],\n",
        "       [ 63,  20,  30, 230],\n",
        "       [ 63,  30,  30, 230],\n",
        "       [ 63,  10,  30, 240],\n",
        "       [ 63,  20,  30, 240]])"
       ]
      }
     ],
     "prompt_number": 21
    },
    {
     "cell_type": "code",
     "collapsed": false,
     "input": [
      "r[i==0]"
     ],
     "language": "python",
     "metadata": {},
     "outputs": [
      {
       "metadata": {},
       "output_type": "pyout",
       "prompt_number": 22,
       "text": [
        "array([[ 15,  20,  30, 210],\n",
        "       [ 15,  30,  30, 210],\n",
        "       [ 15,  40,  30, 210],\n",
        "       [ 18,  10,  30, 210],\n",
        "       [ 18,  20,  30, 210],\n",
        "       [ 18,  30,  30, 210],\n",
        "       [ 18,  40,  30, 210],\n",
        "       [ 18,  50,  30, 210],\n",
        "       [ 18,  60,  30, 210],\n",
        "       [ 21,  20,  30, 210],\n",
        "       [ 21,  30,  30, 210],\n",
        "       [ 21,  40,  30, 210],\n",
        "       [ 24,  30,  30, 210],\n",
        "       [ 24,  40,  30, 210],\n",
        "       [ 15,  20,  30, 220],\n",
        "       [ 15,  30,  30, 220],\n",
        "       [ 18,  10,  30, 220],\n",
        "       [ 18,  20,  30, 220],\n",
        "       [ 18,  30,  30, 220],\n",
        "       [ 18,  40,  30, 220],\n",
        "       [ 18,  50,  30, 220],\n",
        "       [ 21,  20,  30, 220],\n",
        "       [ 21,  30,  30, 220],\n",
        "       [ 21,  40,  30, 220],\n",
        "       [ 24,  30,  30, 220],\n",
        "       [ 15,  20,  30, 230],\n",
        "       [ 18,  10,  30, 230],\n",
        "       [ 18,  20,  30, 230],\n",
        "       [ 18,  30,  30, 230],\n",
        "       [ 18,  40,  30, 230],\n",
        "       [ 21,  20,  30, 230],\n",
        "       [ 21,  30,  30, 230],\n",
        "       [ 21,  40,  30, 230],\n",
        "       [ 18,  10,  30, 240],\n",
        "       [ 18,  20,  30, 240],\n",
        "       [ 18,  30,  30, 240],\n",
        "       [ 21,  20,  30, 240],\n",
        "       [ 21,  30,  30, 240],\n",
        "       [ 12,  20,  40, 210],\n",
        "       [ 12,  30,  40, 210],\n",
        "       [ 12,  40,  40, 210],\n",
        "       [ 15,  20,  40, 210],\n",
        "       [ 15,  30,  40, 210],\n",
        "       [ 15,  40,  40, 210],\n",
        "       [ 18,  20,  40, 210],\n",
        "       [ 18,  30,  40, 210],\n",
        "       [ 18,  40,  40, 210],\n",
        "       [ 21,  20,  40, 210],\n",
        "       [ 21,  30,  40, 210],\n",
        "       [ 21,  40,  40, 210],\n",
        "       [ 21,  50,  40, 210],\n",
        "       [ 12,  20,  40, 220],\n",
        "       [ 12,  30,  40, 220],\n",
        "       [ 15,  20,  40, 220],\n",
        "       [ 15,  30,  40, 220],\n",
        "       [ 15,  40,  40, 220],\n",
        "       [ 18,  20,  40, 220],\n",
        "       [ 18,  30,  40, 220],\n",
        "       [ 18,  40,  40, 220],\n",
        "       [ 21,  20,  40, 220],\n",
        "       [ 21,  30,  40, 220],\n",
        "       [ 21,  40,  40, 220],\n",
        "       [ 12,  20,  40, 230],\n",
        "       [ 15,  20,  40, 230],\n",
        "       [ 15,  30,  40, 230],\n",
        "       [ 15,  40,  40, 230],\n",
        "       [ 18,  20,  40, 230],\n",
        "       [ 18,  30,  40, 230],\n",
        "       [ 18,  40,  40, 230],\n",
        "       [ 21,  20,  40, 230],\n",
        "       [ 21,  30,  40, 230],\n",
        "       [ 21,  40,  40, 230],\n",
        "       [ 15,  30,  40, 240],\n",
        "       [ 18,  20,  40, 240],\n",
        "       [ 18,  30,  40, 240],\n",
        "       [ 21,  30,  40, 240]])"
       ]
      }
     ],
     "prompt_number": 22
    }
   ],
   "metadata": {}
  }
 ]
}