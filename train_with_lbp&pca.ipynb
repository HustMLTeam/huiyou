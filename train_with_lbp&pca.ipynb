{
 "metadata": {
  "name": "",
  "signature": "sha256:8e37c7bddea8824b9a1ed4ecb98ca4f15f88ac99040fbedcbb848e2cc3f3b8ca"
 },
 "nbformat": 3,
 "nbformat_minor": 0,
 "worksheets": [
  {
   "cells": [
    {
     "cell_type": "code",
     "collapsed": false,
     "input": [
      "# from trainer import Trainer\n",
      "# t = Trainer(extract_method='lbp')\n",
      "# t.train_window_extractor()\n",
      "# t.window_extrct.load('data/pkl/window_lbp.pkl')\n",
      "# t.train_window_classifier()"
     ],
     "language": "python",
     "metadata": {},
     "outputs": [
      {
       "output_type": "stream",
       "stream": "stdout",
       "text": [
        "Window classifier has been trained and saved to \"data/pkl\"\n"
       ]
      }
     ],
     "prompt_number": 4
    },
    {
     "cell_type": "code",
     "collapsed": false,
     "input": [],
     "language": "python",
     "metadata": {},
     "outputs": []
    }
   ],
   "metadata": {}
  }
 ]
}