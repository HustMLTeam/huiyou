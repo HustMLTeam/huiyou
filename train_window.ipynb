{
 "metadata": {
  "name": "",
  "signature": "sha256:c930992c9e589986f4f12319cfc8bf0ebd33ca88c5ae9af3f315bbdb7afbf3b0"
 },
 "nbformat": 3,
 "nbformat_minor": 0,
 "worksheets": [
  {
   "cells": [
    {
     "cell_type": "code",
     "collapsed": false,
     "input": [
      "from trainer import Trainer"
     ],
     "language": "python",
     "metadata": {},
     "outputs": [],
     "prompt_number": 1
    },
    {
     "cell_type": "code",
     "collapsed": false,
     "input": [
      "t = Trainer(extract_method='lbp')\n",
      "t.train_window_extractor()\n",
      "t.train_window_classifier()"
     ],
     "language": "python",
     "metadata": {},
     "outputs": [
      {
       "output_type": "stream",
       "stream": "stdout",
       "text": [
        "Window classifier has been trained and saved to \"data/pkl\"\n"
       ]
      }
     ],
     "prompt_number": 2
    }
   ],
   "metadata": {}
  }
 ]
}