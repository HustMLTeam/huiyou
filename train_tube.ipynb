{
 "metadata": {
  "name": "",
  "signature": "sha256:8cb60b2e8fcf6e4b8861d7c0c89c8a4a06e624132312ed05e4aa28a7219c0d4c"
 },
 "nbformat": 3,
 "nbformat_minor": 0,
 "worksheets": [
  {
   "cells": [
    {
     "cell_type": "code",
     "collapsed": false,
     "input": [
      "from trainer import Trainer"
     ],
     "language": "python",
     "metadata": {},
     "outputs": [],
     "prompt_number": 1
    },
    {
     "cell_type": "code",
     "collapsed": false,
     "input": [
      "t = Trainer(extract_method='sift')\n",
      "t.train_tube_extractor()\n",
      "t.train_tube_classifier()"
     ],
     "language": "python",
     "metadata": {},
     "outputs": [
      {
       "output_type": "stream",
       "stream": "stdout",
       "text": [
        "Tube extractor has been trained and saved to \"data/pkl\".\n",
        "Tube classifier has been trained and saved to \"data/pkl\"."
       ]
      },
      {
       "output_type": "stream",
       "stream": "stdout",
       "text": [
        "\n"
       ]
      }
     ],
     "prompt_number": 2
    },
    {
     "cell_type": "code",
     "collapsed": false,
     "input": [],
     "language": "python",
     "metadata": {},
     "outputs": [],
     "prompt_number": 2
    }
   ],
   "metadata": {}
  }
 ]
}