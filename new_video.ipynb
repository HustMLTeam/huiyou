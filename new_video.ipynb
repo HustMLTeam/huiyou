{
 "metadata": {
  "name": "",
  "signature": "sha256:976bd7a3321a588c6deb6dba168bc57c991b61c06ce2e9efb5a2ffbf2c3bd826"
 },
 "nbformat": 3,
 "nbformat_minor": 0,
 "worksheets": [
  {
   "cells": [
    {
     "cell_type": "code",
     "collapsed": false,
     "input": [
      "import numpy as np\n",
      "import cv2\n",
      "from scipy.signal import convolve2d\n",
      "from collections import deque\n",
      "import matplotlib.pyplot as plt"
     ],
     "language": "python",
     "metadata": {},
     "outputs": [],
     "prompt_number": 2
    },
    {
     "cell_type": "code",
     "collapsed": false,
     "input": [
      "def show_im(mul, frame=None, *imgs):\n",
      "    result = None\n",
      "    height = imgs[0].shape[0]\n",
      "    cut = cv2.cvtColor(np.ones((height, 1), dtype='uint8') * 255, cv2.COLOR_GRAY2BGR)\n",
      "    for img in imgs:\n",
      "        if img.ndim == 2:\n",
      "            img = cv2.cvtColor(img.astype('uint8'), cv2.COLOR_GRAY2BGR)\n",
      "            \n",
      "        if result is None:\n",
      "            result = img\n",
      "        else:\n",
      "            result = np.hstack((result, cut, img))\n",
      "    result = cv2.resize(result, None, fx=mul, fy=mul)\n",
      "    \n",
      "    if frame is not None:\n",
      "        new_width = result.shape[1]\n",
      "        new_height = int(frame.shape[0] / frame.shape[1] * new_width)\n",
      "        new_frame = cv2.resize(frame, (new_width, new_height))\n",
      "        result = np.vstack((new_frame, result))\n",
      "        \n",
      "    cv2.imshow('frame', result)\n",
      "    \n",
      "# \u627e\u5230\u8fde\u7eed\u7684\u6a2a\u5411\u7684\u56db\u4e2a\n",
      "def horizontal_filter(src, leng, num):\n",
      "    result = convolve2d(src, np.ones((1, leng))/leng, mode='same')\n",
      "    thresh = 255 * num / leng - 1\n",
      "    ret, result = cv2.threshold(np.uint8(result), thresh, 255, cv2.THRESH_BINARY)\n",
      "    return result"
     ],
     "language": "python",
     "metadata": {},
     "outputs": [],
     "prompt_number": 3
    },
    {
     "cell_type": "code",
     "collapsed": false,
     "input": [
      "def upgrade_background(bg, cur, threshold, ratio):\n",
      "    bg = np.float64(bg)\n",
      "    cur = np.float64(bg)\n",
      "    return np.where(np.abs(bg - cur) < threshold, ratio * cur + (1 - ratio) * bg, bg)"
     ],
     "language": "python",
     "metadata": {},
     "outputs": [],
     "prompt_number": 4
    },
    {
     "cell_type": "code",
     "collapsed": false,
     "input": [
      "# loc0 = [(124, 209, 143, 181),\n",
      "#         (221, 304, 137, 177),\n",
      "#         (314, 403, 137, 176),\n",
      "#         (411, 487, 136, 181),\n",
      "#         (500, 582, 143, 182)]\n",
      "\n",
      "# loc1 = [(7, 92, 269, 308),\n",
      "#         (94, 184, 261, 302),\n",
      "#         (190, 284, 259, 302),\n",
      "#         (288, 374, 260, 299),\n",
      "#         (387, 477, 261, 303),\n",
      "#         (481, 570, 266, 308),\n",
      "#         (568, 645, 273, 314)]\n",
      "\n",
      "# scale0 = [290, 526]\n",
      "# scale1 = [271, 525]"
     ],
     "language": "python",
     "metadata": {},
     "outputs": [],
     "prompt_number": 5
    },
    {
     "cell_type": "code",
     "collapsed": false,
     "input": [
      "loc1 = [(20, 80, 269, 308),\n",
      "        (113, 173, 261, 302),\n",
      "        (207, 267, 259, 302),\n",
      "        (305, 365, 260, 299),\n",
      "        (401, 464, 261, 303),\n",
      "        (495, 554, 266, 308),\n",
      "        (585, 645, 273, 314)]"
     ],
     "language": "python",
     "metadata": {},
     "outputs": [],
     "prompt_number": 29
    },
    {
     "cell_type": "code",
     "collapsed": false,
     "input": [
      "init_level = 450"
     ],
     "language": "python",
     "metadata": {},
     "outputs": [],
     "prompt_number": 6
    },
    {
     "cell_type": "code",
     "collapsed": false,
     "input": [
      "def around_avg(img):\n",
      "    assert img.ndim == 2\n",
      "    return (img[0].sum() + img[-1].sum() + img[:, 0].sum() + img[:, -1].sum()) / sum(img.shape) / 2"
     ],
     "language": "python",
     "metadata": {},
     "outputs": [],
     "prompt_number": 7
    },
    {
     "cell_type": "code",
     "collapsed": false,
     "input": [
      "img = cv2.imread('data/tube_b.jpg')\n",
      "# img = img[:, 250:320, 0]"
     ],
     "language": "python",
     "metadata": {},
     "outputs": [],
     "prompt_number": 31
    },
    {
     "cell_type": "code",
     "collapsed": false,
     "input": [
      "plt.imshow(img, 'gray')\n",
      "plt.show()"
     ],
     "language": "python",
     "metadata": {},
     "outputs": [],
     "prompt_number": 12
    },
    {
     "cell_type": "code",
     "collapsed": false,
     "input": [
      "sobel = cv2.Sobel(img, cv2.CV_16S, 0, 1)\n",
      "sobel = np.where(sobel>50, 255, 0).astype('uint8')\n",
      "tmp = np.zeros(sobel.shape, 'uint8')\n",
      "for y1, y2, x1, x2 in loc1:\n",
      "    x1 -= 250\n",
      "    x2 -= 250\n",
      "    tmp[y1:y2, x1:x2] = sobel[y1:y2, x1:x2]\n",
      "plt.subplot(1, 3, 1)\n",
      "plt.imshow(tmp, 'gray')\n",
      "sobel_bl = horizontal_filter(tmp, 6, 6)\n",
      "plt.subplot(1, 3, 2)\n",
      "plt.imshow(sobel_bl, 'gray')\n",
      "plt.subplot(1, 3, 3)\n",
      "plt.imshow(img, 'gray')\n",
      "plt.show()"
     ],
     "language": "python",
     "metadata": {},
     "outputs": [],
     "prompt_number": 28
    },
    {
     "cell_type": "code",
     "collapsed": false,
     "input": [
      "np.where(sobel_bl)[0]"
     ],
     "language": "python",
     "metadata": {},
     "outputs": [
      {
       "metadata": {},
       "output_type": "pyout",
       "prompt_number": 24,
       "text": [
        "array([  9,  15,  15,  16,  16,  16,  16,  16,  16,  16,  16,  17,  17,\n",
        "        68,  89,  89,  89,  97, 104, 105, 105, 108, 108, 108, 108, 108,\n",
        "       108, 108, 108, 108, 109, 109, 109, 109, 109, 109, 109, 109, 109,\n",
        "       109, 159, 179, 179, 180, 183, 183, 183, 183, 183, 183, 183, 183,\n",
        "       183, 183, 183, 183, 193, 193, 200, 200, 200, 203, 203, 203, 203,\n",
        "       203, 203, 204, 204, 204, 204, 204, 204, 204, 204, 204, 204, 204,\n",
        "       212, 294, 300, 300, 300, 300, 300, 300, 300, 301, 301, 301, 301,\n",
        "       301, 301, 301, 301, 301, 301, 396, 396, 397, 397, 397, 397, 397,\n",
        "       397, 397, 448, 448, 448, 448, 449, 449, 449, 449, 491, 491, 491,\n",
        "       491, 491, 491, 560, 580, 580, 581, 581, 581, 581, 581, 581, 581])"
       ]
      }
     ],
     "prompt_number": 24
    },
    {
     "cell_type": "code",
     "collapsed": false,
     "input": [
      "i = img.copy()\n",
      "for y1, y2, x1, x2 in loc1:\n",
      "    cv2.rectangle(i, (x1, y1), (x2, y2), (0, 0, 255))\n",
      "cv2.imshow('image', i)\n",
      "cv2.waitKey()"
     ],
     "language": "python",
     "metadata": {},
     "outputs": [
      {
       "metadata": {},
       "output_type": "pyout",
       "prompt_number": 32,
       "text": [
        "-1"
       ]
      }
     ],
     "prompt_number": 32
    },
    {
     "cell_type": "code",
     "collapsed": false,
     "input": [
      "# \u524d\u4e00\u5217\u524d\u540e\u5e27\u76f8\u51cf\n",
      "init_level = 450\n",
      "levels = deque([init_level] * 40, maxlen=40)\n",
      "background = None\n",
      "\n",
      "speed = 1\n",
      "count = 0\n",
      "\n",
      "p = 0.1\n",
      "t = 5\n",
      "d = 30\n",
      "threshold = 30\n",
      "c = 2000\n",
      "\n",
      "cap = cv2.VideoCapture('data/tube1.mp4')\n",
      "while cap.isOpened():\n",
      "    count += 1\n",
      "    cur_level = int(np.mean(levels))\n",
      "    ret, frame = cap.read()\n",
      "    if not ret:\n",
      "        print('quit')\n",
      "        break\n",
      "\n",
      "    origin = np.zeros((650, 60, 3), 'uint8')\n",
      "            \n",
      "    for y1, y2, x1, x2 in loc1:\n",
      "        origin[y1:y2, x1-255:x2-255] = frame[y1:y2, x1:x2]\n",
      "        \n",
      "    blue = origin[:, :, 0].astype('float64')\n",
      "    blue_edge = np.zeros(blue.shape)\n",
      "    blue_edge[cur_level-20:cur_level+20] = cv2.Sobel(blue[cur_level-20:cur_level+20], cv2.CV_16S, 0, 1)\n",
      "    for y1, y2, x1, x2 in loc1:\n",
      "        blue_edge[y1-1:y1+1] = 0\n",
      "        blue_edge[y2-1:y2+1] = 0\n",
      "    blue_edge = np.where(blue_edge < -50, 255, 0)\n",
      "    blue_edge_bl = horizontal_filter(blue_edge, 11, 10)\n",
      "    if np.any(blue_edge_bl):\n",
      "        levels.append(np.median(np.where(blue_edge_bl)[0]))\n",
      "        background = None\n",
      "        if count < c:\n",
      "            continue\n",
      "        cv2.line(origin, (0, cur_level), (30, cur_level), (0, 255, 0))\n",
      "        show_im(1, None, origin, blue, blue_edge, blue_edge_bl)\n",
      "    else:\n",
      "        if background is None:\n",
      "            background = blue\n",
      "            init_level = cur_level\n",
      "        \n",
      "        foreground = np.abs(background - blue)\n",
      "        \n",
      "        sobel = cv2.Sobel(foreground, cv2.CV_16S, 0, 1)\n",
      "        sobel[:cur_level-d] = 0\n",
      "        sobel[cur_level+d:] = 0\n",
      "        sobel[:init_level] = np.where(sobel[:init_level] > threshold, 255, 0)\n",
      "        sobel[init_level:] = np.where(sobel[init_level:] < -threshold, 255, 0)\n",
      "        sobel[init_level-1:init_level+1] = 0\n",
      "        for y1, y2, x1, x2 in loc1:\n",
      "            sobel[y1-1:y1+1] = 0\n",
      "            sobel[y2-1:y2+1] = 0\n",
      "        sobel_bl = horizontal_filter(sobel, 6, 5)\n",
      "        if np.any(sobel_bl):\n",
      "            levels.append(np.median(np.where(sobel_bl)[0]))\n",
      "        if count < c:\n",
      "            continue\n",
      "        cv2.line(origin, (0, cur_level), (30, cur_level), (0, 255, 0))\n",
      "        show_im(1, None, origin, blue, blue_edge, blue_edge_bl, background, foreground*10, sobel, sobel_bl)\n",
      "        \n",
      "    key = cv2.waitKey(speed) & 0xff\n",
      "    if key == ord('q'):\n",
      "        break\n",
      "    elif key == ord('p'):\n",
      "        cv2.waitKey()\n",
      "    elif key == ord('c'):\n",
      "        speed = 40 - speed\n",
      "        print(count)\n",
      "    elif key == ord('j'):\n",
      "        cur_level += 5\n",
      "        levels.extend([cur_level]*40)\n",
      "    elif key == ord('k'):\n",
      "        cur_level -= 5\n",
      "        levels.extend([cur_level]*40)\n",
      "    elif key == ord('n'):\n",
      "        background = None\n",
      "cap.release()\n",
      "cv2.destroyAllWindows()"
     ],
     "language": "python",
     "metadata": {},
     "outputs": [
      {
       "output_type": "stream",
       "stream": "stdout",
       "text": [
        "8214\n",
        "8376"
       ]
      },
      {
       "output_type": "stream",
       "stream": "stdout",
       "text": [
        "\n",
        "9335"
       ]
      },
      {
       "output_type": "stream",
       "stream": "stdout",
       "text": [
        "\n",
        "9382"
       ]
      },
      {
       "output_type": "stream",
       "stream": "stdout",
       "text": [
        "\n",
        "9987"
       ]
      },
      {
       "output_type": "stream",
       "stream": "stdout",
       "text": [
        "\n",
        "10025"
       ]
      },
      {
       "output_type": "stream",
       "stream": "stdout",
       "text": [
        "\n",
        "10526"
       ]
      },
      {
       "output_type": "stream",
       "stream": "stdout",
       "text": [
        "\n",
        "10545"
       ]
      },
      {
       "output_type": "stream",
       "stream": "stdout",
       "text": [
        "\n",
        "14607"
       ]
      },
      {
       "output_type": "stream",
       "stream": "stdout",
       "text": [
        "\n",
        "14644"
       ]
      },
      {
       "output_type": "stream",
       "stream": "stdout",
       "text": [
        "\n",
        "48249"
       ]
      },
      {
       "output_type": "stream",
       "stream": "stdout",
       "text": [
        "\n",
        "49449"
       ]
      },
      {
       "output_type": "stream",
       "stream": "stdout",
       "text": [
        "\n",
        "74289"
       ]
      },
      {
       "output_type": "stream",
       "stream": "stdout",
       "text": [
        "\n",
        "74329"
       ]
      },
      {
       "output_type": "stream",
       "stream": "stdout",
       "text": [
        "\n",
        "120732"
       ]
      },
      {
       "output_type": "stream",
       "stream": "stdout",
       "text": [
        "\n",
        "120790"
       ]
      },
      {
       "output_type": "stream",
       "stream": "stdout",
       "text": [
        "\n"
       ]
      }
     ],
     "prompt_number": 58
    },
    {
     "cell_type": "code",
     "collapsed": false,
     "input": [
      "# \u524d\u4e00\u5217\u524d\u540e\u5e27\u76f8\u51cf\n",
      "init_level = 575\n",
      "levels = deque([init_level] * 40, maxlen=40)\n",
      "backgrounds = deque(maxlen=3)\n",
      "kernel = np.ones((3, 3), 'uint8')\n",
      "\n",
      "speed = 1\n",
      "count = 0\n",
      "\n",
      "p = 0.1\n",
      "t = 5\n",
      "d = 30\n",
      "threshold = 20\n",
      "\n",
      "cap = cv2.VideoCapture('data/tube1.mp4')\n",
      "while cap.isOpened():\n",
      "    count += 1\n",
      "    cur_level = int(np.mean(levels))\n",
      "    ret, frame = cap.read()\n",
      "    if not ret:\n",
      "        print('quit')\n",
      "        break\n",
      "\n",
      "    origin = np.zeros((600, 60, 3), 'uint8')\n",
      "            \n",
      "    for i, (y1, y2, x1, x2) in enumerate(loc0):\n",
      "        wind = frame[y1:y2, x1:x2]\n",
      "        origin[y1:y2, x1-130:x2-130] = wind\n",
      "        \n",
      "    blue = origin[:, :, 0].astype('float64')\n",
      "    if not backgrounds:\n",
      "        backgrounds.append(blue)\n",
      "    backgrounds.append(blue)\n",
      "    foreground = np.abs(blue - backgrounds[1])\n",
      "    fore = cv2.dilate(foreground, kernel)\n",
      "    \n",
      "#     sobel = cv2.Sobel(fore, cv2.CV_16S, 0, 1)\n",
      "#     sobel[] = np.where(np.abs(sobel)>10, 255, 0)\n",
      "    \n",
      "#     foreground_enh = np.where(foreground>5, 255, 0)\n",
      "#     sobel_bl= horizontal_filter(sobel)\n",
      "\n",
      "        \n",
      "    sobel = cv2.Sobel(foreground, cv2.CV_16S, 0, 1)\n",
      "    sobel[:cur_level] = np.where(sobel[:cur_level] > threshold, 255, 0)\n",
      "    sobel[cur_level:] = np.where(sobel[cur_level:] < -threshold, 255, 0)\n",
      "    new_sobel = np.zeros(sobel.shape, 'uint8')\n",
      "    for y1, y2, x1, x2 in loc0:\n",
      "        x1 -= 130\n",
      "        x2 -= 130\n",
      "        new_sobel[y1+2:y2-2, x1+2:x2-2] = sobel[y1+2:y2-2, x1+2:x2-2]\n",
      "    \n",
      "    sobel_bl = horizontal_filter(new_sobel, 7, 5)\n",
      "\n",
      "    if np.any(sobel_bl[cur_level-d:cur_level+d]):\n",
      "        levels.append(np.median(np.where(sobel_bl[cur_level-d:cur_level+d])[0]) + cur_level - d)\n",
      "        \n",
      "    blue_e = cv2.erode(blue, kernel)\n",
      "    sobel_blue = cv2.Sobel(blue_e, cv2.CV_16S, 0, 1)\n",
      "    sobel_blue = np.where(sobel_blue < -50, 255, 0)\n",
      "    sobel_blue[:cur_level-20] = 0\n",
      "    sobel_blue[cur_level+20:] = 0\n",
      "    blue_s_f = horizontal_filter(sobel_blue, 11, 10)\n",
      "        \n",
      "    if count < 2000:\n",
      "        continue\n",
      "    \n",
      "    cv2.line(origin, (0, cur_level), (30, cur_level), (0, 255, 0))\n",
      "        \n",
      "    show_im(1, None, origin, blue, backgrounds[0], foreground*10, fore*10, sobel, new_sobel, sobel_bl,\n",
      "            blue_e, sobel_blue, blue_s_f)\n",
      "        \n",
      "    key = cv2.waitKey() & 0xff\n",
      "    if key == ord('q'):\n",
      "        break\n",
      "    elif key == ord('p'):\n",
      "        cv2.waitKey()\n",
      "    elif key == ord('c'):\n",
      "        speed = 40 - speed\n",
      "        print(count)\n",
      "    elif key == ord('j'):\n",
      "        cur_level += 5\n",
      "        levels.extend([cur_level]*40)\n",
      "    elif key == ord('k'):\n",
      "        cur_level -= 5\n",
      "        levels.extend([cur_level]*40)\n",
      "cap.release()\n",
      "cv2.destroyAllWindows()"
     ],
     "language": "python",
     "metadata": {},
     "outputs": []
    },
    {
     "cell_type": "code",
     "collapsed": false,
     "input": [
      "plt.imshow(cv2.Canny(blue.astype('uint8'), 70, 100), 'gray')\n",
      "plt.show()"
     ],
     "language": "python",
     "metadata": {},
     "outputs": [],
     "prompt_number": 46
    },
    {
     "cell_type": "code",
     "collapsed": false,
     "input": [
      "# \u524d\u540e\u5e27\u76f8\u51cf\n",
      "init_level = 450\n",
      "levels = deque([init_level] * 40, maxlen=40)\n",
      "backgrounds = deque(maxlen=3)\n",
      "kernel = np.ones((3, 3), 'uint8')\n",
      "\n",
      "speed = 1\n",
      "count = 0\n",
      "\n",
      "p = 0.1\n",
      "t = 5\n",
      "d = 30\n",
      "threshold = 10\n",
      "\n",
      "cap = cv2.VideoCapture('data/tube1.mp4')\n",
      "while cap.isOpened():\n",
      "    count += 1\n",
      "    cur_level = int(np.mean(levels))\n",
      "    ret, frame = cap.read()\n",
      "    if not ret:\n",
      "        print('quit')\n",
      "        break\n",
      "\n",
      "    origin = np.zeros((670, 60, 3), 'uint8')\n",
      "            \n",
      "    for i, (y1, y2, x1, x2) in enumerate(loc1):\n",
      "        wind = frame[y1:y2, x1:x2]\n",
      "        origin[y1:y2, x1-255:x2-255] = wind\n",
      "        \n",
      "    blue = origin[:, :, 0].astype('float64')\n",
      "    if not backgrounds:\n",
      "        backgrounds.append(blue)\n",
      "    backgrounds.append(blue)\n",
      "    foreground = np.abs(blue - backgrounds[1])\n",
      "    fore = cv2.dilate(foreground, kernel)\n",
      "    \n",
      "#     sobel = cv2.Sobel(fore, cv2.CV_16S, 0, 1)\n",
      "#     sobel[] = np.where(np.abs(sobel)>10, 255, 0)\n",
      "    \n",
      "#     foreground_enh = np.where(foreground>5, 255, 0)\n",
      "#     sobel_bl= horizontal_filter(sobel)\n",
      "\n",
      "        \n",
      "    sobel = cv2.Sobel(foreground, cv2.CV_16S, 0, 1)\n",
      "    sobel[:cur_level] = np.where(sobel[:cur_level] > threshold, 255, 0)\n",
      "    sobel[cur_level:] = np.where(sobel[cur_level:] < -threshold, 255, 0)\n",
      "    new_sobel = np.zeros(sobel.shape, 'uint8')\n",
      "    for y1, y2, x1, x2 in loc1:\n",
      "        x1 -= 255\n",
      "        x2 -= 255\n",
      "        new_sobel[y1+2:y2-2, x1+2:x2-2] = sobel[y1+2:y2-2, x1+2:x2-2]\n",
      "    \n",
      "    sobel_bl = horizontal_filter(new_sobel, 7, 5)\n",
      "    \n",
      "    sobel_blue = cv2.Sobel(blue, cv2.CV_16S, 0, 1)\n",
      "    sobel_blue = np.where(sobel_blue < -50, 255, 0)\n",
      "    sobel_blue[:cur_level-20] = 0\n",
      "    sobel_blue[cur_level+20:] = 0\n",
      "    blue_s_f = horizontal_filter(sobel_blue, 15, 12)\n",
      "\n",
      "    if np.any(sobel_bl[cur_level-50:cur_level+50]):\n",
      "        levels.append(np.median(np.where(sobel_bl[cur_level-50:cur_level+50])[0]) + cur_level - 50)\n",
      "        \n",
      "#     if count < 1628:\n",
      "#         continue\n",
      "    \n",
      "    cv2.line(origin, (0, cur_level), (30, cur_level), (0, 255, 0))\n",
      "        \n",
      "    show_im(1, None, origin, blue, backgrounds[0], foreground*10, fore*10, sobel, new_sobel, sobel_bl, sobel_blue, blue_s_f)\n",
      "        \n",
      "    key = cv2.waitKey(speed) & 0xff\n",
      "    if key == ord('q'):\n",
      "        break\n",
      "    elif key == ord('p'):\n",
      "        cv2.waitKey()\n",
      "    elif key == ord('c'):\n",
      "        speed = 40 - speed\n",
      "        print(count)\n",
      "    elif key == ord('j'):\n",
      "        cur_level += 5\n",
      "        levels.extend([cur_level]*40)\n",
      "    elif key == ord('k'):\n",
      "        cur_level -= 5\n",
      "        levels.extend([cur_level]*40)\n",
      "cap.release()\n",
      "cv2.destroyAllWindows()"
     ],
     "language": "python",
     "metadata": {},
     "outputs": [
      {
       "output_type": "stream",
       "stream": "stdout",
       "text": [
        "4703\n"
       ]
      }
     ],
     "prompt_number": 36
    },
    {
     "cell_type": "code",
     "collapsed": false,
     "input": [
      "sobel.any()"
     ],
     "language": "python",
     "metadata": {},
     "outputs": [
      {
       "metadata": {},
       "output_type": "pyout",
       "prompt_number": 14,
       "text": [
        "False"
       ]
      }
     ],
     "prompt_number": 14
    },
    {
     "cell_type": "code",
     "collapsed": false,
     "input": [
      "for i in foreground:\n",
      "    for j in i:\n",
      "        print(j, end=' ')\n",
      "    print('\\n')"
     ],
     "language": "python",
     "metadata": {},
     "outputs": []
    },
    {
     "cell_type": "code",
     "collapsed": false,
     "input": [
      "# \u4e58\u4ee5\u5e38\u6570\n",
      "levels = deque([init_level] * 40, maxlen=40)\n",
      "first_avg = []\n",
      "std = []\n",
      "background = None\n",
      "\n",
      "speed = 1\n",
      "count = 0\n",
      "\n",
      "p = 0.2\n",
      "t = 30\n",
      "d = 50\n",
      "threshold = 100\n",
      "\n",
      "cap = cv2.VideoCapture('data/tube1.mp4')\n",
      "while cap.isOpened():\n",
      "    count += 1\n",
      "    ret, frame = cap.read()\n",
      "    if not ret:\n",
      "        print('quit')\n",
      "        break\n",
      "\n",
      "    origin = np.zeros((670, 60, 3), 'uint8')\n",
      "    blue = np.zeros((670, 60), 'float64')\n",
      "    if background is None:\n",
      "        for i, (y1, y2, x1, x2) in enumerate(loc1):\n",
      "            wind = frame[y1:y2, x1:x2]\n",
      "            origin[y1:y2, x1-255:x2-255] = wind\n",
      "            wind = np.float64(wind[:, :, 0])\n",
      "            std.append(wind.std())\n",
      "            blue[y1:y2, x1-255:x2-255] = wind * 10 / std[i]**0.5\n",
      "            first_avg.append(around_avg(wind))\n",
      "        background = blue.copy()\n",
      "    else:\n",
      "        for i, (y1, y2, x1, x2) in enumerate(loc1):\n",
      "            wind = frame[y1:y2, x1:x2]\n",
      "            origin[y1:y2, x1-255:x2-255] = wind\n",
      "            wind = np.float64(wind[:, :, 0]) * 100 / std[i]**0.5\n",
      "            wind = wind + first_avg[i] - around_avg(wind)\n",
      "            blue[y1:y2, x1-255:x2-255] = wind\n",
      "\n",
      "    \n",
      "    foreground = np.abs(blue - background)\n",
      "#     foreground[foreground<=t] = 0\n",
      "    \n",
      "    if not count % 20:\n",
      "        background = p * blue + (1 - p) * background\n",
      "#         tmp = p * blue + (1 - p) * background\n",
      "#         background[foreground==0] = tmp[foreground==0]\n",
      "        \n",
      "    sobel = cv2.Sobel(foreground, cv2.CV_16S, 0, 1)\n",
      "    sobel[:init_level] = np.where(sobel[:init_level] > threshold, 255, 0).astype('uint8')\n",
      "    sobel[init_level:] = np.where(sobel[init_level:] < -threshold, 255, 0).astype('uint8')\n",
      "    \n",
      "    sobel_bl = horizontal_filter(sobel)\n",
      "\n",
      "    cur_level = int(np.mean(levels))\n",
      "    if np.any(sobel_bl[cur_level-50:cur_level+50]):\n",
      "        levels.append(np.median(np.where(sobel_bl[cur_level-50:cur_level+50])[0]) + cur_level - 50)\n",
      "    \n",
      "    cv2.line(origin, (0, cur_level), (30, cur_level), (0, 255, 0))\n",
      "        \n",
      "    show_im(1, None, origin, blue, background, foreground, sobel, sobel_bl)\n",
      "        \n",
      "    key = cv2.waitKey(speed) & 0xff\n",
      "    if key == ord('q'):\n",
      "        break\n",
      "    elif key == ord('p'):\n",
      "        cv2.waitKey()\n",
      "    elif key == ord('c'):\n",
      "        speed = 40 - speed\n",
      "cap.release()\n",
      "cv2.destroyAllWindows()"
     ],
     "language": "python",
     "metadata": {},
     "outputs": [],
     "prompt_number": 31
    },
    {
     "cell_type": "code",
     "collapsed": false,
     "input": [
      "# \u4e0d\u5747\u8861\u5316\uff0c\u5f3a\u5236\u66f4\u65b0\uff0c\u53cc\u8fb9\u68af\u5ea6\n",
      "levels = deque([init_level] * 40, maxlen=40)\n",
      "first_avg = []\n",
      "background = None\n",
      "\n",
      "speed = 1\n",
      "count = 0\n",
      "\n",
      "p = 0.2\n",
      "t = 30\n",
      "d = 50\n",
      "threshold = 30\n",
      "\n",
      "cap = cv2.VideoCapture('data/tube1.mp4')\n",
      "while cap.isOpened():\n",
      "    count += 1\n",
      "    ret, frame = cap.read()\n",
      "    if not ret:\n",
      "        print('quit')\n",
      "        break\n",
      "\n",
      "    origin = np.zeros((670, 60, 3), 'uint8')\n",
      "    blue = np.zeros((670, 60), 'float64')\n",
      "    if background is None:\n",
      "        for i, (y1, y2, x1, x2) in enumerate(loc1):\n",
      "            wind = frame[y1:y2, x1:x2]\n",
      "            origin[y1:y2, x1-255:x2-255] = wind\n",
      "            wind = wind[:, :, 0]\n",
      "#             wind = cv2.equalizeHist(wind)\n",
      "            blue[y1:y2, x1-255:x2-255] = wind\n",
      "            first_avg.append(around_avg(wind))\n",
      "        background = blue.copy()\n",
      "    else:\n",
      "        for i, (y1, y2, x1, x2) in enumerate(loc1):\n",
      "            wind = frame[y1:y2, x1:x2]\n",
      "            origin[y1:y2, x1-255:x2-255] = wind\n",
      "            wind = wind[:, :, 0].astype('float64')\n",
      "            avg = around_avg(wind)\n",
      "            blue[y1:y2, x1-255:x2-255] = wind + first_avg[i] - avg\n",
      "\n",
      "    \n",
      "    foreground = np.abs(blue - background)\n",
      "#     foreground[foreground<=t] = 0\n",
      "    \n",
      "    if not count % 20:\n",
      "        background = p * blue + (1 - p) * background\n",
      "#         tmp = p * blue + (1 - p) * background\n",
      "#         background[foreground==0] = tmp[foreground==0]\n",
      "        \n",
      "    sobel = cv2.Sobel(foreground, cv2.CV_16S, 0, 1)\n",
      "#     sobel[:init_level] = np.where(sobel[:init_level] > threshold, 255, 0).astype('uint8')\n",
      "#     sobel[init_level:] = np.where(sobel[init_level:] < -threshold, 255, 0).astype('uint8')\n",
      "    sobel = np.where(np.abs(sobel) > threshold, 255, 0).astype('uint8')\n",
      "    \n",
      "    sobel_bl = horizontal_filter(sobel)\n",
      "\n",
      "    cur_level = int(np.mean(levels))\n",
      "    if np.any(sobel_bl[cur_level-50:cur_level+50]):\n",
      "        levels.append(np.median(np.where(sobel_bl[cur_level-50:cur_level+50])[0]) + cur_level - 50)\n",
      "        \n",
      "#     if count < 15000:\n",
      "#         continue\n",
      "    \n",
      "    cv2.line(origin, (0, cur_level), (30, cur_level), (0, 255, 0))\n",
      "        \n",
      "    show_im(1, None, origin, blue, background, foreground * 10, sobel, sobel_bl)\n",
      "        \n",
      "    key = cv2.waitKey(speed) & 0xff\n",
      "    if key == ord('q'):\n",
      "        break\n",
      "    elif key == ord('p'):\n",
      "        cv2.waitKey()\n",
      "    elif key == ord('c'):\n",
      "        speed = 40 - speed\n",
      "cap.release()\n",
      "cv2.destroyAllWindows()"
     ],
     "language": "python",
     "metadata": {},
     "outputs": [],
     "prompt_number": 35
    },
    {
     "cell_type": "code",
     "collapsed": false,
     "input": [
      "print(first_avg)\n",
      "for i, (y1, y2, x1, x2) in enumerate(loc1):\n",
      "    wind = blue[y1:y2, x1-255:x2-255]\n",
      "    print(around_avg(wind))"
     ],
     "language": "python",
     "metadata": {},
     "outputs": [
      {
       "output_type": "stream",
       "stream": "stdout",
       "text": [
        "[171.56451612903226, 164.28625954198472, 132.85036496350364, 121.024, 104.77651515151516, 91.39312977099236, 78.11440677966101]\n",
        "171.564516129\n",
        "164.286259542\n",
        "132.850364964\n",
        "121.024\n",
        "104.776515152\n",
        "91.6229685165\n",
        "78.1144067797\n"
       ]
      }
     ],
     "prompt_number": 41
    },
    {
     "cell_type": "code",
     "collapsed": false,
     "input": [
      "cv2.Sobel(foreground, cv2.CV_16U, 0, 1)"
     ],
     "language": "python",
     "metadata": {},
     "outputs": [
      {
       "metadata": {},
       "output_type": "pyout",
       "prompt_number": 27,
       "text": [
        "array([[0, 0, 0, ..., 0, 0, 0],\n",
        "       [0, 0, 0, ..., 0, 0, 0],\n",
        "       [0, 0, 0, ..., 0, 0, 0],\n",
        "       ..., \n",
        "       [0, 0, 0, ..., 0, 0, 0],\n",
        "       [0, 0, 0, ..., 0, 0, 0],\n",
        "       [0, 0, 0, ..., 0, 0, 0]], dtype=uint16)"
       ]
      }
     ],
     "prompt_number": 27
    },
    {
     "cell_type": "code",
     "collapsed": false,
     "input": [
      "# \u5747\u8861\u5316\n",
      "levels = deque([init_level] * 40, maxlen=40)\n",
      "first_avg = []\n",
      "background = None\n",
      "\n",
      "speed = 1\n",
      "count = 0\n",
      "\n",
      "p = 0.2\n",
      "t = 30\n",
      "d = 50\n",
      "threshold = 100\n",
      "\n",
      "cap = cv2.VideoCapture('data/tube1.mp4')\n",
      "while cap.isOpened():\n",
      "    count += 1\n",
      "    ret, frame = cap.read()\n",
      "    if not ret:\n",
      "        print('quit')\n",
      "        break\n",
      "\n",
      "    origin = np.zeros((670, 60, 3), 'uint8')\n",
      "    blue = np.zeros((670, 60), 'float64')\n",
      "    if background is None:\n",
      "        for i, (y1, y2, x1, x2) in enumerate(loc1):\n",
      "            wind = frame[y1:y2, x1:x2]\n",
      "            origin[y1:y2, x1-255:x2-255] = wind\n",
      "            wind = wind[:, :, 0]\n",
      "            wind = cv2.equalizeHist(wind)\n",
      "            blue[y1:y2, x1-255:x2-255] = wind\n",
      "#             first_avg.append(around_avg(wind[:, :, 0]))\n",
      "        background = blue.copy()\n",
      "    else:\n",
      "        for i, (y1, y2, x1, x2) in enumerate(loc1):\n",
      "            wind = frame[y1:y2, x1:x2]\n",
      "            origin[y1:y2, x1-255:x2-255] = wind\n",
      "            wind = cv2.equalizeHist(wind[:, :, 0])\n",
      "#             avg = around_avg(wind)\n",
      "            blue[y1:y2, x1-255:x2-255] = wind \n",
      "\n",
      "    \n",
      "    foreground = np.abs(blue - background)\n",
      "#     foreground[foreground<=t] = 0\n",
      "    \n",
      "    if not count % 20:\n",
      "        background = p * blue + (1 - p) * background\n",
      "#         tmp = p * blue + (1 - p) * background\n",
      "#         background[foreground==0] = tmp[foreground==0]\n",
      "        \n",
      "    sobel = cv2.Sobel(foreground, cv2.CV_16S, 0, 1)\n",
      "    sobel[:init_level] = np.where(sobel[:init_level] > threshold, 255, 0).astype('uint8')\n",
      "    sobel[init_level:] = np.where(sobel[init_level:] < -threshold, 255, 0).astype('uint8')\n",
      "    \n",
      "    sobel_bl = horizontal_filter(sobel)\n",
      "\n",
      "    cur_level = int(np.mean(levels))\n",
      "    if np.any(sobel_bl[cur_level-50:cur_level+50]):\n",
      "        levels.append(np.median(np.where(sobel_bl[cur_level-50:cur_level+50])[0]) + cur_level - 50)\n",
      "    \n",
      "    cv2.line(origin, (0, cur_level), (30, cur_level), (0, 255, 0))\n",
      "        \n",
      "    show_im(1, None, origin, blue, background, foreground, sobel, sobel_bl)\n",
      "        \n",
      "    key = cv2.waitKey(speed) & 0xff\n",
      "    if key == ord('q'):\n",
      "        break\n",
      "    elif key == ord('p'):\n",
      "        cv2.waitKey()\n",
      "    elif key == ord('c'):\n",
      "        speed = 40 - speed\n",
      "cap.release()\n",
      "cv2.destroyAllWindows()"
     ],
     "language": "python",
     "metadata": {},
     "outputs": [],
     "prompt_number": 10
    },
    {
     "cell_type": "code",
     "collapsed": false,
     "input": [
      "# \u524d\u540e\u5e27\u76f8\u51cf\n",
      "levels = deque([init_level] * 40, maxlen=40)\n",
      "backgrounds = deque(maxlen=3)\n",
      "first_avg = []\n",
      "\n",
      "speed = 1\n",
      "count = 0\n",
      "\n",
      "p = 0.1\n",
      "t = 5\n",
      "d = 50\n",
      "threshold = 40\n",
      "\n",
      "cap = cv2.VideoCapture('data/tube1.mp4')\n",
      "while cap.isOpened():\n",
      "    count += 1\n",
      "    ret, frame = cap.read()\n",
      "    if not ret:\n",
      "        print('quit')\n",
      "        break\n",
      "\n",
      "    origin = np.zeros((670, 60, 3), 'uint8')\n",
      "#     blue = np.zeros((670, 60), 'float64')\n",
      "#     if not first_avg:\n",
      "#         for i, (y1, y2, x1, x2) in enumerate(loc1):\n",
      "#             wind = frame[y1:y2, x1:x2]\n",
      "#             origin[y1:y2, x1-255:x2-255] = wind\n",
      "#             blue[y1:y2, x1-255:x2-255] = wind[:, :, 0]\n",
      "#             first_avg.append(around_avg(wind[:, :, 0]))\n",
      "#     else:\n",
      "#         for i, (y1, y2, x1, x2) in enumerate(loc1):\n",
      "#             wind = frame[y1:y2, x1:x2]\n",
      "#             origin[y1:y2, x1-255:x2-255] = wind\n",
      "#             wind = wind[:, :, 0].astype('float64')\n",
      "#             avg = around_avg(wind)\n",
      "#             blue[y1:y2, x1-255:x2-255] = wind + first_avg[i] - avg\n",
      "            \n",
      "    for i, (y1, y2, x1, x2) in enumerate(loc1):\n",
      "        wind = frame[y1:y2, x1:x2]\n",
      "        origin[y1:y2, x1-255:x2-255] = wind\n",
      "        \n",
      "    blue = origin[:, :, 0].astype('float64')\n",
      "    if not backgrounds:\n",
      "        backgrounds.append(blue)\n",
      "    backgrounds.append(blue)\n",
      "    foreground = np.abs(blue - backgrounds[1])\n",
      "    fore = np.where(foreground >= 4, foreground, 0) \n",
      "    \n",
      "    sobel = cv2.Sobel(fore, cv2.CV_16S, 0, 1)\n",
      "    sobel = np.where(np.abs(sobel)>10, 255, 0)\n",
      "    \n",
      "#     foreground_enh = np.where(foreground>5, 255, 0)\n",
      "    sobel_bl= horizontal_filter(sobel)\n",
      "    \n",
      "    \n",
      "    if count < 9213:\n",
      "        continue\n",
      "\n",
      "        \n",
      "#     sobel = cv2.Sobel(foreground, cv2.CV_16S, 0, 1)\n",
      "#     sobel[:init_level] = np.where(sobel[:init_level] > threshold, 255, 0).astype('uint8')\n",
      "#     sobel[init_level:] = np.where(sobel[init_level:] < -threshold, 255, 0).astype('uint8')\n",
      "    \n",
      "#     sobel_bl = horizontal_filter(sobel)\n",
      "\n",
      "    cur_level = int(np.mean(levels))\n",
      "    if np.any(sobel_bl[cur_level-50:cur_level+50]):\n",
      "        levels.append(np.median(np.where(sobel_bl[cur_level-50:cur_level+50])[0]) + cur_level - 50)\n",
      "    \n",
      "    cv2.line(origin, (0, cur_level), (30, cur_level), (0, 255, 0))\n",
      "        \n",
      "    show_im(1, None, origin, blue, backgrounds[0], foreground*10, fore*10, sobel, sobel_bl)\n",
      "        \n",
      "    key = cv2.waitKey() & 0xff\n",
      "    if key == ord('q'):\n",
      "        break\n",
      "    elif key == ord('p'):\n",
      "        cv2.waitKey()\n",
      "    elif key == ord('c'):\n",
      "        speed = 40 - speed\n",
      "        print(count)\n",
      "cap.release()\n",
      "cv2.destroyAllWindows()"
     ],
     "language": "python",
     "metadata": {},
     "outputs": [],
     "prompt_number": 27
    },
    {
     "cell_type": "code",
     "collapsed": false,
     "input": [
      "count"
     ],
     "language": "python",
     "metadata": {},
     "outputs": [
      {
       "metadata": {},
       "output_type": "pyout",
       "prompt_number": 20,
       "text": [
        "9213"
       ]
      }
     ],
     "prompt_number": 20
    },
    {
     "cell_type": "code",
     "collapsed": false,
     "input": [
      "print(foreground[400:450, 12:30])"
     ],
     "language": "python",
     "metadata": {},
     "outputs": [
      {
       "output_type": "stream",
       "stream": "stdout",
       "text": [
        "[[ 0.  0.  0.  0.  0.  0.  0.  0.  0.  0.  0.  0.  0.  0.  0.  0.  0.  0.]\n",
        " [ 0.  0.  0.  0.  0.  0.  0.  0.  0.  0.  0.  0.  0.  0.  0.  0.  0.  0.]\n",
        " [ 0.  0.  0.  0.  0.  0.  0.  0.  0.  0.  0.  0.  0.  0.  0.  0.  0.  0.]\n",
        " [ 0.  0.  0.  0.  0.  0.  0.  0.  0.  0.  0.  0.  0.  0.  0.  0.  0.  0.]\n",
        " [ 0.  0.  0.  0.  0.  0.  0.  0.  0.  0.  0.  0.  0.  0.  0.  0.  0.  0.]\n",
        " [ 0.  0.  0.  0.  0.  0.  0.  0.  0.  0.  0.  0.  0.  0.  0.  0.  0.  0.]\n",
        " [ 0.  0.  0.  0.  0.  0.  0.  0.  0.  0.  0.  0.  0.  0.  0.  0.  0.  0.]\n",
        " [ 0.  0.  0.  0.  0.  0.  0.  0.  0.  0.  0.  0.  0.  0.  0.  0.  0.  0.]\n",
        " [ 0.  0.  0.  0.  0.  0.  0.  0.  0.  0.  0.  0.  0.  0.  0.  0.  0.  0.]\n",
        " [ 0.  0.  0.  0.  0.  0.  0.  0.  0.  0.  0.  0.  0.  0.  0.  0.  0.  0.]\n",
        " [ 0.  0.  0.  0.  0.  0.  0.  0.  0.  0.  0.  0.  0.  0.  0.  0.  0.  0.]\n",
        " [ 0.  0.  0.  0.  0.  0.  0.  0.  0.  0.  0.  0.  0.  0.  0.  0.  0.  0.]\n",
        " [ 0.  0.  0.  0.  0.  0.  0.  0.  0.  0.  0.  0.  0.  0.  0.  0.  0.  0.]\n",
        " [ 0.  0.  0.  0.  0.  0.  0.  0.  0.  0.  0.  0.  0.  0.  0.  0.  0.  0.]\n",
        " [ 0.  0.  0.  0.  0.  0.  0.  0.  0.  0.  0.  0.  0.  0.  0.  0.  0.  0.]\n",
        " [ 0.  0.  0.  0.  0.  0.  0.  0.  0.  0.  0.  0.  0.  0.  0.  0.  0.  0.]\n",
        " [ 0.  0.  0.  0.  0.  2.  1.  0.  1.  1.  1.  0.  0.  0.  0.  2.  2.  0.]\n",
        " [ 0.  0.  0.  0.  0.  1.  2.  3.  1.  1.  1.  1.  1.  0.  0.  2.  2.  0.]\n",
        " [ 0.  0.  0.  0.  0.  2.  3.  2.  3.  2.  3.  2.  0.  0.  0.  0.  0.  2.]\n",
        " [ 0.  0.  0.  0.  0.  4.  4.  5.  4.  5.  4.  1.  2.  0.  0.  0.  0.  2.]\n",
        " [ 0.  0.  0.  0.  0.  2.  4.  3.  4.  3.  2.  1.  0.  0.  0.  0.  0.  0.]\n",
        " [ 0.  0.  0.  0.  0.  3.  3.  4.  3.  3.  1.  2.  1.  0.  1.  1.  1.  1.]\n",
        " [ 0.  0.  0.  0.  0.  1.  1.  1.  2.  1.  1.  0.  0.  1.  0.  0.  0.  0.]\n",
        " [ 0.  0.  0.  0.  0.  4.  1.  1.  2.  2.  2.  0.  4.  0.  0.  0.  0.  0.]\n",
        " [ 0.  0.  0.  0.  0.  1.  1.  0.  2.  1.  0.  1.  1.  0.  0.  0.  0.  0.]\n",
        " [ 0.  0.  0.  0.  0.  2.  2.  0.  2.  2.  2.  0.  2.  0.  0.  0.  0.  0.]\n",
        " [ 0.  0.  0.  0.  0.  0.  1.  0.  1.  3.  0.  1.  1.  1.  0.  0.  0.  0.]\n",
        " [ 0.  0.  0.  0.  0.  1.  0.  0.  1.  1.  1.  0.  0.  0.  0.  0.  0.  0.]\n",
        " [ 0.  0.  0.  0.  0.  0.  1.  2.  1.  1.  3.  0.  1.  1.  0.  0.  0.  0.]\n",
        " [ 0.  0.  0.  0.  0.  1.  2.  2.  2.  3.  3.  1.  1.  0.  0.  0.  0.  0.]\n",
        " [ 0.  0.  0.  0.  0.  0.  0.  0.  0.  0.  0.  0.  0.  0.  0.  0.  0.  0.]\n",
        " [ 0.  0.  0.  0.  0.  3.  1.  1.  4.  4.  1.  1.  3.  0.  0.  0.  0.  0.]\n",
        " [ 0.  0.  0.  0.  0.  0.  0.  0.  0.  0.  0.  0.  0.  0.  0.  0.  0.  0.]\n",
        " [ 0.  0.  0.  0.  0.  0.  0.  0.  0.  0.  0.  0.  0.  0.  0.  0.  0.  0.]\n",
        " [ 0.  0.  0.  0.  0.  0.  0.  0.  0.  0.  0.  0.  0.  0.  0.  0.  0.  0.]\n",
        " [ 0.  0.  0.  0.  0.  0.  0.  0.  0.  0.  0.  0.  0.  0.  0.  0.  0.  0.]\n",
        " [ 0.  0.  0.  0.  0.  0.  0.  0.  0.  0.  0.  0.  0.  0.  0.  0.  0.  0.]\n",
        " [ 0.  0.  0.  0.  0.  0.  0.  0.  0.  0.  0.  0.  0.  0.  0.  0.  0.  0.]\n",
        " [ 0.  0.  0.  0.  0.  0.  0.  0.  0.  0.  0.  0.  0.  0.  0.  0.  0.  0.]\n",
        " [ 0.  0.  0.  0.  0.  0.  0.  0.  0.  0.  0.  0.  0.  0.  0.  0.  0.  0.]\n",
        " [ 0.  0.  0.  0.  0.  0.  0.  0.  0.  0.  0.  0.  0.  0.  0.  0.  0.  0.]\n",
        " [ 0.  0.  0.  0.  0.  0.  0.  0.  0.  0.  0.  0.  0.  0.  0.  0.  0.  0.]\n",
        " [ 0.  0.  0.  0.  0.  0.  0.  0.  0.  0.  0.  0.  0.  0.  0.  0.  0.  0.]\n",
        " [ 0.  0.  0.  0.  0.  0.  0.  0.  0.  0.  0.  0.  0.  0.  0.  0.  0.  0.]\n",
        " [ 0.  0.  0.  0.  0.  0.  0.  0.  0.  0.  0.  0.  0.  0.  0.  0.  0.  0.]\n",
        " [ 0.  0.  0.  0.  0.  0.  0.  0.  0.  0.  0.  0.  0.  0.  0.  0.  0.  0.]\n",
        " [ 0.  0.  0.  0.  0.  0.  0.  0.  0.  0.  0.  0.  0.  0.  0.  0.  0.  0.]\n",
        " [ 0.  0.  0.  0.  0.  0.  0.  0.  0.  0.  0.  0.  0.  0.  0.  0.  0.  0.]\n",
        " [ 0.  0.  0.  0.  0.  0.  0.  0.  0.  0.  0.  0.  0.  0.  0.  0.  0.  0.]\n",
        " [ 0.  0.  0.  0.  0.  0.  0.  0.  0.  0.  0.  0.  0.  0.  0.  0.  0.  0.]]\n"
       ]
      }
     ],
     "prompt_number": 26
    },
    {
     "cell_type": "code",
     "collapsed": false,
     "input": [
      "img = wind"
     ],
     "language": "python",
     "metadata": {},
     "outputs": [],
     "prompt_number": 28
    },
    {
     "cell_type": "code",
     "collapsed": false,
     "input": [
      "(img[0].sum() + img[-1].sum() + img[:, 0].sum() + img[:, -1].sum()) / sum(img.shape) / 2"
     ],
     "language": "python",
     "metadata": {},
     "outputs": [
      {
       "metadata": {},
       "output_type": "pyout",
       "prompt_number": 30,
       "text": [
        "77.83898305084746"
       ]
      }
     ],
     "prompt_number": 30
    },
    {
     "cell_type": "code",
     "collapsed": false,
     "input": [
      "around_avg(wind)"
     ],
     "language": "python",
     "metadata": {},
     "outputs": [
      {
       "metadata": {},
       "output_type": "pyout",
       "prompt_number": 31,
       "text": [
        "2296.25"
       ]
      }
     ],
     "prompt_number": 31
    }
   ],
   "metadata": {}
  }
 ]
}