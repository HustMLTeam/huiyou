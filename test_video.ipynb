{
 "metadata": {
  "name": "",
  "signature": "sha256:d3b8e894d1bea9c1482a53b3c0f126e1c63c958a956cb7022107fce0448a17f3"
 },
 "nbformat": 3,
 "nbformat_minor": 0,
 "worksheets": [
  {
   "cells": [
    {
     "cell_type": "code",
     "collapsed": false,
     "input": [
      "import numpy as np\n",
      "import cv2\n",
      "from scipy.signal import convolve2d\n",
      "from collections import deque"
     ],
     "language": "python",
     "metadata": {},
     "outputs": [],
     "prompt_number": 1
    },
    {
     "cell_type": "code",
     "collapsed": false,
     "input": [
      "# s = [np.s_[a:b, c:d] for a, b, c, d in [\n",
      "#         [49, 77, 48, 61],\n",
      "#         [85, 112, 46, 58],\n",
      "#         [121, 148, 45, 56],\n",
      "#         [159, 183, 47, 56],\n",
      "#         [192, 216, 47, 59],\n",
      "#         [5, 33, 92, 105],\n",
      "#         [40, 68, 90, 103],\n",
      "#         [76, 105, 89, 101],\n",
      "#         [113, 141, 89, 101],\n",
      "#         [150, 177, 90, 102],\n",
      "#         [185, 210, 92, 104],\n",
      "#         [219, 244, 95, 107]]]"
     ],
     "language": "python",
     "metadata": {},
     "outputs": [],
     "prompt_number": 9
    },
    {
     "cell_type": "code",
     "collapsed": false,
     "input": [
      "def show_im(mul, frame=None, *imgs):\n",
      "    result = None\n",
      "    height = imgs[0].shape[0]\n",
      "    cut = cv2.cvtColor(np.ones((height, 1), dtype='uint8') * 255, cv2.COLOR_GRAY2BGR)\n",
      "    for img in imgs:\n",
      "        if img.ndim == 2:\n",
      "            img = cv2.cvtColor(img, cv2.COLOR_GRAY2BGR)\n",
      "            \n",
      "        if result is None:\n",
      "            result = img\n",
      "        else:\n",
      "            result = np.hstack((result, cut, img))\n",
      "    result = cv2.resize(result, None, fx=mul, fy=mul)\n",
      "    \n",
      "    if frame is not None:\n",
      "        new_width = result.shape[1]\n",
      "        new_height = int(frame.shape[0] / frame.shape[1] * new_width)\n",
      "        new_frame = cv2.resize(frame, (new_width, new_height))\n",
      "        result = np.vstack((new_frame, result))\n",
      "        \n",
      "    cv2.imshow('frame', result)"
     ],
     "language": "python",
     "metadata": {},
     "outputs": [],
     "prompt_number": 2
    },
    {
     "cell_type": "code",
     "collapsed": false,
     "input": [
      "# \u627e\u5230\u8fde\u7eed\u7684\u6a2a\u5411\u7684\u4e09\u4e2a\n",
      "def median_filter(src):\n",
      "    result = convolve2d(src, np.ones((1, 4))/4, mode='same')\n",
      "    ret, result = cv2.threshold(np.uint8(result), 190, 255, cv2.THRESH_BINARY)\n",
      "    return result"
     ],
     "language": "python",
     "metadata": {},
     "outputs": [],
     "prompt_number": 3
    },
    {
     "cell_type": "code",
     "collapsed": false,
     "input": [
      "# \u7b2c\u4e8c\u5217\u7b2c3\u4e2a\u7a97\u53e3\n",
      "cap = cv2.VideoCapture('data/tube.mp4')\n",
      "\n",
      "count = 0\n",
      "\n",
      "p = 0.1\n",
      "t = 3\n",
      "speed = 1\n",
      "\n",
      "while cap.isOpened():\n",
      "    count += 1\n",
      "    \n",
      "    ret, frame = cap.read()\n",
      "    if not ret:\n",
      "        print('quit')\n",
      "        break\n",
      "        \n",
      "    tube = frame[:, 33:70, 0]\n",
      "    window = frame[192:216, 47:59]\n",
      "    blue = window[:, :, 0]\n",
      "    \n",
      "    if count == 1:\n",
      "        background = blue.astype('float64')\n",
      "        first_avg = tube.mean()\n",
      "    else:\n",
      "        blue = blue + first_avg - tube.mean()\n",
      "        \n",
      "    foreground = np.absolute(blue - background).astype('uint8')\n",
      "    foreground[foreground<=t] = 0\n",
      "    \n",
      "    if not count % 20:\n",
      "        tmp = p * blue + (1 - p) * background\n",
      "        background[foreground==0] = tmp[foreground==0]\n",
      "    \n",
      "#     if not count % 200:\n",
      "#         print(background.mean())\n",
      "        \n",
      "#     fore_bl = cv2.medianBlur(foreground, 3)\n",
      "    sobel_ = cv2.Sobel(foreground, cv2.CV_8U, 0, 1)\n",
      "    ret, sobel = cv2.threshold(sobel_, 30, 255, cv2.THRESH_BINARY)\n",
      "#     ret, sobel40 = cv2.threshold(sobel_, 40, 255, cv2.THRESH_BINARY)\n",
      "#     ret, sobel50 = cv2.threshold(sobel_, 50, 255, cv2.THRESH_BINARY)\n",
      "    sobel_bl = median_filter(sobel)\n",
      "    \n",
      "    if count < 10800:\n",
      "        continue\n",
      "#     else:\n",
      "#         key = cv2.waitKey() & 0xff\n",
      "    \n",
      "    show_im(8, frame, window, blue.astype('uint8'), \n",
      "            background.astype('uint8'), foreground, sobel, sobel_bl)\n",
      "\n",
      "    key = cv2.waitKey(speed) & 0xff\n",
      "    if key == ord('q'):\n",
      "        print('quit')\n",
      "        break\n",
      "    elif key == ord('p'):\n",
      "        print('pause')\n",
      "        cv2.waitKey()\n",
      "    elif key == ord('c'):\n",
      "        print('change speed')\n",
      "        speed = 40 - speed\n",
      "        \n",
      "cap.release()\n",
      "cv2.destroyAllWindows()"
     ],
     "language": "python",
     "metadata": {},
     "outputs": []
    },
    {
     "cell_type": "code",
     "collapsed": false,
     "input": [
      "print(count)"
     ],
     "language": "python",
     "metadata": {},
     "outputs": [
      {
       "output_type": "stream",
       "stream": "stdout",
       "text": [
        "11024\n"
       ]
      }
     ],
     "prompt_number": 117
    },
    {
     "cell_type": "code",
     "collapsed": false,
     "input": [
      "print(count)"
     ],
     "language": "python",
     "metadata": {},
     "outputs": [
      {
       "output_type": "stream",
       "stream": "stdout",
       "text": [
        "7250\n"
       ]
      }
     ],
     "prompt_number": 108
    },
    {
     "cell_type": "code",
     "collapsed": false,
     "input": [
      "# \u7b2c\u4e8c\u5217\u7b2c\u4e94\u4e2a\u7a97\u53e3\n",
      "cap = cv2.VideoCapture('data/tube.mp4')\n",
      "\n",
      "count = 0\n",
      "\n",
      "p = 0.1\n",
      "t = 3\n",
      "speed = 1\n",
      "\n",
      "while cap.isOpened():\n",
      "    count += 1\n",
      "    \n",
      "    ret, frame = cap.read()\n",
      "    if not ret:\n",
      "        print('quit')\n",
      "        break\n",
      "        \n",
      "    tube = frame[:, 33:70, 0]\n",
      "    window = frame[150:177, 90:102]\n",
      "    blue = window[:, :, 0]\n",
      "    \n",
      "    if count == 1:\n",
      "        background = blue.astype('float64')\n",
      "        first_avg = tube.mean()\n",
      "    else:\n",
      "        blue = blue + first_avg - tube.mean()\n",
      "        \n",
      "    foreground = np.absolute(blue - background).astype('uint8')\n",
      "    foreground[foreground<=t] = 0\n",
      "    \n",
      "    if not count % 20:\n",
      "        tmp = p * blue + (1 - p) * background\n",
      "        background[foreground==0] = tmp[foreground==0]\n",
      "    \n",
      "    if not count % 200:\n",
      "        print(background.mean())\n",
      "        \n",
      "#     fore_bl = cv2.medianBlur(foreground, 3)\n",
      "    sobel_ = cv2.Sobel(foreground, cv2.CV_8U, 0, 1)\n",
      "    ret, sobel = cv2.threshold(sobel_, 25, 255, cv2.THRESH_BINARY\n",
      "    sobel_bl = median_filter(sobel)\n",
      "    \n",
      "    if count < 40000:\n",
      "        continue\n",
      "#     else:\n",
      "#         key = cv2.waitKey() & 0xff\n",
      "    \n",
      "    show_im(8, frame, window, blue.astype('uint8'), \n",
      "            background.astype('uint8'), foreground, sobel, sobel_bl)\n",
      "\n",
      "    key = cv2.waitKey(speed) & 0xff\n",
      "    if key == ord('q'):\n",
      "        print('quit')\n",
      "        break\n",
      "    elif key == ord('p'):\n",
      "        print('pause')\n",
      "        cv2.waitKey()\n",
      "    elif key == ord('c'):\n",
      "        print('change speed')\n",
      "        speed = 40 - speed\n",
      "        \n",
      "cap.release()\n",
      "cv2.destroyAllWindows()"
     ],
     "language": "python",
     "metadata": {},
     "outputs": [
      {
       "output_type": "stream",
       "stream": "stdout",
       "text": [
        "80.3845491188\n",
        "80.1804318495"
       ]
      },
      {
       "output_type": "stream",
       "stream": "stdout",
       "text": [
        "\n",
        "80.2002286047"
       ]
      },
      {
       "output_type": "stream",
       "stream": "stdout",
       "text": [
        "\n",
        "80.0784000093"
       ]
      },
      {
       "output_type": "stream",
       "stream": "stdout",
       "text": [
        "\n",
        "80.1485548929"
       ]
      },
      {
       "output_type": "stream",
       "stream": "stdout",
       "text": [
        "\n",
        "80.0556129306"
       ]
      },
      {
       "output_type": "stream",
       "stream": "stdout",
       "text": [
        "\n",
        "80.159018155"
       ]
      },
      {
       "output_type": "stream",
       "stream": "stdout",
       "text": [
        "\n",
        "80.1475168752"
       ]
      },
      {
       "output_type": "stream",
       "stream": "stdout",
       "text": [
        "\n",
        "79.922908182"
       ]
      },
      {
       "output_type": "stream",
       "stream": "stdout",
       "text": [
        "\n",
        "79.9337543781"
       ]
      },
      {
       "output_type": "stream",
       "stream": "stdout",
       "text": [
        "\n",
        "79.8733207033"
       ]
      },
      {
       "output_type": "stream",
       "stream": "stdout",
       "text": [
        "\n",
        "79.9831243019"
       ]
      },
      {
       "output_type": "stream",
       "stream": "stdout",
       "text": [
        "\n",
        "79.9023933603"
       ]
      },
      {
       "output_type": "stream",
       "stream": "stdout",
       "text": [
        "\n",
        "79.8690112158"
       ]
      },
      {
       "output_type": "stream",
       "stream": "stdout",
       "text": [
        "\n",
        "79.9155679381"
       ]
      },
      {
       "output_type": "stream",
       "stream": "stdout",
       "text": [
        "\n",
        "79.9169470416"
       ]
      },
      {
       "output_type": "stream",
       "stream": "stdout",
       "text": [
        "\n",
        "79.9152001876"
       ]
      },
      {
       "output_type": "stream",
       "stream": "stdout",
       "text": [
        "\n",
        "79.870286217"
       ]
      },
      {
       "output_type": "stream",
       "stream": "stdout",
       "text": [
        "\n",
        "79.8779900134"
       ]
      },
      {
       "output_type": "stream",
       "stream": "stdout",
       "text": [
        "\n",
        "79.7256126334"
       ]
      },
      {
       "output_type": "stream",
       "stream": "stdout",
       "text": [
        "\n",
        "79.6946464073"
       ]
      },
      {
       "output_type": "stream",
       "stream": "stdout",
       "text": [
        "\n",
        "79.8405544824"
       ]
      },
      {
       "output_type": "stream",
       "stream": "stdout",
       "text": [
        "\n",
        "80.077003614"
       ]
      },
      {
       "output_type": "stream",
       "stream": "stdout",
       "text": [
        "\n",
        "80.1632609402"
       ]
      },
      {
       "output_type": "stream",
       "stream": "stdout",
       "text": [
        "\n",
        "80.2098686486"
       ]
      },
      {
       "output_type": "stream",
       "stream": "stdout",
       "text": [
        "\n",
        "80.2656005331"
       ]
      },
      {
       "output_type": "stream",
       "stream": "stdout",
       "text": [
        "\n",
        "80.2899624404"
       ]
      },
      {
       "output_type": "stream",
       "stream": "stdout",
       "text": [
        "\n",
        "80.3674702371"
       ]
      },
      {
       "output_type": "stream",
       "stream": "stdout",
       "text": [
        "\n",
        "80.4601385075"
       ]
      },
      {
       "output_type": "stream",
       "stream": "stdout",
       "text": [
        "\n",
        "80.5233484235"
       ]
      },
      {
       "output_type": "stream",
       "stream": "stdout",
       "text": [
        "\n",
        "80.595732705"
       ]
      },
      {
       "output_type": "stream",
       "stream": "stdout",
       "text": [
        "\n",
        "80.668055409"
       ]
      },
      {
       "output_type": "stream",
       "stream": "stdout",
       "text": [
        "\n",
        "80.7512088846"
       ]
      },
      {
       "output_type": "stream",
       "stream": "stdout",
       "text": [
        "\n",
        "80.7269764052"
       ]
      },
      {
       "output_type": "stream",
       "stream": "stdout",
       "text": [
        "\n",
        "80.778637186"
       ]
      },
      {
       "output_type": "stream",
       "stream": "stdout",
       "text": [
        "\n",
        "80.7671233323"
       ]
      },
      {
       "output_type": "stream",
       "stream": "stdout",
       "text": [
        "\n",
        "80.7986740672"
       ]
      },
      {
       "output_type": "stream",
       "stream": "stdout",
       "text": [
        "\n",
        "80.838694375"
       ]
      },
      {
       "output_type": "stream",
       "stream": "stdout",
       "text": [
        "\n",
        "80.8773192403"
       ]
      },
      {
       "output_type": "stream",
       "stream": "stdout",
       "text": [
        "\n",
        "80.8802400795"
       ]
      },
      {
       "output_type": "stream",
       "stream": "stdout",
       "text": [
        "\n",
        "80.8967529807"
       ]
      },
      {
       "output_type": "stream",
       "stream": "stdout",
       "text": [
        "\n",
        "80.9059908677"
       ]
      },
      {
       "output_type": "stream",
       "stream": "stdout",
       "text": [
        "\n",
        "80.8870454308"
       ]
      },
      {
       "output_type": "stream",
       "stream": "stdout",
       "text": [
        "\n",
        "80.8457301229"
       ]
      },
      {
       "output_type": "stream",
       "stream": "stdout",
       "text": [
        "\n",
        "80.7788212937"
       ]
      },
      {
       "output_type": "stream",
       "stream": "stdout",
       "text": [
        "\n",
        "80.7650441482"
       ]
      },
      {
       "output_type": "stream",
       "stream": "stdout",
       "text": [
        "\n",
        "80.7473758912"
       ]
      },
      {
       "output_type": "stream",
       "stream": "stdout",
       "text": [
        "\n",
        "80.6804801972"
       ]
      },
      {
       "output_type": "stream",
       "stream": "stdout",
       "text": [
        "\n",
        "80.8265205008"
       ]
      },
      {
       "output_type": "stream",
       "stream": "stdout",
       "text": [
        "\n",
        "80.9230364428"
       ]
      },
      {
       "output_type": "stream",
       "stream": "stdout",
       "text": [
        "\n",
        "81.0955759863"
       ]
      },
      {
       "output_type": "stream",
       "stream": "stdout",
       "text": [
        "\n",
        "81.130483261"
       ]
      },
      {
       "output_type": "stream",
       "stream": "stdout",
       "text": [
        "\n",
        "81.2720826238"
       ]
      },
      {
       "output_type": "stream",
       "stream": "stdout",
       "text": [
        "\n",
        "81.2789940603"
       ]
      },
      {
       "output_type": "stream",
       "stream": "stdout",
       "text": [
        "\n",
        "81.2727824946"
       ]
      },
      {
       "output_type": "stream",
       "stream": "stdout",
       "text": [
        "\n",
        "81.2737412011"
       ]
      },
      {
       "output_type": "stream",
       "stream": "stdout",
       "text": [
        "\n",
        "81.3410776476"
       ]
      },
      {
       "output_type": "stream",
       "stream": "stdout",
       "text": [
        "\n",
        "81.3655539672"
       ]
      },
      {
       "output_type": "stream",
       "stream": "stdout",
       "text": [
        "\n",
        "81.3599328639"
       ]
      },
      {
       "output_type": "stream",
       "stream": "stdout",
       "text": [
        "\n",
        "81.3335673875"
       ]
      },
      {
       "output_type": "stream",
       "stream": "stdout",
       "text": [
        "\n",
        "81.3596297712"
       ]
      },
      {
       "output_type": "stream",
       "stream": "stdout",
       "text": [
        "\n",
        "81.2587081611"
       ]
      },
      {
       "output_type": "stream",
       "stream": "stdout",
       "text": [
        "\n",
        "81.2360964488"
       ]
      },
      {
       "output_type": "stream",
       "stream": "stdout",
       "text": [
        "\n",
        "81.2855994509"
       ]
      },
      {
       "output_type": "stream",
       "stream": "stdout",
       "text": [
        "\n",
        "81.2039661912"
       ]
      },
      {
       "output_type": "stream",
       "stream": "stdout",
       "text": [
        "\n",
        "81.139468153"
       ]
      },
      {
       "output_type": "stream",
       "stream": "stdout",
       "text": [
        "\n",
        "81.0004765264"
       ]
      },
      {
       "output_type": "stream",
       "stream": "stdout",
       "text": [
        "\n",
        "80.9265509327"
       ]
      },
      {
       "output_type": "stream",
       "stream": "stdout",
       "text": [
        "\n",
        "80.8257178336"
       ]
      },
      {
       "output_type": "stream",
       "stream": "stdout",
       "text": [
        "\n",
        "80.6850796633"
       ]
      },
      {
       "output_type": "stream",
       "stream": "stdout",
       "text": [
        "\n",
        "80.5095598619"
       ]
      },
      {
       "output_type": "stream",
       "stream": "stdout",
       "text": [
        "\n",
        "80.3134322267"
       ]
      },
      {
       "output_type": "stream",
       "stream": "stdout",
       "text": [
        "\n",
        "80.1298670946"
       ]
      },
      {
       "output_type": "stream",
       "stream": "stdout",
       "text": [
        "\n",
        "80.0515830094"
       ]
      },
      {
       "output_type": "stream",
       "stream": "stdout",
       "text": [
        "\n",
        "79.811426466"
       ]
      },
      {
       "output_type": "stream",
       "stream": "stdout",
       "text": [
        "\n",
        "79.8403533315"
       ]
      },
      {
       "output_type": "stream",
       "stream": "stdout",
       "text": [
        "\n",
        "79.7936633322"
       ]
      },
      {
       "output_type": "stream",
       "stream": "stdout",
       "text": [
        "\n",
        "79.7190872841"
       ]
      },
      {
       "output_type": "stream",
       "stream": "stdout",
       "text": [
        "\n",
        "79.8303951951"
       ]
      },
      {
       "output_type": "stream",
       "stream": "stdout",
       "text": [
        "\n",
        "79.6814545455"
       ]
      },
      {
       "output_type": "stream",
       "stream": "stdout",
       "text": [
        "\n",
        "79.5920984961"
       ]
      },
      {
       "output_type": "stream",
       "stream": "stdout",
       "text": [
        "\n",
        "79.6365626623"
       ]
      },
      {
       "output_type": "stream",
       "stream": "stdout",
       "text": [
        "\n",
        "79.4737397157"
       ]
      },
      {
       "output_type": "stream",
       "stream": "stdout",
       "text": [
        "\n",
        "79.3701281139"
       ]
      },
      {
       "output_type": "stream",
       "stream": "stdout",
       "text": [
        "\n",
        "79.4335406973"
       ]
      },
      {
       "output_type": "stream",
       "stream": "stdout",
       "text": [
        "\n",
        "79.2998378566"
       ]
      },
      {
       "output_type": "stream",
       "stream": "stdout",
       "text": [
        "\n",
        "79.2714821509"
       ]
      },
      {
       "output_type": "stream",
       "stream": "stdout",
       "text": [
        "\n",
        "79.2273688237"
       ]
      },
      {
       "output_type": "stream",
       "stream": "stdout",
       "text": [
        "\n",
        "79.2961519803"
       ]
      },
      {
       "output_type": "stream",
       "stream": "stdout",
       "text": [
        "\n",
        "79.3823049015"
       ]
      },
      {
       "output_type": "stream",
       "stream": "stdout",
       "text": [
        "\n",
        "79.3433441457"
       ]
      },
      {
       "output_type": "stream",
       "stream": "stdout",
       "text": [
        "\n",
        "79.4077811828"
       ]
      },
      {
       "output_type": "stream",
       "stream": "stdout",
       "text": [
        "\n",
        "79.3563751385"
       ]
      },
      {
       "output_type": "stream",
       "stream": "stdout",
       "text": [
        "\n",
        "79.3814847904"
       ]
      },
      {
       "output_type": "stream",
       "stream": "stdout",
       "text": [
        "\n",
        "79.4213942572"
       ]
      },
      {
       "output_type": "stream",
       "stream": "stdout",
       "text": [
        "\n",
        "79.4682201692"
       ]
      },
      {
       "output_type": "stream",
       "stream": "stdout",
       "text": [
        "\n",
        "79.3919829582"
       ]
      },
      {
       "output_type": "stream",
       "stream": "stdout",
       "text": [
        "\n",
        "79.3018358936"
       ]
      },
      {
       "output_type": "stream",
       "stream": "stdout",
       "text": [
        "\n",
        "79.2150623734"
       ]
      },
      {
       "output_type": "stream",
       "stream": "stdout",
       "text": [
        "\n",
        "79.3027530673"
       ]
      },
      {
       "output_type": "stream",
       "stream": "stdout",
       "text": [
        "\n",
        "79.2400175445"
       ]
      },
      {
       "output_type": "stream",
       "stream": "stdout",
       "text": [
        "\n",
        "79.2177147476"
       ]
      },
      {
       "output_type": "stream",
       "stream": "stdout",
       "text": [
        "\n",
        "79.2419058652"
       ]
      },
      {
       "output_type": "stream",
       "stream": "stdout",
       "text": [
        "\n",
        "79.2569493231"
       ]
      },
      {
       "output_type": "stream",
       "stream": "stdout",
       "text": [
        "\n",
        "79.2444918035"
       ]
      },
      {
       "output_type": "stream",
       "stream": "stdout",
       "text": [
        "\n",
        "79.2544983926"
       ]
      },
      {
       "output_type": "stream",
       "stream": "stdout",
       "text": [
        "\n",
        "79.349635511"
       ]
      },
      {
       "output_type": "stream",
       "stream": "stdout",
       "text": [
        "\n",
        "79.4864470749"
       ]
      },
      {
       "output_type": "stream",
       "stream": "stdout",
       "text": [
        "\n",
        "79.5402554839"
       ]
      },
      {
       "output_type": "stream",
       "stream": "stdout",
       "text": [
        "\n",
        "79.6752343219"
       ]
      },
      {
       "output_type": "stream",
       "stream": "stdout",
       "text": [
        "\n",
        "79.5308013193"
       ]
      },
      {
       "output_type": "stream",
       "stream": "stdout",
       "text": [
        "\n",
        "79.5851070458"
       ]
      },
      {
       "output_type": "stream",
       "stream": "stdout",
       "text": [
        "\n",
        "79.5614124088"
       ]
      },
      {
       "output_type": "stream",
       "stream": "stdout",
       "text": [
        "\n",
        "79.6339156962"
       ]
      },
      {
       "output_type": "stream",
       "stream": "stdout",
       "text": [
        "\n",
        "79.6016138077"
       ]
      },
      {
       "output_type": "stream",
       "stream": "stdout",
       "text": [
        "\n",
        "79.549666449"
       ]
      },
      {
       "output_type": "stream",
       "stream": "stdout",
       "text": [
        "\n",
        "79.5498039936"
       ]
      },
      {
       "output_type": "stream",
       "stream": "stdout",
       "text": [
        "\n",
        "79.6168731355"
       ]
      },
      {
       "output_type": "stream",
       "stream": "stdout",
       "text": [
        "\n",
        "79.5367006558"
       ]
      },
      {
       "output_type": "stream",
       "stream": "stdout",
       "text": [
        "\n",
        "79.6305072626"
       ]
      },
      {
       "output_type": "stream",
       "stream": "stdout",
       "text": [
        "\n",
        "79.4654228069"
       ]
      },
      {
       "output_type": "stream",
       "stream": "stdout",
       "text": [
        "\n",
        "79.4162680804"
       ]
      },
      {
       "output_type": "stream",
       "stream": "stdout",
       "text": [
        "\n",
        "79.4089614668"
       ]
      },
      {
       "output_type": "stream",
       "stream": "stdout",
       "text": [
        "\n",
        "79.5217687964"
       ]
      },
      {
       "output_type": "stream",
       "stream": "stdout",
       "text": [
        "\n",
        "79.562526269"
       ]
      },
      {
       "output_type": "stream",
       "stream": "stdout",
       "text": [
        "\n",
        "79.546054109"
       ]
      },
      {
       "output_type": "stream",
       "stream": "stdout",
       "text": [
        "\n",
        "79.4330386667"
       ]
      },
      {
       "output_type": "stream",
       "stream": "stdout",
       "text": [
        "\n",
        "79.5644113217"
       ]
      },
      {
       "output_type": "stream",
       "stream": "stdout",
       "text": [
        "\n",
        "79.44088938"
       ]
      },
      {
       "output_type": "stream",
       "stream": "stdout",
       "text": [
        "\n",
        "79.5007237769"
       ]
      },
      {
       "output_type": "stream",
       "stream": "stdout",
       "text": [
        "\n",
        "79.4510099549"
       ]
      },
      {
       "output_type": "stream",
       "stream": "stdout",
       "text": [
        "\n",
        "79.4866019249"
       ]
      },
      {
       "output_type": "stream",
       "stream": "stdout",
       "text": [
        "\n",
        "79.4331400546"
       ]
      },
      {
       "output_type": "stream",
       "stream": "stdout",
       "text": [
        "\n",
        "79.5423095397"
       ]
      },
      {
       "output_type": "stream",
       "stream": "stdout",
       "text": [
        "\n",
        "79.530946528"
       ]
      },
      {
       "output_type": "stream",
       "stream": "stdout",
       "text": [
        "\n",
        "79.5646020963"
       ]
      },
      {
       "output_type": "stream",
       "stream": "stdout",
       "text": [
        "\n",
        "79.6872878277"
       ]
      },
      {
       "output_type": "stream",
       "stream": "stdout",
       "text": [
        "\n",
        "79.6511989689"
       ]
      },
      {
       "output_type": "stream",
       "stream": "stdout",
       "text": [
        "\n",
        "79.4672159156"
       ]
      },
      {
       "output_type": "stream",
       "stream": "stdout",
       "text": [
        "\n",
        "79.5242391443"
       ]
      },
      {
       "output_type": "stream",
       "stream": "stdout",
       "text": [
        "\n",
        "79.5002951716"
       ]
      },
      {
       "output_type": "stream",
       "stream": "stdout",
       "text": [
        "\n",
        "79.5369181585"
       ]
      },
      {
       "output_type": "stream",
       "stream": "stdout",
       "text": [
        "\n",
        "79.5707134709"
       ]
      },
      {
       "output_type": "stream",
       "stream": "stdout",
       "text": [
        "\n",
        "79.442036589"
       ]
      },
      {
       "output_type": "stream",
       "stream": "stdout",
       "text": [
        "\n",
        "79.5133380584"
       ]
      },
      {
       "output_type": "stream",
       "stream": "stdout",
       "text": [
        "\n",
        "79.4513780988"
       ]
      },
      {
       "output_type": "stream",
       "stream": "stdout",
       "text": [
        "\n",
        "79.3776288643"
       ]
      },
      {
       "output_type": "stream",
       "stream": "stdout",
       "text": [
        "\n",
        "79.4246249126"
       ]
      },
      {
       "output_type": "stream",
       "stream": "stdout",
       "text": [
        "\n",
        "79.5196996526"
       ]
      },
      {
       "output_type": "stream",
       "stream": "stdout",
       "text": [
        "\n",
        "79.5503733621"
       ]
      },
      {
       "output_type": "stream",
       "stream": "stdout",
       "text": [
        "\n",
        "79.4642351678"
       ]
      },
      {
       "output_type": "stream",
       "stream": "stdout",
       "text": [
        "\n",
        "79.4283268847"
       ]
      },
      {
       "output_type": "stream",
       "stream": "stdout",
       "text": [
        "\n",
        "79.5858403572"
       ]
      },
      {
       "output_type": "stream",
       "stream": "stdout",
       "text": [
        "\n",
        "79.7517469608"
       ]
      },
      {
       "output_type": "stream",
       "stream": "stdout",
       "text": [
        "\n",
        "79.7192982989"
       ]
      },
      {
       "output_type": "stream",
       "stream": "stdout",
       "text": [
        "\n",
        "79.7859517573"
       ]
      },
      {
       "output_type": "stream",
       "stream": "stdout",
       "text": [
        "\n",
        "79.8412798194"
       ]
      },
      {
       "output_type": "stream",
       "stream": "stdout",
       "text": [
        "\n",
        "79.6892449983"
       ]
      },
      {
       "output_type": "stream",
       "stream": "stdout",
       "text": [
        "\n",
        "79.6997798856"
       ]
      },
      {
       "output_type": "stream",
       "stream": "stdout",
       "text": [
        "\n",
        "79.7120718537"
       ]
      },
      {
       "output_type": "stream",
       "stream": "stdout",
       "text": [
        "\n",
        "79.6298472797"
       ]
      },
      {
       "output_type": "stream",
       "stream": "stdout",
       "text": [
        "\n",
        "79.6448525803"
       ]
      },
      {
       "output_type": "stream",
       "stream": "stdout",
       "text": [
        "\n",
        "79.762387304"
       ]
      },
      {
       "output_type": "stream",
       "stream": "stdout",
       "text": [
        "\n",
        "79.8035923302"
       ]
      },
      {
       "output_type": "stream",
       "stream": "stdout",
       "text": [
        "\n",
        "79.7061328517"
       ]
      },
      {
       "output_type": "stream",
       "stream": "stdout",
       "text": [
        "\n",
        "79.7080363477"
       ]
      },
      {
       "output_type": "stream",
       "stream": "stdout",
       "text": [
        "\n",
        "79.693104002"
       ]
      },
      {
       "output_type": "stream",
       "stream": "stdout",
       "text": [
        "\n",
        "79.5927932915"
       ]
      },
      {
       "output_type": "stream",
       "stream": "stdout",
       "text": [
        "\n",
        "79.6407273102"
       ]
      },
      {
       "output_type": "stream",
       "stream": "stdout",
       "text": [
        "\n",
        "79.7162381302"
       ]
      },
      {
       "output_type": "stream",
       "stream": "stdout",
       "text": [
        "\n",
        "79.7971142103"
       ]
      },
      {
       "output_type": "stream",
       "stream": "stdout",
       "text": [
        "\n",
        "79.8624692693"
       ]
      },
      {
       "output_type": "stream",
       "stream": "stdout",
       "text": [
        "\n",
        "79.824920507"
       ]
      },
      {
       "output_type": "stream",
       "stream": "stdout",
       "text": [
        "\n",
        "79.9680862713"
       ]
      },
      {
       "output_type": "stream",
       "stream": "stdout",
       "text": [
        "\n",
        "79.9318870812"
       ]
      },
      {
       "output_type": "stream",
       "stream": "stdout",
       "text": [
        "\n",
        "79.997548232"
       ]
      },
      {
       "output_type": "stream",
       "stream": "stdout",
       "text": [
        "\n",
        "80.0239940711"
       ]
      },
      {
       "output_type": "stream",
       "stream": "stdout",
       "text": [
        "\n",
        "79.995031141"
       ]
      },
      {
       "output_type": "stream",
       "stream": "stdout",
       "text": [
        "\n",
        "79.9588160114"
       ]
      },
      {
       "output_type": "stream",
       "stream": "stdout",
       "text": [
        "\n",
        "79.9040800575"
       ]
      },
      {
       "output_type": "stream",
       "stream": "stdout",
       "text": [
        "\n",
        "79.7910696596"
       ]
      },
      {
       "output_type": "stream",
       "stream": "stdout",
       "text": [
        "\n",
        "79.7214198593"
       ]
      },
      {
       "output_type": "stream",
       "stream": "stdout",
       "text": [
        "\n",
        "79.6991783757"
       ]
      },
      {
       "output_type": "stream",
       "stream": "stdout",
       "text": [
        "\n",
        "79.7377445695"
       ]
      },
      {
       "output_type": "stream",
       "stream": "stdout",
       "text": [
        "\n",
        "79.710999238"
       ]
      },
      {
       "output_type": "stream",
       "stream": "stdout",
       "text": [
        "\n",
        "79.6476813114"
       ]
      },
      {
       "output_type": "stream",
       "stream": "stdout",
       "text": [
        "\n",
        "79.5772714943"
       ]
      },
      {
       "output_type": "stream",
       "stream": "stdout",
       "text": [
        "\n",
        "79.6056596776"
       ]
      },
      {
       "output_type": "stream",
       "stream": "stdout",
       "text": [
        "\n",
        "79.6601609445"
       ]
      },
      {
       "output_type": "stream",
       "stream": "stdout",
       "text": [
        "\n",
        "79.6699523025"
       ]
      },
      {
       "output_type": "stream",
       "stream": "stdout",
       "text": [
        "\n",
        "79.7196101166"
       ]
      },
      {
       "output_type": "stream",
       "stream": "stdout",
       "text": [
        "\n",
        "79.8086241396"
       ]
      },
      {
       "output_type": "stream",
       "stream": "stdout",
       "text": [
        "\n",
        "79.7676348556"
       ]
      },
      {
       "output_type": "stream",
       "stream": "stdout",
       "text": [
        "\n",
        "79.7503525138"
       ]
      },
      {
       "output_type": "stream",
       "stream": "stdout",
       "text": [
        "\n",
        "79.796239357"
       ]
      },
      {
       "output_type": "stream",
       "stream": "stdout",
       "text": [
        "\n",
        "79.8478554489"
       ]
      },
      {
       "output_type": "stream",
       "stream": "stdout",
       "text": [
        "\n",
        "79.952844082"
       ]
      },
      {
       "output_type": "stream",
       "stream": "stdout",
       "text": [
        "\n",
        "79.9974831083"
       ]
      },
      {
       "output_type": "stream",
       "stream": "stdout",
       "text": [
        "\n",
        "79.9070069154"
       ]
      },
      {
       "output_type": "stream",
       "stream": "stdout",
       "text": [
        "\n",
        "79.8576577172"
       ]
      },
      {
       "output_type": "stream",
       "stream": "stdout",
       "text": [
        "\n",
        "80.0174172498"
       ]
      },
      {
       "output_type": "stream",
       "stream": "stdout",
       "text": [
        "\n",
        "80.0717431938"
       ]
      },
      {
       "output_type": "stream",
       "stream": "stdout",
       "text": [
        "\n",
        "change speed"
       ]
      },
      {
       "output_type": "stream",
       "stream": "stdout",
       "text": [
        "\n",
        "80.0522851272"
       ]
      },
      {
       "output_type": "stream",
       "stream": "stdout",
       "text": [
        "\n",
        "80.0285151609"
       ]
      },
      {
       "output_type": "stream",
       "stream": "stdout",
       "text": [
        "\n",
        "change speed"
       ]
      },
      {
       "output_type": "stream",
       "stream": "stdout",
       "text": [
        "\n",
        "80.0837921764\n",
        "80.1776876297"
       ]
      },
      {
       "output_type": "stream",
       "stream": "stdout",
       "text": [
        "\n",
        "80.2821457601"
       ]
      },
      {
       "output_type": "stream",
       "stream": "stdout",
       "text": [
        "\n",
        "80.3485104767"
       ]
      },
      {
       "output_type": "stream",
       "stream": "stdout",
       "text": [
        "\n",
        "80.1876758859"
       ]
      },
      {
       "output_type": "stream",
       "stream": "stdout",
       "text": [
        "\n",
        "80.2049461442"
       ]
      },
      {
       "output_type": "stream",
       "stream": "stdout",
       "text": [
        "\n",
        "80.1831367088"
       ]
      },
      {
       "output_type": "stream",
       "stream": "stdout",
       "text": [
        "\n",
        "change speed"
       ]
      },
      {
       "output_type": "stream",
       "stream": "stdout",
       "text": [
        "\n",
        "80.1861367385"
       ]
      },
      {
       "output_type": "stream",
       "stream": "stdout",
       "text": [
        "\n",
        "80.2494394562"
       ]
      },
      {
       "output_type": "stream",
       "stream": "stdout",
       "text": [
        "\n",
        "change speed"
       ]
      },
      {
       "output_type": "stream",
       "stream": "stdout",
       "text": [
        "\n",
        "80.2069172927"
       ]
      },
      {
       "output_type": "stream",
       "stream": "stdout",
       "text": [
        "\n",
        "80.2623659639"
       ]
      },
      {
       "output_type": "stream",
       "stream": "stdout",
       "text": [
        "\n",
        "80.249166736"
       ]
      },
      {
       "output_type": "stream",
       "stream": "stdout",
       "text": [
        "\n",
        "80.114120305"
       ]
      },
      {
       "output_type": "stream",
       "stream": "stdout",
       "text": [
        "\n",
        "80.1839070897"
       ]
      },
      {
       "output_type": "stream",
       "stream": "stdout",
       "text": [
        "\n",
        "80.3608828446"
       ]
      },
      {
       "output_type": "stream",
       "stream": "stdout",
       "text": [
        "\n",
        "80.2801265336"
       ]
      },
      {
       "output_type": "stream",
       "stream": "stdout",
       "text": [
        "\n",
        "80.2632709485"
       ]
      },
      {
       "output_type": "stream",
       "stream": "stdout",
       "text": [
        "\n",
        "change speed"
       ]
      },
      {
       "output_type": "stream",
       "stream": "stdout",
       "text": [
        "\n",
        "pause"
       ]
      },
      {
       "output_type": "stream",
       "stream": "stdout",
       "text": [
        "\n",
        "pause"
       ]
      },
      {
       "output_type": "stream",
       "stream": "stdout",
       "text": [
        "\n",
        "quit"
       ]
      },
      {
       "output_type": "stream",
       "stream": "stdout",
       "text": [
        "\n"
       ]
      }
     ],
     "prompt_number": 5
    },
    {
     "cell_type": "code",
     "collapsed": false,
     "input": [
      "count"
     ],
     "language": "python",
     "metadata": {},
     "outputs": [
      {
       "metadata": {},
       "output_type": "pyout",
       "prompt_number": 93,
       "text": [
        "40135"
       ]
      }
     ],
     "prompt_number": 93
    },
    {
     "cell_type": "code",
     "collapsed": false,
     "input": [
      "# \u7b2c\u4e8c\u5217\u7b2c\u56db\u4e2a\u7a97\u53e3\n",
      "cap = cv2.VideoCapture('data/tube.mp4')\n",
      "\n",
      "count = 0\n",
      "\n",
      "p = 0.1\n",
      "t = 3\n",
      "speed = 1\n",
      "\n",
      "while cap.isOpened():\n",
      "    count += 1\n",
      "    \n",
      "    ret, frame = cap.read()\n",
      "    if not ret:\n",
      "        print('quit')\n",
      "        break\n",
      "        \n",
      "    tube = frame[:, 33:70, 0]\n",
      "    window = frame[113:141, 89:101]\n",
      "    blue = window[:, :, 0]\n",
      "    \n",
      "    if count == 1:\n",
      "        background = blue.astype('float64')\n",
      "        first_avg = tube.mean()\n",
      "    else:\n",
      "        blue = blue + first_avg - tube.mean()\n",
      "        \n",
      "    foreground = np.absolute(blue - background).astype('uint8')\n",
      "    foreground[foreground<=t] = 0\n",
      "    \n",
      "    if not count % 20:\n",
      "        tmp = p * blue + (1 - p) * background\n",
      "        background[foreground==0] = tmp[foreground==0]\n",
      "        \n",
      "#     fore_bl = cv2.medianBlur(foreground, 3)\n",
      "    sobel_ = cv2.Sobel(foreground, cv2.CV_8U, 0, 1)\n",
      "    ret, sobel = cv2.threshold(sobel_, 33, 255, cv2.THRESH_BINARY)\n",
      "    sobel_bl = median_filter(sobel)\n",
      "    \n",
      "    if count < 18000:\n",
      "        continue\n",
      "#     else:\n",
      "#         key = cv2.waitKey() & 0xff\n",
      "    \n",
      "    show_im(8, frame, window, blue.astype('uint8'), \n",
      "            background.astype('uint8'), foreground, sobel, sobel_bl)\n",
      "\n",
      "    key = cv2.waitKey(speed) & 0xff\n",
      "    if key == ord('q'):\n",
      "        print('quit')\n",
      "        break\n",
      "    elif key == ord('p'):\n",
      "        print('pause')\n",
      "        cv2.waitKey()\n",
      "    elif key == ord('c'):\n",
      "        print('change speed')\n",
      "        speed = 40 - speed\n",
      "        \n",
      "cap.release()\n",
      "cv2.destroyAllWindows()"
     ],
     "language": "python",
     "metadata": {},
     "outputs": [
      {
       "output_type": "stream",
       "stream": "stdout",
       "text": [
        "pause\n",
        "pause"
       ]
      },
      {
       "output_type": "stream",
       "stream": "stdout",
       "text": [
        "\n",
        "quit"
       ]
      },
      {
       "output_type": "stream",
       "stream": "stdout",
       "text": [
        "\n"
       ]
      }
     ],
     "prompt_number": 4
    },
    {
     "cell_type": "code",
     "collapsed": false,
     "input": [
      "###############################################################################\n",
      "################################## \u4ee5\u4e0b\u4e3a\u5b9e\u9a8c\u7684\u5931\u8d25\u54c1 ############################\n",
      "###############################################################################"
     ],
     "language": "python",
     "metadata": {},
     "outputs": []
    },
    {
     "cell_type": "code",
     "collapsed": false,
     "input": [
      "# \u76f8\u51cf\u540e\u53ea\u80fd\u7f29\u5c0f\n",
      "cap = cv2.VideoCapture('data/tube.mp4')\n",
      "\n",
      "count = 0\n",
      "\n",
      "p = 0.2\n",
      "t = 3\n",
      "speed = 1\n",
      "\n",
      "while cap.isOpened():\n",
      "    count += 1\n",
      "    \n",
      "    ret, frame = cap.read()\n",
      "    if not ret:\n",
      "        print('quit')\n",
      "        break\n",
      "        \n",
      "    tube = frame[:, 33:70, 0]\n",
      "    window = frame[113:141, 90:100]\n",
      "    blue = window[:, :, 0]\n",
      "    \n",
      "    if count == 1:\n",
      "        background = blue.astype('float64')\n",
      "        first_avg = tube.mean()\n",
      "    else:\n",
      "        blue = blue + first_avg - tube.mean()\n",
      "        \n",
      "    blue_eq = cv2.equalizeHist(blue.astype('uint8'))\n",
      "    blue_bl = cv2.medianBlur(blue_eq, 3)\n",
      "    background_eq = cv2.equalizeHist(background.astype('uint8'))\n",
      "    background_bl = cv2.medianBlur(background_eq, 3)\n",
      "    blue_edge = cv2.Sobel(blue_bl, cv2.CV_64F, 0, 1)\n",
      "    background_edge = cv2.Sobel(background_bl, cv2.CV_64F, 0, 1)\n",
      "    edge = blue_edge - background_edge\n",
      "    index = np.any((np.all((blue_edge>=0, edge<0), axis=0), \n",
      "                    np.all((blue_edge<=0, edge>0), axis=0)), axis=0)\n",
      "    edge[index] = 0\n",
      "    index = np.any((np.all((blue_edge>=0, background_edge<0), axis=0),\n",
      "                    np.all((blue_edge<=0, background_edge>0), axis=0)), axis=0)\n",
      "    edge[index] = blue_edge[index]\n",
      "    edge = np.abs(edge).astype('uint8')\n",
      "    edge_bl = cv2.medianBlur(edge, 3)\n",
      "    \n",
      "    foreground = np.abs(blue - background).astype('uint8')\n",
      "    foreground[foreground<=t] = 0\n",
      "    \n",
      "    ret, edge_bl_th = cv2.threshold(edge_bl, 120, 255, cv2.THRESH_BINARY)\n",
      "    \n",
      "    if not count % 20:\n",
      "        tmp = p * blue + (1 - p) * background\n",
      "        background[foreground==0] = tmp[foreground==0]\n",
      "        \n",
      "#     if count < 44000:\n",
      "#         continue\n",
      "#     else:\n",
      "#         key = cv2.waitKey() & 0xff\n",
      "    \n",
      "    show_im(6, frame, window, blue_eq, background_eq,\n",
      "            np.abs(blue_edge).astype('uint8'), np.abs(background_edge).astype('uint8'), edge, edge_bl, edge_bl_th)\n",
      "\n",
      "    key = cv2.waitKey(speed) & 0xff\n",
      "    if key == ord('q'):\n",
      "        print('quit')\n",
      "        break\n",
      "    elif key == ord('p'):\n",
      "        print('pause')\n",
      "        cv2.waitKey()\n",
      "    elif key == ord('c'):\n",
      "        print('change speed')\n",
      "        speed = 50 - speed\n",
      "        \n",
      "cap.release()\n",
      "cv2.destroyAllWindows()"
     ],
     "language": "python",
     "metadata": {},
     "outputs": [
      {
       "output_type": "stream",
       "stream": "stdout",
       "text": [
        "change speed\n",
        "pause"
       ]
      },
      {
       "output_type": "stream",
       "stream": "stdout",
       "text": [
        "\n",
        "change speed"
       ]
      },
      {
       "output_type": "stream",
       "stream": "stdout",
       "text": [
        "\n",
        "change speed"
       ]
      },
      {
       "output_type": "stream",
       "stream": "stdout",
       "text": [
        "\n",
        "quit"
       ]
      },
      {
       "output_type": "stream",
       "stream": "stdout",
       "text": [
        "\n"
       ]
      }
     ],
     "prompt_number": 33
    },
    {
     "cell_type": "code",
     "collapsed": false,
     "input": [
      "ret, edge_th = cv2.threshold(edge, 30, 255, cv2.THRESH_BINARY)\n",
      "ret, edge_bl_th = cv2.threshold(edge_bl, 19, 255, cv2.THRESH_BINARY)"
     ],
     "language": "python",
     "metadata": {},
     "outputs": [],
     "prompt_number": 14
    },
    {
     "cell_type": "code",
     "collapsed": false,
     "input": [
      "show_im(8, None, edge_th, edge_bl_th)\n",
      "cv2.waitKey()\n",
      "cv2.destroyAllWindows()"
     ],
     "language": "python",
     "metadata": {},
     "outputs": [],
     "prompt_number": 15
    },
    {
     "cell_type": "code",
     "collapsed": false,
     "input": [
      "print(count)"
     ],
     "language": "python",
     "metadata": {},
     "outputs": [
      {
       "output_type": "stream",
       "stream": "stdout",
       "text": [
        "45025\n"
       ]
      }
     ],
     "prompt_number": 18
    },
    {
     "cell_type": "code",
     "collapsed": false,
     "input": [
      "print(edge_bl)"
     ],
     "language": "python",
     "metadata": {},
     "outputs": [
      {
       "output_type": "stream",
       "stream": "stdout",
       "text": [
        "[[  0   0   0   0   0   0   0   0   0   0]\n",
        " [  0   0   0   0   0   0   0   0   0   0]\n",
        " [  0   0   0   0   0   0   0   0   0   0]\n",
        " [  0   0   0   0   0   0   0   0   0   0]\n",
        " [  0   0   0   0   0   0   0   0   0   0]\n",
        " [  0   0   0   0   0   0   0   0   0   0]\n",
        " [  0   0   0   0   0   0   0   0   0   0]\n",
        " [  0   0   0   0   0   0   0   0   0   8]\n",
        " [  0   0   0   0   0   0   0   0   0   8]\n",
        " [  0   0   0   0  46  23   6   6  19  26]\n",
        " [ 60   7   7  55  77  77  34  31  58  66]\n",
        " [ 98  70  46  55  59  85 111 134 134 120]\n",
        " [ 98  71  70  59 102 122 134 165 150 150]\n",
        " [ 60  60  65  71 122 154 193 194 149 144]\n",
        " [ 40  56  65 112 135 162 182 149 108 108]\n",
        " [ 60  64  92 131 156 156 134 109  70  58]\n",
        " [ 74  76 112 138 138 131 121 107  70  58]\n",
        " [ 74  76 108 131 117 109 108  84  63  44]\n",
        " [ 16  35  68  68  40  40  56  56  55  44]\n",
        " [  0   1  13  22  22  18   9   9  18  18]\n",
        " [  0   0   0   4   4   4   4   7   9   8]\n",
        " [ 12  12   0   0   1   2   2  30   8   2]\n",
        " [ 28  28  28   4   1   4  32  40  54  30]\n",
        " [ 64  95  95  94  65  59  59  71  94 100]\n",
        " [110 117 138 178 178 141 110 103 100 100]\n",
        " [113 117 138 178 195 178 196 110 110   0]\n",
        " [ 94 113 117 137 154 154 196  17   0   0]\n",
        " [  0   0   0   0   0   0   0   0   0   0]]\n"
       ]
      }
     ],
     "prompt_number": 34
    },
    {
     "cell_type": "code",
     "collapsed": false,
     "input": [
      "# \u76f8\u51cf\u540e\u7b26\u53f7\u4e0d\u80fd\u53d8\n",
      "cap = cv2.VideoCapture('data/tube.mp4')\n",
      "\n",
      "count = 0\n",
      "\n",
      "p = 0.2\n",
      "t = 3\n",
      "speed = 1\n",
      "\n",
      "while cap.isOpened():\n",
      "    count += 1\n",
      "    \n",
      "    ret, frame = cap.read()\n",
      "    if not ret:\n",
      "        print('quit')\n",
      "        break\n",
      "        \n",
      "    tube = frame[:, 33:70, 0]\n",
      "    window = frame[150:177, 90:102]\n",
      "    blue = window[:, :, 0]\n",
      "    \n",
      "    if count == 1:\n",
      "        background = blue.astype('float64')\n",
      "        first_avg = tube.mean()\n",
      "    else:\n",
      "        blue = blue + first_avg - tube.mean()\n",
      "        \n",
      "    blue_edge = cv2.Sobel(blue, cv2.CV_64F, 0, 1)\n",
      "    background_edge = cv2.Sobel(background, cv2.CV_64F, 0, 1)\n",
      "    edge_diff = blue_edge - background_edge\n",
      "    edge = np.zeros(blue.shape, dtype='float64')\n",
      "    index = np.any((np.all((blue_edge>=0, edge_diff>=0), axis=0), \n",
      "                    np.all((blue_edge<0, edge_diff<0), axis=0)), axis=0)\n",
      "    edge[index] = edge_diff[index]\n",
      "    edge = np.abs(edge).astype('uint8')\n",
      "    edge_bl = cv2.medianBlur(edge, 3)\n",
      "    \n",
      "    foreground = np.abs(blue - background).astype('uint8')\n",
      "    foreground[foreground<=t] = 0\n",
      "    \n",
      "    if not count % 20:\n",
      "        tmp = p * blue + (1 - p) * background\n",
      "        background[foreground==0] = tmp[foreground==0]\n",
      "        \n",
      "#     if count < 44000:\n",
      "#         continue\n",
      "        \n",
      "#     fore_bl = cv2.medianBlur(foreground, 3)\n",
      "#     sobel = np.absolute(cv2.Sobel(fore_bl, cv2.CV_64F, 0, 1)).astype('uint8')\n",
      "#     ret, sobel = cv2.threshold(sobel, 20, 255, cv2.THRESH_BINARY)\n",
      "#     filtered = cv2.medianBlur(sobel, 3)\n",
      "    ##################################################################################\n",
      "    if count < 44000:\n",
      "        continue\n",
      "    else:\n",
      "        key = cv2.waitKey() & 0xff\n",
      "    \n",
      "    show_im(6, frame, window, blue.astype('uint8'), background.astype('uint8'),\n",
      "            np.abs(blue_edge).astype('uint8'), np.abs(background_edge).astype('uint8'), edge, edge_bl)\n",
      "\n",
      "\n",
      "    if key == ord('q'):\n",
      "        print('quit')\n",
      "        break\n",
      "    elif key == ord('p'):\n",
      "        print('pause')\n",
      "        cv2.waitKey()\n",
      "    elif key == ord('c'):\n",
      "        print('change speed')\n",
      "        speed = 60 - speed\n",
      "        \n",
      "cap.release()\n",
      "cv2.destroyAllWindows()"
     ],
     "language": "python",
     "metadata": {},
     "outputs": [
      {
       "output_type": "stream",
       "stream": "stdout",
       "text": [
        "quit\n"
       ]
      }
     ],
     "prompt_number": 3
    },
    {
     "cell_type": "code",
     "collapsed": false,
     "input": [
      "print(count)"
     ],
     "language": "python",
     "metadata": {},
     "outputs": [
      {
       "output_type": "stream",
       "stream": "stdout",
       "text": [
        "44001\n"
       ]
      }
     ],
     "prompt_number": 4
    },
    {
     "cell_type": "code",
     "collapsed": false,
     "input": [
      "print(blue_edge[7, 4])\n",
      "print(background_edge[7, 4])\n",
      "print(edge[7, 4])"
     ],
     "language": "python",
     "metadata": {},
     "outputs": [
      {
       "output_type": "stream",
       "stream": "stdout",
       "text": [
        "-10.0\n",
        "69.8090254464\n",
        "79\n"
       ]
      }
     ],
     "prompt_number": 9
    },
    {
     "cell_type": "code",
     "collapsed": false,
     "input": [
      "# \u5bf9\u524d\u666f\u4e0d\u8fdb\u884c\u6ee4\u6ce2\u76f4\u63a5\u6c42\u8fb9\u7f18\n",
      "cap = cv2.VideoCapture('data/tube.mp4')\n",
      "\n",
      "count = 0\n",
      "\n",
      "p = 0.2\n",
      "t = 3\n",
      "speed = 1\n",
      "\n",
      "while cap.isOpened():\n",
      "    count += 1\n",
      "    \n",
      "    ret, frame = cap.read()\n",
      "    if not ret:\n",
      "        print('quit')\n",
      "        break\n",
      "        \n",
      "    tube = frame[:, 33:70, 0]\n",
      "    window = frame[150:177, 90:102]\n",
      "    blue = window[:, :, 0]\n",
      "    \n",
      "    if count == 1:\n",
      "        background = blue.astype('float64')\n",
      "        first_avg = tube.mean()\n",
      "    else:\n",
      "        blue = blue + first_avg - tube.mean()\n",
      "        \n",
      "    foreground = np.abs(blue - background).astype('uint8')\n",
      "    foreground[foreground<=t] = 0\n",
      "    \n",
      "    if not count % 20:\n",
      "        tmp = p * blue + (1 - p) * background\n",
      "        background[foreground==0] = tmp[foreground==0]\n",
      "        \n",
      "#     if count < 44000:\n",
      "#         continue\n",
      "        \n",
      "    fore_edge = np.abs(cv2.Sobel(foreground, cv2.CV_64F, 0, 1)).astype('uint8')\n",
      "    fore_bl = cv2.medianBlur(fore_edge, 3)\n",
      "#     fore_bl = cv2.medianBlur(foreground, 3)\n",
      "#     sobel = np.absolute(cv2.Sobel(fore_bl, cv2.CV_64F, 0, 1)).astype('uint8')\n",
      "#     ret, sobel = cv2.threshold(sobel, 20, 255, cv2.THRESH_BINARY)\n",
      "#     filtered1 = median_filter(sobel)\n",
      "#     filtered2 = cv2.medianBlur(sobel, 3)\n",
      "    ##################################################################################\n",
      "    if count < 44000:\n",
      "        continue\n",
      "    \n",
      "    show_im(6, frame, window, blue.astype('uint8'), background.astype('uint8'),\n",
      "            foreground, fore_edge, fore_bl)\n",
      "\n",
      "    key = cv2.waitKey(speed) & 0xff\n",
      "    if key == ord('q'):\n",
      "        print('quit')\n",
      "        break\n",
      "    elif key == ord('p'):\n",
      "        print('pause')\n",
      "        cv2.waitKey()\n",
      "    elif key == ord('c'):\n",
      "        print('change speed')\n",
      "        speed = 60 - speed\n",
      "        \n",
      "cap.release()\n",
      "cv2.destroyAllWindows()"
     ],
     "language": "python",
     "metadata": {},
     "outputs": [
      {
       "output_type": "stream",
       "stream": "stdout",
       "text": [
        "change speed\n",
        "pause"
       ]
      },
      {
       "output_type": "stream",
       "stream": "stdout",
       "text": [
        "\n",
        "pause"
       ]
      },
      {
       "output_type": "stream",
       "stream": "stdout",
       "text": [
        "\n",
        "pause"
       ]
      },
      {
       "output_type": "stream",
       "stream": "stdout",
       "text": [
        "\n",
        "pause"
       ]
      },
      {
       "output_type": "stream",
       "stream": "stdout",
       "text": [
        "\n",
        "pause"
       ]
      },
      {
       "output_type": "stream",
       "stream": "stdout",
       "text": [
        "\n",
        "quit"
       ]
      },
      {
       "output_type": "stream",
       "stream": "stdout",
       "text": [
        "\n"
       ]
      }
     ],
     "prompt_number": 167
    },
    {
     "cell_type": "code",
     "collapsed": false,
     "input": [
      "fore_bl = cv2.medianBlur(fore_edge, 3)\n",
      "plt.imshow(fore_bl, 'gray')\n",
      "plt.show()"
     ],
     "language": "python",
     "metadata": {},
     "outputs": [],
     "prompt_number": 169
    },
    {
     "cell_type": "code",
     "collapsed": false,
     "input": [
      "import matplotlib.pyplot as plt"
     ],
     "language": "python",
     "metadata": {},
     "outputs": [],
     "prompt_number": 168
    },
    {
     "cell_type": "code",
     "collapsed": false,
     "input": [
      "# \u5728\u6240\u6709\u7a97\u53e3\u4e0a\u7684\u6548\u679c\n",
      "window_pos = [[5, 33, 92, 105],\n",
      "            [40, 68, 90, 103],\n",
      "            [76, 105, 89, 101],\n",
      "            [113, 141, 89, 101],\n",
      "            [150, 177, 90, 102],\n",
      "            [185, 210, 92, 104],\n",
      "            [219, 244, 95, 107]]\n",
      "\n",
      "cap = cv2.VideoCapture('data/tube.mp4')\n",
      "\n",
      "count = 0\n",
      "\n",
      "p = 0.2\n",
      "t = 3\n",
      "speed = 1\n",
      "\n",
      "while cap.isOpened():\n",
      "    count += 1\n",
      "    \n",
      "    ret, frame = cap.read()\n",
      "    if not ret:\n",
      "        print('quit')\n",
      "        break\n",
      "        \n",
      "    tube = frame[:, 33:70, 0]\n",
      "    window = frame[5:244, 89:107]\n",
      "    blue = window[:, :, 0]\n",
      "    \n",
      "    if count == 1:\n",
      "        background = blue.astype('float64')\n",
      "        first_avg = tube.mean()\n",
      "    else:\n",
      "        blue = blue + first_avg - tube.mean()\n",
      "        \n",
      "    foreground = np.zeros(background.shape, dtype='uint8')\n",
      "    for y_start, y_end, x_start, x_end in window_pos:\n",
      "        y_start -= 5\n",
      "        y_end -= 5\n",
      "        x_start -= 89\n",
      "        x_end -= 89\n",
      "        foreground[y_start:y_end, x_start:x_end] = np.abs(blue[y_start:y_end, x_start:x_end] \n",
      "                                                          - background[y_start:y_end, x_start:x_end]).astype('uint8')\n",
      "        foreground[foreground<=t] = 0\n",
      "    \n",
      "    if not count % 20:\n",
      "        tmp = p * blue + (1 - p) * background\n",
      "        background[foreground==0] = tmp[foreground==0]\n",
      "        \n",
      "#     if count < 44000:\n",
      "#         continue\n",
      "        \n",
      "    fore_bl = cv2.medianBlur(foreground, 3)\n",
      "    sobel = np.absolute(cv2.Sobel(fore_bl, cv2.CV_64F, 0, 1)).astype('uint8')\n",
      "    ret, sobel = cv2.threshold(sobel, 20, 255, cv2.THRESH_BINARY)\n",
      "    filtered1 = median_filter(sobel)\n",
      "    filtered2 = cv2.medianBlur(sobel, 3)\n",
      "    ##################################################################################\n",
      "#     if count < 23470:\n",
      "#         continue\n",
      "#     else:\n",
      "#         break\n",
      "    \n",
      "    show_im(2, frame, window, blue.astype('uint8'), background.astype('uint8'),\n",
      "            foreground, fore_bl, sobel, filtered1, filtered2)\n",
      "\n",
      "    key = cv2.waitKey(speed) & 0xff\n",
      "    if key == ord('q'):\n",
      "        print('quit')\n",
      "        break\n",
      "    elif key == ord('p'):\n",
      "        print('pause')\n",
      "        cv2.waitKey()\n",
      "    elif key == ord('c'):\n",
      "        print('change speed')\n",
      "        speed = 60 - speed\n",
      "        \n",
      "cap.release()\n",
      "cv2.destroyAllWindows()"
     ],
     "language": "python",
     "metadata": {},
     "outputs": [
      {
       "output_type": "stream",
       "stream": "stdout",
       "text": [
        "pause\n",
        "change speed"
       ]
      },
      {
       "output_type": "stream",
       "stream": "stdout",
       "text": [
        "\n",
        "change speed"
       ]
      },
      {
       "output_type": "stream",
       "stream": "stdout",
       "text": [
        "\n",
        "change speed"
       ]
      },
      {
       "output_type": "stream",
       "stream": "stdout",
       "text": [
        "\n",
        "change speed"
       ]
      },
      {
       "output_type": "stream",
       "stream": "stdout",
       "text": [
        "\n",
        "change speed"
       ]
      },
      {
       "output_type": "stream",
       "stream": "stdout",
       "text": [
        "\n",
        "change speed"
       ]
      },
      {
       "output_type": "stream",
       "stream": "stdout",
       "text": [
        "\n",
        "change speed"
       ]
      },
      {
       "output_type": "stream",
       "stream": "stdout",
       "text": [
        "\n",
        "change speed"
       ]
      },
      {
       "output_type": "stream",
       "stream": "stdout",
       "text": [
        "\n",
        "change speed"
       ]
      },
      {
       "output_type": "stream",
       "stream": "stdout",
       "text": [
        "\n",
        "pause"
       ]
      },
      {
       "output_type": "stream",
       "stream": "stdout",
       "text": [
        "\n",
        "pause"
       ]
      },
      {
       "output_type": "stream",
       "stream": "stdout",
       "text": [
        "\n",
        "quit"
       ]
      },
      {
       "output_type": "stream",
       "stream": "stdout",
       "text": [
        "\n"
       ]
      }
     ],
     "prompt_number": 133
    },
    {
     "cell_type": "code",
     "collapsed": false,
     "input": [
      "# \u65f6\u95f4\u548c\u7a7a\u95f4\u6ee4\u6ce2\u5bf9\u6bd4\n",
      "cap = cv2.VideoCapture('data/tube.mp4')\n",
      "\n",
      "count = 0\n",
      "\n",
      "maxlen = 40\n",
      "blues = deque(maxlen=maxlen)\n",
      "\n",
      "p = 0.2\n",
      "t = 5\n",
      "speed = 1\n",
      "\n",
      "while cap.isOpened():\n",
      "    count += 1\n",
      "    \n",
      "    ret, frame = cap.read()\n",
      "    if not ret:\n",
      "        print('quit')\n",
      "        break\n",
      "        \n",
      "    tube = frame[:, 33:70, 0]\n",
      "    window = frame[113:141, 89:101]\n",
      "    blue = window[:, :, 0]\n",
      "    blue_o = blue\n",
      "    \n",
      "    if count == 1:\n",
      "        background_o = blue.astype('float64')\n",
      "        first_avg = tube.mean()\n",
      "    else:\n",
      "        blue = blue + first_avg - first_avg\n",
      "    \n",
      "    blues.append(blue)\n",
      "    \n",
      "    if count < maxlen:\n",
      "        continue\n",
      "    \n",
      "    blue = np.median(blues, axis=0)\n",
      "    \n",
      "    if count == maxlen:\n",
      "        background = blue\n",
      "        continue\n",
      "        \n",
      "    foreground = np.absolute(blue - background).astype('uint8')\n",
      "    foreground[foreground<=t] = 0\n",
      "    \n",
      "    if not count % 20:\n",
      "        tmp = p * blue + (1 - p) * background\n",
      "        background[foreground==0] = tmp[foreground==0]\n",
      "        \n",
      "    fore_bl = cv2.medianBlur(foreground, 3)\n",
      "    sobel = np.absolute(cv2.Sobel(fore_bl, cv2.CV_64F, 0, 1)).astype('uint8')\n",
      "    ret, sobel = cv2.threshold(sobel, 30, 255, cv2.THRESH_BINARY)\n",
      "    filtered = median_filter(sobel)\n",
      "    #################################################################################\n",
      "    blue_o = blue_o + first_avg - tube.mean()\n",
      "        \n",
      "    foreground_o = np.absolute(blue_o - background_o).astype('uint8')\n",
      "    foreground_o[foreground_o<=t] = 0\n",
      "    \n",
      "    if not count % 20:\n",
      "        tmp = p * blue_o + (1 - p) * background_o\n",
      "        background_o[foreground_o==0] = tmp[foreground_o==0]\n",
      "        \n",
      "    if count < 9500:\n",
      "        continue\n",
      "        \n",
      "    fore_bl_o = cv2.medianBlur(foreground_o, 3)\n",
      "    sobel_o = np.absolute(cv2.Sobel(fore_bl_o, cv2.CV_64F, 0, 1)).astype('uint8')\n",
      "    ret, sobel_o = cv2.threshold(sobel_o, 30, 255, cv2.THRESH_BINARY)\n",
      "    filtered_o = median_filter(sobel_o)\n",
      "    ##################################################################################\n",
      "    show_im(4, frame, window, blue.astype('uint8'), blue_o.astype('uint8'), background.astype('uint8'),\n",
      "            background_o.astype('uint8'), foreground, foreground_o, fore_bl, fore_bl_o, sobel, sobel_o, filtered, filtered_o)\n",
      "\n",
      "    key = cv2.waitKey(speed) & 0xff\n",
      "    if key == ord('q'):\n",
      "        print('quit')\n",
      "        break\n",
      "    elif key == ord('p'):\n",
      "        print('pause')\n",
      "        cv2.waitKey()\n",
      "    elif key == ord('c'):\n",
      "        print('change speed')\n",
      "        speed = 40 - speed\n",
      "        \n",
      "cap.release()\n",
      "cv2.destroyAllWindows()"
     ],
     "language": "python",
     "metadata": {},
     "outputs": [
      {
       "output_type": "stream",
       "stream": "stdout",
       "text": [
        "change speed\n",
        "quit"
       ]
      },
      {
       "output_type": "stream",
       "stream": "stdout",
       "text": [
        "\n"
       ]
      }
     ],
     "prompt_number": 51
    }
   ],
   "metadata": {}
  }
 ]
}