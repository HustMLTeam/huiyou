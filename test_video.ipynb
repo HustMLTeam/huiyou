{
 "metadata": {
  "name": "",
  "signature": "sha256:3f267f33afb79910aab10d733633e00bb3c9b43aa776f1285a32589d0ad6f0b1"
 },
 "nbformat": 3,
 "nbformat_minor": 0,
 "worksheets": [
  {
   "cells": [
    {
     "cell_type": "code",
     "collapsed": false,
     "input": [
      "import numpy as np\n",
      "import cv2"
     ],
     "language": "python",
     "metadata": {},
     "outputs": [],
     "prompt_number": 1
    },
    {
     "cell_type": "code",
     "collapsed": false,
     "input": [
      "from time import sleep"
     ],
     "language": "python",
     "metadata": {},
     "outputs": [],
     "prompt_number": 14
    },
    {
     "cell_type": "code",
     "collapsed": false,
     "input": [
      "positions = [[49, 77, 48, 61],\n",
      "             [85, 112, 46, 58],\n",
      "             [121, 148, 45, 56],\n",
      "             [159, 183, 47, 56],\n",
      "             [192, 216, 47, 59],\n",
      "             [5, 33, 92, 105],\n",
      "             [40, 68, 90, 103],\n",
      "             [76, 105, 89, 101],\n",
      "             [113, 141, 89, 101],\n",
      "             [150, 177, 90, 102],\n",
      "             [185, 210, 92, 104],\n",
      "             [219, 244, 95, 107]]"
     ],
     "language": "python",
     "metadata": {},
     "outputs": [],
     "prompt_number": 4
    },
    {
     "cell_type": "code",
     "collapsed": false,
     "input": [
      "def show_im(frame, *imgs):\n",
      "    result = None\n",
      "    height = imgs[0].shape[0]\n",
      "    cut = cv2.cvtColor(np.ones((height, 1), dtype='uint8') * 255, cv2.COLOR_GRAY2BGR)\n",
      "    for img in imgs:\n",
      "        if img.ndim == 2:\n",
      "            img = cv2.cvtColor(img, cv2.COLOR_GRAY2BGR)\n",
      "            \n",
      "        if result is None:\n",
      "            result = img\n",
      "        else:\n",
      "            result = np.hstack((result, cut, img))\n",
      "    result = cv2.resize(result, None, fx=8, fy=8)\n",
      "    new_width = result.shape[1]\n",
      "    new_height = int(frame.shape[0] / frame.shape[1] * new_width)\n",
      "    new_frame = cv2.resize(frame, (new_width, new_height))\n",
      "    result = np.vstack((new_frame, result))\n",
      "    cv2.imshow('frame', result)"
     ],
     "language": "python",
     "metadata": {},
     "outputs": [],
     "prompt_number": 2
    },
    {
     "cell_type": "code",
     "collapsed": false,
     "input": [
      "cap = cv2.VideoCapture('data/tube.mp4')\n",
      "\n",
      "background = None\n",
      "p = 0.2\n",
      "t = 100\n",
      "\n",
      "count = 0\n",
      "\n",
      "while cap.isOpened():\n",
      "    ret, frame = cap.read()\n",
      "    \n",
      "    origin = frame[192:216, 47:59]\n",
      "    gray = cv2.cvtColor(origin, cv2.COLOR_BGR2GRAY)\n",
      "    gray = cv2.equalizeHist(gray)\n",
      "    \n",
      "    if background is None:\n",
      "        background = gray.astype('float64')\n",
      "        foreground = np.zeros(gray.shape, dtype='float64')\n",
      "    else:\n",
      "        foreground = abs(gray - background)\n",
      "        foreground[foreground<=t] = 0\n",
      "\n",
      "    if not count % 10:\n",
      "        tmp = p * gray + (1 - p) * background\n",
      "        background[foreground==0] = tmp[foreground==0]\n",
      "        \n",
      "    if not count % 200:\n",
      "        print('gray.mean:', gray.mean(), ';', 'foreground.max:', foreground.max())\n",
      "        print('B:', background[7, 4:6].astype('uint8'), 'F:', foreground[7, 4:6].astype('uint8'))\n",
      "        \n",
      "    count += 1\n",
      "    \n",
      "    foreground = foreground.astype('uint8')\n",
      "    \n",
      "    edges = cv2.Canny(foreground, 100, 175, L2gradient=True)\n",
      "    edges_bl = cv2.medianBlur(edges, 3)  \n",
      "    \n",
      "    show_im(frame, origin, gray, background.astype('uint8'), foreground, edges, edges_bl)\n",
      "    key = cv2.waitKey(1) & 0xff\n",
      "    if key == ord('q'):\n",
      "        break\n",
      "    elif key == ord('p'):\n",
      "        cv2.waitKey(0)\n",
      "\n",
      "cap.release()\n",
      "cv2.destroyAllWindows()"
     ],
     "language": "python",
     "metadata": {},
     "outputs": [
      {
       "output_type": "stream",
       "stream": "stdout",
       "text": [
        "gray.mean: 129.930555556 ; foreground.max: 0.0\n",
        "B: [251 246] F: [0 0]\n",
        "gray.mean:"
       ]
      },
      {
       "output_type": "stream",
       "stream": "stdout",
       "text": [
        " 130.409722222 ; foreground.max: 0.0\n",
        "B: [249 240] F: [0 0]\n",
        "gray.mean:"
       ]
      },
      {
       "output_type": "stream",
       "stream": "stdout",
       "text": [
        " 130.40625 ; foreground.max: 0.0\n",
        "B: [250 245] F: [0 0]\n",
        "gray.mean:"
       ]
      },
      {
       "output_type": "stream",
       "stream": "stdout",
       "text": [
        " 129.684027778 ; foreground.max: 80.245698098\n",
        "B: [250 242] F: [0 0]\n",
        "gray.mean:"
       ]
      },
      {
       "output_type": "stream",
       "stream": "stdout",
       "text": [
        " 130.614583333 ; foreground.max: 0.0\n",
        "B: [250 243] F: [0 0]\n",
        "gray.mean:"
       ]
      },
      {
       "output_type": "stream",
       "stream": "stdout",
       "text": [
        " 130.173611111 ; foreground.max: 0.0\n",
        "B: [250 246] F: [0 0]\n",
        "gray.mean:"
       ]
      },
      {
       "output_type": "stream",
       "stream": "stdout",
       "text": [
        " 130.430555556 ; foreground.max: 0.0\n",
        "B: [250 245] F: [0 0]\n",
        "gray.mean:"
       ]
      },
      {
       "output_type": "stream",
       "stream": "stdout",
       "text": [
        " 130.638888889 ; foreground.max: 0.0\n",
        "B: [250 246] F: [0 0]\n",
        "gray.mean:"
       ]
      },
      {
       "output_type": "stream",
       "stream": "stdout",
       "text": [
        " 130.364583333 ; foreground.max: 0.0\n",
        "B: [250 243] F: [0 0]\n",
        "gray.mean:"
       ]
      },
      {
       "output_type": "stream",
       "stream": "stdout",
       "text": [
        " 129.895833333 ; foreground.max: 0.0\n",
        "B: [250 245] F: [0 0]\n",
        "gray.mean:"
       ]
      },
      {
       "output_type": "stream",
       "stream": "stdout",
       "text": [
        " 130.753472222 ; foreground.max: 0.0\n",
        "B: [250 244] F: [0 0]\n",
        "gray.mean:"
       ]
      },
      {
       "output_type": "stream",
       "stream": "stdout",
       "text": [
        " 130.631944444 ; foreground.max: 0.0\n",
        "B: [251 246] F: [0 0]\n",
        "gray.mean:"
       ]
      },
      {
       "output_type": "stream",
       "stream": "stdout",
       "text": [
        " 130.222222222 ; foreground.max: 0.0\n",
        "B: [250 244] F: [0 0]\n",
        "gray.mean:"
       ]
      },
      {
       "output_type": "stream",
       "stream": "stdout",
       "text": [
        " 129.673611111 ; foreground.max: 0.0\n",
        "B: [249 244] F: [0 0]\n",
        "gray.mean:"
       ]
      },
      {
       "output_type": "stream",
       "stream": "stdout",
       "text": [
        " 129.989583333 ; foreground.max: 0.0\n",
        "B: [250 243] F: [0 0]\n",
        "gray.mean:"
       ]
      },
      {
       "output_type": "stream",
       "stream": "stdout",
       "text": [
        " 129.302083333 ; foreground.max: 0.0\n",
        "B: [250 245] F: [0 0]\n",
        "gray.mean:"
       ]
      },
      {
       "output_type": "stream",
       "stream": "stdout",
       "text": [
        " 130.447916667 ; foreground.max: 0.0\n",
        "B: [250 246] F: [0 0]\n",
        "gray.mean:"
       ]
      },
      {
       "output_type": "stream",
       "stream": "stdout",
       "text": [
        " 129.666666667 ; foreground.max: 0.0\n",
        "B: [250 246] F: [0 0]\n",
        "gray.mean:"
       ]
      },
      {
       "output_type": "stream",
       "stream": "stdout",
       "text": [
        " 130.243055556 ; foreground.max: 0.0\n",
        "B: [250 244] F: [0 0]\n",
        "gray.mean:"
       ]
      },
      {
       "output_type": "stream",
       "stream": "stdout",
       "text": [
        " 130.815972222 ; foreground.max: 86.2893169939\n",
        "B: [250 246] F: [0 0]\n",
        "gray.mean:"
       ]
      },
      {
       "output_type": "stream",
       "stream": "stdout",
       "text": [
        " 130.649305556 ; foreground.max: 0.0\n",
        "B: [250 245] F: [0 0]\n",
        "gray.mean:"
       ]
      },
      {
       "output_type": "stream",
       "stream": "stdout",
       "text": [
        " 129.756944444 ; foreground.max: 0.0\n",
        "B: [250 244] F: [0 0]\n",
        "gray.mean:"
       ]
      },
      {
       "output_type": "stream",
       "stream": "stdout",
       "text": [
        " 128.857638889 ; foreground.max: 0.0\n",
        "B: [251 245] F: [0 0]\n",
        "gray.mean:"
       ]
      },
      {
       "output_type": "stream",
       "stream": "stdout",
       "text": [
        " 130.357638889 ; foreground.max: 0.0\n",
        "B: [251 245] F: [0 0]\n",
        "gray.mean:"
       ]
      },
      {
       "output_type": "stream",
       "stream": "stdout",
       "text": [
        " 129.861111111 ; foreground.max: 0.0\n",
        "B: [251 244] F: [0 0]\n",
        "gray.mean:"
       ]
      },
      {
       "output_type": "stream",
       "stream": "stdout",
       "text": [
        " 130.0625 ; foreground.max: 0.0\n",
        "B: [251 247] F: [0 0]\n",
        "gray.mean:"
       ]
      },
      {
       "output_type": "stream",
       "stream": "stdout",
       "text": [
        " 129.871527778 ; foreground.max: 0.0\n",
        "B: [250 244] F: [0 0]\n",
        "gray.mean:"
       ]
      },
      {
       "output_type": "stream",
       "stream": "stdout",
       "text": [
        " 129.263888889 ; foreground.max: 0.0\n",
        "B: [250 244] F: [0 0]\n",
        "gray.mean:"
       ]
      },
      {
       "output_type": "stream",
       "stream": "stdout",
       "text": [
        " 129.423611111 ; foreground.max: 0.0\n",
        "B: [252 245] F: [0 0]\n",
        "gray.mean:"
       ]
      },
      {
       "output_type": "stream",
       "stream": "stdout",
       "text": [
        " 130.854166667 ; foreground.max: 0.0\n",
        "B: [252 244] F: [0 0]\n",
        "gray.mean:"
       ]
      },
      {
       "output_type": "stream",
       "stream": "stdout",
       "text": [
        " 130.315972222 ; foreground.max: 0.0\n",
        "B: [251 245] F: [0 0]\n",
        "gray.mean:"
       ]
      },
      {
       "output_type": "stream",
       "stream": "stdout",
       "text": [
        " 130.524305556 ; foreground.max: 0.0\n",
        "B: [251 245] F: [0 0]\n",
        "gray.mean:"
       ]
      },
      {
       "output_type": "stream",
       "stream": "stdout",
       "text": [
        " 130.041666667 ; foreground.max: 0.0\n",
        "B: [251 244] F: [0 0]\n",
        "gray.mean:"
       ]
      },
      {
       "output_type": "stream",
       "stream": "stdout",
       "text": [
        " 130.284722222 ; foreground.max: 0.0\n",
        "B: [252 245] F: [0 0]\n",
        "gray.mean:"
       ]
      },
      {
       "output_type": "stream",
       "stream": "stdout",
       "text": [
        " 130.590277778 ; foreground.max: 0.0\n",
        "B: [251 244] F: [0 0]\n",
        "gray.mean:"
       ]
      },
      {
       "output_type": "stream",
       "stream": "stdout",
       "text": [
        " 130.270833333 ; foreground.max: 0.0\n",
        "B: [251 243] F: [0 0]\n",
        "gray.mean:"
       ]
      },
      {
       "output_type": "stream",
       "stream": "stdout",
       "text": [
        " 130.15625 ; foreground.max: 0.0\n",
        "B: [251 242] F: [0 0]\n",
        "gray.mean:"
       ]
      },
      {
       "output_type": "stream",
       "stream": "stdout",
       "text": [
        " 129.954861111 ; foreground.max: 0.0\n",
        "B: [251 244] F: [0 0]\n",
        "gray.mean:"
       ]
      },
      {
       "output_type": "stream",
       "stream": "stdout",
       "text": [
        " 130.420138889 ; foreground.max: 0.0\n",
        "B: [251 245] F: [0 0]\n",
        "gray.mean:"
       ]
      }
     ]
    },
    {
     "cell_type": "code",
     "collapsed": false,
     "input": [
      "#######################################################################################"
     ],
     "language": "python",
     "metadata": {},
     "outputs": []
    },
    {
     "cell_type": "code",
     "collapsed": false,
     "input": [
      "# \u53c2\u6570\u5bf9\u6bd4\n",
      "cap = cv2.VideoCapture('data/tube.mp4')\n",
      "# kernel = cv2.getStructuringElement(cv2.MORPH_ELLIPSE, (3, 3))\n",
      "# fgbg = cv2.createBackgroundSubtractorKNN()\n",
      "sigma1 = None\n",
      "p1 = 0.2\n",
      "sigma2 = None\n",
      "p2 = 0.3\n",
      "sigma3 = None\n",
      "p3 = 0.4\n",
      "while(cap.isOpened()):\n",
      "    ret, frame = cap.read()\n",
      "    \n",
      "    gray = cv2.cvtColor(frame[192:216, 47:59], cv2.COLOR_BGR2GRAY)\n",
      "#     fgmask = fgbg.apply(cur)\n",
      "#     fgmask = cv2.morphologyEx(fgmask, cv2.MORPH_OPEN, kernel)\n",
      "\n",
      "    if sigma1 is None:\n",
      "        sigma1 = gray\n",
      "        sigma2 = gray\n",
      "        sigma3 = gray\n",
      "    else:\n",
      "        sigma1 = p1 * gray + (1 - p1) * sigma1\n",
      "        sigma2 = p2 * gray + (1 - p2) * sigma2\n",
      "        sigma3 = p3 * gray + (1 - p3) * sigma3\n",
      "        \n",
      "    gray1 = (abs(gray - sigma1) * 4).astype('uint8')\n",
      "#     retVal, gray1 = cv2.threshold(gray, 40, 255, cv2.THRESH_BINARY)\n",
      "#     gray = ((gray - gray.min()) / (gray.max() - gray.min()) * 64).astype('uint8')\n",
      "    edges1 = cv2.Canny(gray1, 120, 175, L2gradient=True)\n",
      "    \n",
      "    gray2 = (abs(gray - sigma2) * 4).astype('uint8')\n",
      "#     gray = ((gray - gray.min()) / (gray.max() - gray.min()) * 64).astype('uint8')\n",
      "    edges2 = cv2.Canny(gray2, 120, 175, L2gradient=True)\n",
      "    \n",
      "    gray3 = (abs(gray - sigma3) * 4).astype('uint8')\n",
      "    gray3 = gray3 * 4\n",
      "#     gray = ((gray - gray.min()) / (gray.max() - gray.min()) * 64).astype('uint8')\n",
      "    edges3 = cv2.Canny(gray3, 120, 175, L2gradient=True)\n",
      "    \n",
      "    im = np.hstack((gray1, edges1, gray2, edges2, gray3, edges3))\n",
      "    im = cv2.resize(im, None, fx=16, fy=16)\n",
      "    cv2.imshow('frame', im)\n",
      "    key = cv2.waitKey(1) & 0xff\n",
      "    if key == ord('q'):\n",
      "        break\n",
      "\n",
      "cap.release()\n",
      "cv2.destroyAllWindows()"
     ],
     "language": "python",
     "metadata": {},
     "outputs": [],
     "prompt_number": 16
    },
    {
     "cell_type": "code",
     "collapsed": false,
     "input": [
      "# opencv\u81ea\u5e26\u524d\u666f\u68c0\u6d4b\n",
      "cap = cv2.VideoCapture('data/tube.mp4')\n",
      "fgbg = cv2.createBackgroundSubtractorMOG2()\n",
      "\n",
      "while cap.isOpened():\n",
      "    ret, frame = cap.read()\n",
      "    if not ret:\n",
      "        break\n",
      "    gray = cv2.cvtColor(frame[150:177, 90:102], cv2.COLOR_BGR2GRAY)\n",
      "    fgmask = fgbg.apply(gray)\n",
      "    fgmask_bl = cv2.medianBlur(fgmask, 3)\n",
      "    r = np.hstack((gray, fgmask, fgmask_bl))\n",
      "    r = cv2.resize(r, None, fx=16, fy=16)\n",
      "    cv2.imshow('frame', r)\n",
      "    if cv2.waitKey(1) & 0xff == ord('q'):\n",
      "        break\n",
      "        \n",
      "cap.release()\n",
      "cv2.destroyAllWindows()"
     ],
     "language": "python",
     "metadata": {},
     "outputs": [],
     "prompt_number": 8
    }
   ],
   "metadata": {}
  }
 ]
}