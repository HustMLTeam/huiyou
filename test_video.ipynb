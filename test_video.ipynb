{
 "metadata": {
  "name": "",
  "signature": "sha256:f3e9d3e0f7801c40d6438d00706a6ef23158c93981b117481bf552f2a1b84235"
 },
 "nbformat": 3,
 "nbformat_minor": 0,
 "worksheets": [
  {
   "cells": [
    {
     "cell_type": "code",
     "collapsed": false,
     "input": [
      "import numpy as np\n",
      "import cv2"
     ],
     "language": "python",
     "metadata": {},
     "outputs": [],
     "prompt_number": 2
    },
    {
     "cell_type": "code",
     "collapsed": false,
     "input": [
      "s = [np.s_[a:b, c:d] for a, b, c, d in [\n",
      "        [49, 77, 48, 61],\n",
      "        [85, 112, 46, 58],\n",
      "        [121, 148, 45, 56],\n",
      "        [159, 183, 47, 56],\n",
      "        [192, 216, 47, 59],\n",
      "        [5, 33, 92, 105],\n",
      "        [40, 68, 90, 103],\n",
      "        [76, 105, 89, 101],\n",
      "        [113, 141, 89, 101],\n",
      "        [150, 177, 90, 102],\n",
      "        [185, 210, 92, 104],\n",
      "        [219, 244, 95, 107]]]"
     ],
     "language": "python",
     "metadata": {},
     "outputs": [],
     "prompt_number": 9
    },
    {
     "cell_type": "code",
     "collapsed": false,
     "input": [
      "def show_im(mul, frame, *imgs):\n",
      "    result = None\n",
      "    height = imgs[0].shape[0]\n",
      "    cut = cv2.cvtColor(np.ones((height, 1), dtype='uint8') * 255, cv2.COLOR_GRAY2BGR)\n",
      "    for img in imgs:\n",
      "        if img.ndim == 2:\n",
      "            img = cv2.cvtColor(img, cv2.COLOR_GRAY2BGR)\n",
      "            \n",
      "        if result is None:\n",
      "            result = img\n",
      "        else:\n",
      "            result = np.hstack((result, cut, img))\n",
      "    result = cv2.resize(result, None, fx=mul, fy=mul)\n",
      "    new_width = result.shape[1]\n",
      "    new_height = int(frame.shape[0] / frame.shape[1] * new_width)\n",
      "    new_frame = cv2.resize(frame, (new_width, new_height))\n",
      "    result = np.vstack((new_frame, result))\n",
      "    cv2.imshow('frame', result)"
     ],
     "language": "python",
     "metadata": {},
     "outputs": [],
     "prompt_number": 4
    },
    {
     "cell_type": "code",
     "collapsed": false,
     "input": [
      "def fun(*grays):\n",
      "    index = 0\n",
      "    percentage = 0\n",
      "    for i, gray in enumerate(grays):\n",
      "        p = (gray >= 1).sum / gray.size\n",
      "        if p > percentage:\n",
      "            percentage = p\n",
      "            index = i\n",
      "    return i"
     ],
     "language": "python",
     "metadata": {},
     "outputs": [],
     "prompt_number": 12
    },
    {
     "cell_type": "code",
     "collapsed": false,
     "input": [
      "cap = cv2.VideoCapture('data/tube.mp4')\n",
      "\n",
      "background = None\n",
      "p = 0.1\n",
      "t = 30\n",
      "\n",
      "wT = 1\n",
      "\n",
      "count = 0\n",
      "\n",
      "while cap.isOpened():\n",
      "    ret, frame = cap.read()\n",
      "    \n",
      "    origin = frame[195:213, 49:57]\n",
      "#     gray = cv2.cvtColor(origin, cv2.COLOR_BGR2GRAY)\n",
      "    gray = origin[:, :, 0]\n",
      "#     gray = cv2.equalizeHist(gray)\n",
      "    \n",
      "    if background is None:  # \u5982\u679c\u662f\u7b2c\u4e00\u5e27\n",
      "        background = gray.astype('float64')\n",
      "        foreground = np.zeros(gray.shape, dtype='float64')\n",
      "    else:\n",
      "        foreground = abs(gray - background)\n",
      "#         if not count % 200: print(foreground.mean())\n",
      "#         foreground[foreground<=t] = 0\n",
      "\n",
      "    if not count % 20:\n",
      "        background = p * gray + (1 - p) * background\n",
      "#         tmp = p * gray + (1 - p) * background\n",
      "#         background[foreground==0] = tmp[foreground==0]\n",
      "        \n",
      "    if not count % 100:\n",
      "#         print(origin.mean((0, 1)), gray.mean(), frame[0:271, 33:70, 0].mean(), frame[0:271, 78:115, 0].mean())\n",
      "        print('gray.mean:', gray.mean(), ';', 'foreground.max:', foreground.max())\n",
      "#         print('G:', gray[13, 3], 'B:', background[13, 3].astype('uint8'), 'F:', foreground[13, 3].astype('uint8'))\n",
      "        \n",
      "    count += 1\n",
      "#     if count < 8000:\n",
      "#         continue\n",
      "    \n",
      "    foreground = foreground.astype('uint8')\n",
      "    \n",
      "    fore_bl = cv2.medianBlur(foreground, 3)\n",
      "    \n",
      "    edges = cv2.Canny(fore_bl, 100, 175, L2gradient=True)\n",
      "    \n",
      "    show_im(10, frame, origin, gray, background.astype('uint8'), foreground, fore_bl, edges)\n",
      "    key = cv2.waitKey(wT) & 0xff\n",
      "    if key == ord('q'):\n",
      "        break\n",
      "    elif key == ord('p'):\n",
      "        print('pause')\n",
      "        cv2.waitKey(0)\n",
      "    elif key == ord('c'):\n",
      "        wT = 40 - wT\n",
      "        print('change')\n",
      "\n",
      "cap.release()\n",
      "cv2.destroyAllWindows()"
     ],
     "language": "python",
     "metadata": {},
     "outputs": [
      {
       "output_type": "stream",
       "stream": "stdout",
       "text": [
        "gray.mean: 66.6111111111 ; foreground.max: 0.0\n",
        "gray.mean:"
       ]
      },
      {
       "output_type": "stream",
       "stream": "stdout",
       "text": [
        " 65.1041666667 ; foreground.max: 13.6472\n",
        "gray.mean:"
       ]
      },
      {
       "output_type": "stream",
       "stream": "stdout",
       "text": [
        " 65.6666666667 ; foreground.max: 12.95649936\n",
        "gray.mean:"
       ]
      },
      {
       "output_type": "stream",
       "stream": "stdout",
       "text": [
        " 66.5972222222 ; foreground.max: 11.1296623045\n",
        "gray.mean:"
       ]
      },
      {
       "output_type": "stream",
       "stream": "stdout",
       "text": [
        " 67.0763888889 ; foreground.max: 9.92630320131\n",
        "gray.mean:"
       ]
      },
      {
       "output_type": "stream",
       "stream": "stdout",
       "text": [
        " 65.6180555556 ; foreground.max: 10.6101466001\n",
        "gray.mean:"
       ]
      },
      {
       "output_type": "stream",
       "stream": "stdout",
       "text": [
        " 67.3402777778 ; foreground.max: 11.3413986389\n",
        "gray.mean:"
       ]
      },
      {
       "output_type": "stream",
       "stream": "stdout",
       "text": [
        " 66.9236111111 ; foreground.max: 12.2985832811\n",
        "gray.mean:"
       ]
      },
      {
       "output_type": "stream",
       "stream": "stdout",
       "text": [
        " 64.6805555556 ; foreground.max: 10.6092532542\n",
        "gray.mean:"
       ]
      },
      {
       "output_type": "stream",
       "stream": "stdout",
       "text": [
        " 66.8333333333 ; foreground.max: 10.3122927175\n",
        "gray.mean:"
       ]
      },
      {
       "output_type": "stream",
       "stream": "stdout",
       "text": [
        " 64.9652777778 ; foreground.max: 10.0011496777\n",
        "gray.mean:"
       ]
      },
      {
       "output_type": "stream",
       "stream": "stdout",
       "text": [
        " 66.6944444444 ; foreground.max: 12.0269931439\n",
        "gray.mean:"
       ]
      },
      {
       "output_type": "stream",
       "stream": "stdout",
       "text": [
        " 66.1319444444 ; foreground.max: 8.50496644849\n",
        "gray.mean:"
       ]
      },
      {
       "output_type": "stream",
       "stream": "stdout",
       "text": [
        " 64.9166666667 ; foreground.max: 10.9236627454\n",
        "gray.mean:"
       ]
      },
      {
       "output_type": "stream",
       "stream": "stdout",
       "text": [
        " 66.9930555556 ; foreground.max: 8.72721186676\n",
        "gray.mean:"
       ]
      },
      {
       "output_type": "stream",
       "stream": "stdout",
       "text": [
        " 67.9930555556 ; foreground.max: 9.77523095493\n",
        "gray.mean:"
       ]
      },
      {
       "output_type": "stream",
       "stream": "stdout",
       "text": [
        " 67.4375 ; foreground.max: 13.7359828003\n",
        "gray.mean:"
       ]
      },
      {
       "output_type": "stream",
       "stream": "stdout",
       "text": [
        " 67.6527777778 ; foreground.max: 10.8896762315\n",
        "gray.mean:"
       ]
      },
      {
       "output_type": "stream",
       "stream": "stdout",
       "text": [
        " 65.3472222222 ; foreground.max: 12.0734524284\n",
        "gray.mean:"
       ]
      },
      {
       "output_type": "stream",
       "stream": "stdout",
       "text": [
        " 66.0972222222 ; foreground.max: 12.4430146694\n",
        "gray.mean:"
       ]
      },
      {
       "output_type": "stream",
       "stream": "stdout",
       "text": [
        " 65.2152777778 ; foreground.max: 11.0853586158\n",
        "gray.mean:"
       ]
      },
      {
       "output_type": "stream",
       "stream": "stdout",
       "text": [
        " 67.8125 ; foreground.max: 16.1788975097\n",
        "gray.mean:"
       ]
      },
      {
       "output_type": "stream",
       "stream": "stdout",
       "text": [
        " 66.875 ; foreground.max: 9.86235910961\n",
        "gray.mean:"
       ]
      },
      {
       "output_type": "stream",
       "stream": "stdout",
       "text": [
        " 65.4444444444 ; foreground.max: 12.0458096311\n",
        "gray.mean:"
       ]
      },
      {
       "output_type": "stream",
       "stream": "stdout",
       "text": [
        " 66.1458333333 ; foreground.max: 13.2107103764\n",
        "gray.mean:"
       ]
      },
      {
       "output_type": "stream",
       "stream": "stdout",
       "text": [
        " 66.3194444444 ; foreground.max: 8.63827589449\n",
        "gray.mean:"
       ]
      },
      {
       "output_type": "stream",
       "stream": "stdout",
       "text": [
        " 67.0555555556 ; foreground.max: 11.0850494725\n",
        "gray.mean:"
       ]
      },
      {
       "output_type": "stream",
       "stream": "stdout",
       "text": [
        " 66.3541666667 ; foreground.max: 10.0867725923\n",
        "gray.mean:"
       ]
      },
      {
       "output_type": "stream",
       "stream": "stdout",
       "text": [
        " 67.8125 ; foreground.max: 10.8014116932\n",
        "gray.mean:"
       ]
      },
      {
       "output_type": "stream",
       "stream": "stdout",
       "text": [
        " 66.7152777778 ; foreground.max: 10.304082602\n",
        "gray.mean:"
       ]
      },
      {
       "output_type": "stream",
       "stream": "stdout",
       "text": [
        " 64.3125 ; foreground.max: 12.233704555\n",
        "gray.mean:"
       ]
      },
      {
       "output_type": "stream",
       "stream": "stdout",
       "text": [
        " 66.7152777778 ; foreground.max: 8.9514010839\n",
        "gray.mean:"
       ]
      },
      {
       "output_type": "stream",
       "stream": "stdout",
       "text": [
        " 65.5347222222 ; foreground.max: 9.64055078855\n",
        "gray.mean:"
       ]
      },
      {
       "output_type": "stream",
       "stream": "stdout",
       "text": [
        " 65.7986111111 ; foreground.max: 11.350595284\n",
        "gray.mean:"
       ]
      },
      {
       "output_type": "stream",
       "stream": "stdout",
       "text": [
        " 67.3541666667 ; foreground.max: 8.39951212502\n",
        "gray.mean:"
       ]
      },
      {
       "output_type": "stream",
       "stream": "stdout",
       "text": [
        " 67.7638888889 ; foreground.max: 10.7818156791\n",
        "gray.mean:"
       ]
      },
      {
       "output_type": "stream",
       "stream": "stdout",
       "text": [
        " 66.8680555556 ; foreground.max: 11.8597148485\n",
        "gray.mean:"
       ]
      },
      {
       "output_type": "stream",
       "stream": "stdout",
       "text": [
        " 67.3680555556 ; foreground.max: 12.6989633508\n",
        "gray.mean:"
       ]
      },
      {
       "output_type": "stream",
       "stream": "stdout",
       "text": [
        " 67.4583333333 ; foreground.max: 19.900223647\n",
        "gray.mean:"
       ]
      },
      {
       "output_type": "stream",
       "stream": "stdout",
       "text": [
        " 68.0138888889 ; foreground.max: 11.4438552278\n",
        "gray.mean:"
       ]
      },
      {
       "output_type": "stream",
       "stream": "stdout",
       "text": [
        " 66.7222222222 ; foreground.max: 7.71179535849\n",
        "gray.mean:"
       ]
      },
      {
       "output_type": "stream",
       "stream": "stdout",
       "text": [
        " 66.8958333333 ; foreground.max: 10.3092161312\n",
        "gray.mean:"
       ]
      },
      {
       "output_type": "stream",
       "stream": "stdout",
       "text": [
        " 66.6041666667 ; foreground.max: 14.8916995273\n",
        "gray.mean:"
       ]
      },
      {
       "output_type": "stream",
       "stream": "stdout",
       "text": [
        " 67.3055555556 ; foreground.max: 8.89536607312\n",
        "gray.mean:"
       ]
      },
      {
       "output_type": "stream",
       "stream": "stdout",
       "text": [
        " 65.8958333333 ; foreground.max: 11.6285519749\n",
        "gray.mean:"
       ]
      },
      {
       "output_type": "stream",
       "stream": "stdout",
       "text": [
        " 67.8819444444 ; foreground.max: 14.3834981191\n",
        "gray.mean:"
       ]
      },
      {
       "output_type": "stream",
       "stream": "stdout",
       "text": [
        " 66.0902777778 ; foreground.max: 8.7915188915\n",
        "gray.mean:"
       ]
      },
      {
       "output_type": "stream",
       "stream": "stdout",
       "text": [
        " 65.5972222222 ; foreground.max: 7.97778966426\n",
        "gray.mean:"
       ]
      },
      {
       "output_type": "stream",
       "stream": "stdout",
       "text": [
        " 67.1597222222 ; foreground.max: 8.8243528089\n",
        "gray.mean:"
       ]
      },
      {
       "output_type": "stream",
       "stream": "stdout",
       "text": [
        " 67.8958333333 ; foreground.max: 15.5323024795\n",
        "gray.mean:"
       ]
      },
      {
       "output_type": "stream",
       "stream": "stdout",
       "text": [
        " 65.4722222222 ; foreground.max: 11.0436681674\n",
        "gray.mean:"
       ]
      },
      {
       "output_type": "stream",
       "stream": "stdout",
       "text": [
        " 67.3194444444 ; foreground.max: 7.22712280637\n",
        "gray.mean:"
       ]
      },
      {
       "output_type": "stream",
       "stream": "stdout",
       "text": [
        " 67.4236111111 ; foreground.max: 10.6019979777\n",
        "gray.mean:"
       ]
      },
      {
       "output_type": "stream",
       "stream": "stdout",
       "text": [
        " 67.5486111111 ; foreground.max: 10.0503403591\n",
        "gray.mean:"
       ]
      },
      {
       "output_type": "stream",
       "stream": "stdout",
       "text": [
        " 67.1319444444 ; foreground.max: 8.77275667419\n",
        "gray.mean:"
       ]
      },
      {
       "output_type": "stream",
       "stream": "stdout",
       "text": [
        " 66.0972222222 ; foreground.max: 11.2222488416\n",
        "gray.mean:"
       ]
      },
      {
       "output_type": "stream",
       "stream": "stdout",
       "text": [
        " 66.7986111111 ; foreground.max: 9.44970179684\n",
        "gray.mean:"
       ]
      },
      {
       "output_type": "stream",
       "stream": "stdout",
       "text": [
        " 67.2777777778 ; foreground.max: 11.1292071098\n",
        "gray.mean:"
       ]
      },
      {
       "output_type": "stream",
       "stream": "stdout",
       "text": [
        " 67.7430555556 ; foreground.max: 7.94222679375\n",
        "gray.mean:"
       ]
      },
      {
       "output_type": "stream",
       "stream": "stdout",
       "text": [
        " 67.6597222222 ; foreground.max: 12.8214765714\n",
        "gray.mean:"
       ]
      },
      {
       "output_type": "stream",
       "stream": "stdout",
       "text": [
        " 67.3680555556 ; foreground.max: 8.67561398154\n",
        "gray.mean:"
       ]
      },
      {
       "output_type": "stream",
       "stream": "stdout",
       "text": [
        " 67.2152777778 ; foreground.max: 9.08918137608\n",
        "gray.mean:"
       ]
      },
      {
       "output_type": "stream",
       "stream": "stdout",
       "text": [
        " 66.8333333333 ; foreground.max: 9.98074180121\n",
        "gray.mean:"
       ]
      },
      {
       "output_type": "stream",
       "stream": "stdout",
       "text": [
        " 67.2430555556 ; foreground.max: 8.95457737791\n",
        "gray.mean:"
       ]
      },
      {
       "output_type": "stream",
       "stream": "stdout",
       "text": [
        " 66.375 ; foreground.max: 9.10134966514\n",
        "gray.mean:"
       ]
      },
      {
       "output_type": "stream",
       "stream": "stdout",
       "text": [
        " 67.7222222222 ; foreground.max: 9.76279941673\n",
        "gray.mean:"
       ]
      },
      {
       "output_type": "stream",
       "stream": "stdout",
       "text": [
        " 67.5486111111 ; foreground.max: 12.3792969614\n",
        "gray.mean:"
       ]
      },
      {
       "output_type": "stream",
       "stream": "stdout",
       "text": [
        " 67.6736111111 ; foreground.max: 10.8949116392\n",
        "gray.mean:"
       ]
      },
      {
       "output_type": "stream",
       "stream": "stdout",
       "text": [
        " 68.1805555556 ; foreground.max: 10.6136388452\n",
        "gray.mean:"
       ]
      },
      {
       "output_type": "stream",
       "stream": "stdout",
       "text": [
        " 66.7291666667 ; foreground.max: 7.62591352224\n",
        "gray.mean:"
       ]
      },
      {
       "output_type": "stream",
       "stream": "stdout",
       "text": [
        " 67.0902777778 ; foreground.max: 9.45643230148\n",
        "gray.mean:"
       ]
      },
      {
       "output_type": "stream",
       "stream": "stdout",
       "text": [
        " 66.8333333333 ; foreground.max: 14.9749885826\n",
        "gray.mean:"
       ]
      },
      {
       "output_type": "stream",
       "stream": "stdout",
       "text": [
        " 67.8611111111 ; foreground.max: 10.7669639908\n",
        "gray.mean:"
       ]
      },
      {
       "output_type": "stream",
       "stream": "stdout",
       "text": [
        " 66.4791666667 ; foreground.max: 13.6355709604\n",
        "gray.mean:"
       ]
      },
      {
       "output_type": "stream",
       "stream": "stdout",
       "text": [
        " 67.9513888889 ; foreground.max: 14.134472226\n",
        "gray.mean:"
       ]
      },
      {
       "output_type": "stream",
       "stream": "stdout",
       "text": [
        " 67.6944444444 ; foreground.max: 13.1851655327\n",
        "gray.mean:"
       ]
      },
      {
       "output_type": "stream",
       "stream": "stdout",
       "text": [
        " 67.2847222222 ; foreground.max: 9.45902271148\n",
        "gray.mean:"
       ]
      },
      {
       "output_type": "stream",
       "stream": "stdout",
       "text": [
        " 66.7986111111 ; foreground.max: 8.81478516507\n",
        "gray.mean:"
       ]
      },
      {
       "output_type": "stream",
       "stream": "stdout",
       "text": [
        " 67.3333333333 ; foreground.max: 6.10876844413\n",
        "gray.mean:"
       ]
      },
      {
       "output_type": "stream",
       "stream": "stdout",
       "text": [
        " 65.3402777778 ; foreground.max: 12.7828210955\n",
        "gray.mean:"
       ]
      },
      {
       "output_type": "stream",
       "stream": "stdout",
       "text": [
        " 67.9722222222 ; foreground.max: 11.6013128483\n",
        "gray.mean:"
       ]
      },
      {
       "output_type": "stream",
       "stream": "stdout",
       "text": [
        " 68.25 ; foreground.max: 7.36281139353\n",
        "gray.mean:"
       ]
      },
      {
       "output_type": "stream",
       "stream": "stdout",
       "text": [
        " 65.8888888889 ; foreground.max: 15.4176224097\n",
        "gray.mean:"
       ]
      },
      {
       "output_type": "stream",
       "stream": "stdout",
       "text": [
        " 66.9652777778 ; foreground.max: 9.74221726615\n",
        "gray.mean:"
       ]
      },
      {
       "output_type": "stream",
       "stream": "stdout",
       "text": [
        " 65.7222222222 ; foreground.max: 12.6718951256\n",
        "gray.mean:"
       ]
      },
      {
       "output_type": "stream",
       "stream": "stdout",
       "text": [
        " 68.0972222222 ; foreground.max: 5.8518933925\n",
        "gray.mean:"
       ]
      },
      {
       "output_type": "stream",
       "stream": "stdout",
       "text": [
        " 67.7847222222 ; foreground.max: 10.3667814564\n",
        "gray.mean:"
       ]
      },
      {
       "output_type": "stream",
       "stream": "stdout",
       "text": [
        " 65.4583333333 ; foreground.max: 13.5378212461\n",
        "gray.mean:"
       ]
      },
      {
       "output_type": "stream",
       "stream": "stdout",
       "text": [
        " 66.8055555556 ; foreground.max: 11.5334201404\n",
        "gray.mean:"
       ]
      },
      {
       "output_type": "stream",
       "stream": "stdout",
       "text": [
        " 67.4513888889 ; foreground.max: 9.27963466051\n",
        "gray.mean:"
       ]
      },
      {
       "output_type": "stream",
       "stream": "stdout",
       "text": [
        " 65.4583333333 ; foreground.max: 9.8813994834\n",
        "gray.mean:"
       ]
      },
      {
       "output_type": "stream",
       "stream": "stdout",
       "text": [
        " 66.1458333333 ; foreground.max: 12.9213372116\n",
        "gray.mean:"
       ]
      },
      {
       "output_type": "stream",
       "stream": "stdout",
       "text": [
        " 66.6041666667 ; foreground.max: 10.3334640954\n",
        "gray.mean:"
       ]
      },
      {
       "output_type": "stream",
       "stream": "stdout",
       "text": [
        " 67.4791666667 ; foreground.max: 10.5574994085\n",
        "gray.mean:"
       ]
      },
      {
       "output_type": "stream",
       "stream": "stdout",
       "text": [
        " 66.0972222222 ; foreground.max: 11.1307568777\n",
        "gray.mean:"
       ]
      },
      {
       "output_type": "stream",
       "stream": "stdout",
       "text": [
        " 69.3333333333 ; foreground.max: 28.20691208\n",
        "gray.mean:"
       ]
      },
      {
       "output_type": "stream",
       "stream": "stdout",
       "text": [
        " 73.625 ; foreground.max: 14.2265010757\n",
        "gray.mean:"
       ]
      },
      {
       "output_type": "stream",
       "stream": "stdout",
       "text": [
        " 74.5763888889 ; foreground.max: 22.6061512654\n",
        "gray.mean:"
       ]
      },
      {
       "output_type": "stream",
       "stream": "stdout",
       "text": [
        " 74.3194444444 ; foreground.max: 11.7121385989\n",
        "gray.mean:"
       ]
      },
      {
       "output_type": "stream",
       "stream": "stdout",
       "text": [
        " 73.4305555556 ; foreground.max: 11.5684156412\n",
        "gray.mean:"
       ]
      },
      {
       "output_type": "stream",
       "stream": "stdout",
       "text": [
        " 75.25 ; foreground.max: 13.0987666404\n",
        "gray.mean:"
       ]
      },
      {
       "output_type": "stream",
       "stream": "stdout",
       "text": [
        " 74.3611111111 ; foreground.max: 13.8872032944\n",
        "gray.mean:"
       ]
      },
      {
       "output_type": "stream",
       "stream": "stdout",
       "text": [
        " 74.6180555556 ; foreground.max: 9.02443374865\n",
        "gray.mean:"
       ]
      },
      {
       "output_type": "stream",
       "stream": "stdout",
       "text": [
        " 73.8472222222 ; foreground.max: 8.31487452849\n",
        "gray.mean:"
       ]
      },
      {
       "output_type": "stream",
       "stream": "stdout",
       "text": [
        " 73.0902777778 ; foreground.max: 10.6926968167\n",
        "gray.mean:"
       ]
      },
      {
       "output_type": "stream",
       "stream": "stdout",
       "text": [
        " 75.3194444444 ; foreground.max: 8.5594299834\n",
        "gray.mean:"
       ]
      },
      {
       "output_type": "stream",
       "stream": "stdout",
       "text": [
        " 75.7777777778 ; foreground.max: 14.2759403025\n",
        "gray.mean:"
       ]
      },
      {
       "output_type": "stream",
       "stream": "stdout",
       "text": [
        " 75.3055555556 ; foreground.max: 11.9636000108\n",
        "gray.mean:"
       ]
      },
      {
       "output_type": "stream",
       "stream": "stdout",
       "text": [
        " 73.3055555556 ; foreground.max: 10.8064744481\n",
        "gray.mean:"
       ]
      },
      {
       "output_type": "stream",
       "stream": "stdout",
       "text": [
        " 73.8194444444 ; foreground.max: 21.6391252333\n",
        "gray.mean:"
       ]
      },
      {
       "output_type": "stream",
       "stream": "stdout",
       "text": [
        " 67.6180555556 ; foreground.max: 46.3676087671\n",
        "gray.mean:"
       ]
      },
      {
       "output_type": "stream",
       "stream": "stdout",
       "text": [
        " 66.8402777778 ; foreground.max: 40.3370983929\n",
        "gray.mean:"
       ]
      },
      {
       "output_type": "stream",
       "stream": "stdout",
       "text": [
        " 67.4930555556 ; foreground.max: 21.2000833631\n",
        "gray.mean:"
       ]
      },
      {
       "output_type": "stream",
       "stream": "stdout",
       "text": [
        " 66.0347222222 ; foreground.max: 19.8366714058\n",
        "gray.mean:"
       ]
      },
      {
       "output_type": "stream",
       "stream": "stdout",
       "text": [
        " 66.4166666667 ; foreground.max: 13.4591989437\n",
        "gray.mean:"
       ]
      },
      {
       "output_type": "stream",
       "stream": "stdout",
       "text": [
        " 68.6180555556 ; foreground.max: 22.8238382325\n",
        "gray.mean:"
       ]
      },
      {
       "output_type": "stream",
       "stream": "stdout",
       "text": [
        " 64.9861111111 ; foreground.max: 28.4770631268\n",
        "gray.mean:"
       ]
      },
      {
       "output_type": "stream",
       "stream": "stdout",
       "text": [
        " 69.8333333333 ; foreground.max: 30.8110569319\n",
        "gray.mean:"
       ]
      },
      {
       "output_type": "stream",
       "stream": "stdout",
       "text": [
        " 67.5208333333 ; foreground.max: 23.1083104583\n",
        "gray.mean:"
       ]
      },
      {
       "output_type": "stream",
       "stream": "stdout",
       "text": [
        " 69.9027777778 ; foreground.max: 18.3871737575\n",
        "gray.mean:"
       ]
      },
      {
       "output_type": "stream",
       "stream": "stdout",
       "text": [
        " 64.6875 ; foreground.max: 26.4691806902\n",
        "gray.mean:"
       ]
      },
      {
       "output_type": "stream",
       "stream": "stdout",
       "text": [
        " 70.8125 ; foreground.max: 29.9921975526\n",
        "gray.mean:"
       ]
      },
      {
       "output_type": "stream",
       "stream": "stdout",
       "text": [
        " 65.4791666667 ; foreground.max: 21.3442826651\n",
        "gray.mean:"
       ]
      },
      {
       "output_type": "stream",
       "stream": "stdout",
       "text": [
        " 68.9444444444 ; foreground.max: 13.7766876765\n",
        "gray.mean:"
       ]
      },
      {
       "output_type": "stream",
       "stream": "stdout",
       "text": [
        " 66.6180555556 ; foreground.max: 16.2163058287\n",
        "gray.mean:"
       ]
      },
      {
       "output_type": "stream",
       "stream": "stdout",
       "text": [
        " 68.6458333333 ; foreground.max: 19.3676494679\n",
        "gray.mean:"
       ]
      },
      {
       "output_type": "stream",
       "stream": "stdout",
       "text": [
        " 70.3819444444 ; foreground.max: 35.7600461204\n",
        "gray.mean:"
       ]
      },
      {
       "output_type": "stream",
       "stream": "stdout",
       "text": [
        " 69.4722222222 ; foreground.max: 18.0827880864\n",
        "gray.mean:"
       ]
      },
      {
       "output_type": "stream",
       "stream": "stdout",
       "text": [
        " 69.9027777778 ; foreground.max: 9.54922213939\n",
        "gray.mean:"
       ]
      },
      {
       "output_type": "stream",
       "stream": "stdout",
       "text": [
        " 68.0833333333 ; foreground.max: 17.7774379989\n",
        "gray.mean:"
       ]
      },
      {
       "output_type": "stream",
       "stream": "stdout",
       "text": [
        " 67.1666666667 ; foreground.max: 10.6067228338\n",
        "gray.mean:"
       ]
      },
      {
       "output_type": "stream",
       "stream": "stdout",
       "text": [
        " 68.9930555556 ; foreground.max: 17.1370357523\n",
        "gray.mean:"
       ]
      },
      {
       "output_type": "stream",
       "stream": "stdout",
       "text": [
        " 69.5902777778 ; foreground.max: 13.4416241324\n",
        "gray.mean:"
       ]
      },
      {
       "output_type": "stream",
       "stream": "stdout",
       "text": [
        " 71.1875 ; foreground.max: 32.9850813849\n",
        "gray.mean:"
       ]
      },
      {
       "output_type": "stream",
       "stream": "stdout",
       "text": [
        " 70.25 ; foreground.max: 19.473560707\n",
        "gray.mean:"
       ]
      },
      {
       "output_type": "stream",
       "stream": "stdout",
       "text": [
        " 73.3958333333 ; foreground.max: 28.9699567809\n",
        "gray.mean:"
       ]
      },
      {
       "output_type": "stream",
       "stream": "stdout",
       "text": [
        " 72.4027777778 ; foreground.max: 34.5606136062\n",
        "gray.mean:"
       ]
      },
      {
       "output_type": "stream",
       "stream": "stdout",
       "text": [
        " 72.3541666667 ; foreground.max: 25.2850171782\n",
        "gray.mean:"
       ]
      },
      {
       "output_type": "stream",
       "stream": "stdout",
       "text": [
        " 76.7777777778 ; foreground.max: 45.1253297667\n",
        "gray.mean:"
       ]
      },
      {
       "output_type": "stream",
       "stream": "stdout",
       "text": [
        " 77.7083333333 ; foreground.max: 42.7169559739\n",
        "gray.mean:"
       ]
      },
      {
       "output_type": "stream",
       "stream": "stdout",
       "text": [
        " 80.2569444444 ; foreground.max: 30.4861197007\n",
        "gray.mean:"
       ]
      },
      {
       "output_type": "stream",
       "stream": "stdout",
       "text": [
        " 85.9861111111 ; foreground.max: 35.7621733649\n",
        "gray.mean:"
       ]
      },
      {
       "output_type": "stream",
       "stream": "stdout",
       "text": [
        " 85.9583333333 ; foreground.max: 37.0516569617\n",
        "gray.mean:"
       ]
      },
      {
       "output_type": "stream",
       "stream": "stdout",
       "text": [
        " 85.2361111111 ; foreground.max: 33.8605576987\n",
        "gray.mean:"
       ]
      },
      {
       "output_type": "stream",
       "stream": "stdout",
       "text": [
        " 84.3611111111 ; foreground.max: 29.369691156\n",
        "gray.mean:"
       ]
      },
      {
       "output_type": "stream",
       "stream": "stdout",
       "text": [
        " 79.5138888889 ; foreground.max: 27.3855102986\n",
        "gray.mean:"
       ]
      },
      {
       "output_type": "stream",
       "stream": "stdout",
       "text": [
        " 76.25 ; foreground.max: 22.3774827673\n",
        "gray.mean:"
       ]
      },
      {
       "output_type": "stream",
       "stream": "stdout",
       "text": [
        " 75.8194444444 ; foreground.max: 15.267566108\n",
        "gray.mean:"
       ]
      },
      {
       "output_type": "stream",
       "stream": "stdout",
       "text": [
        " 74.3888888889 ; foreground.max: 21.3728582997\n",
        "gray.mean:"
       ]
      },
      {
       "output_type": "stream",
       "stream": "stdout",
       "text": [
        " 76.9652777778 ; foreground.max: 9.62916282767\n",
        "gray.mean:"
       ]
      },
      {
       "output_type": "stream",
       "stream": "stdout",
       "text": [
        " 75.2638888889 ; foreground.max: 9.23485232051\n",
        "gray.mean:"
       ]
      },
      {
       "output_type": "stream",
       "stream": "stdout",
       "text": [
        " 75.75 ; foreground.max: 11.7103764849\n",
        "gray.mean:"
       ]
      },
      {
       "output_type": "stream",
       "stream": "stdout",
       "text": [
        " 74.0833333333 ; foreground.max: 9.81010779267\n",
        "gray.mean:"
       ]
      },
      {
       "output_type": "stream",
       "stream": "stdout",
       "text": [
        " 73.125 ; foreground.max: 11.9552635219\n",
        "gray.mean:"
       ]
      },
      {
       "output_type": "stream",
       "stream": "stdout",
       "text": [
        " 77.0069444444 ; foreground.max: 23.6890542123\n",
        "gray.mean:"
       ]
      },
      {
       "output_type": "stream",
       "stream": "stdout",
       "text": [
        " 72.9722222222 ; foreground.max: 11.3189975619\n",
        "gray.mean:"
       ]
      },
      {
       "output_type": "stream",
       "stream": "stdout",
       "text": [
        " 77.625 ; foreground.max: 28.5261290043\n",
        "gray.mean:"
       ]
      },
      {
       "output_type": "stream",
       "stream": "stdout",
       "text": [
        " 75.6666666667 ; foreground.max: 16.2168017325\n",
        "gray.mean:"
       ]
      },
      {
       "output_type": "stream",
       "stream": "stdout",
       "text": [
        " 74.5138888889 ; foreground.max: 17.0097254997\n"
       ]
      }
     ],
     "prompt_number": 14
    },
    {
     "cell_type": "code",
     "collapsed": false,
     "input": [
      "print(fore_bl)"
     ],
     "language": "python",
     "metadata": {},
     "outputs": [
      {
       "output_type": "stream",
       "stream": "stdout",
       "text": [
        "[[ 0  0  0  0  0  0  0  0  0  0  0  0]\n",
        " [ 0  0  0  0  0  0  0  0  0  0  0  0]\n",
        " [ 0  0  0  0  0  0  0  0  0  0  0  0]\n",
        " [ 0  0  0  0  0  0  0  0  0  0  0  0]\n",
        " [ 0  0  0  0  0  0  0  0  0  0  0  0]\n",
        " [ 0  0  0  0  0  0  0  0  0  0  0  0]\n",
        " [ 0  0  0  0  0  0  0  0  0  0  0  0]\n",
        " [ 0  0  0  0  0  0  0  0  0  0  0  0]\n",
        " [ 0  0  0  0  0  0  0  0  0  0  0  0]\n",
        " [ 0  0  0  0  0  0  0  0  0  0  0  0]\n",
        " [ 0  0  0  0  0  0  0  0  0  0  0  0]\n",
        " [ 0  0  0  0  0  0  0  0  0  0  0  0]\n",
        " [ 0  0  0  0  0  0  0  0  0  0  0  0]\n",
        " [ 0  0  0 64  0  0  0  0  0  0  0  0]\n",
        " [ 0  0 64 67 58 52  0  0  0  0  0  0]\n",
        " [ 0  0  0  0  0  0  0  0  0  0  0  0]\n",
        " [ 0  0  0  0  0  0  0  0  0  0  0  0]\n",
        " [ 0  0  0  0  0  0  0  0  0  0  0  0]\n",
        " [ 0  0  0  0  0  0  0  0  0  0  0  0]\n",
        " [ 0  0  0  0  0  0  0  0  0  0  0  0]\n",
        " [ 0  0  0  0  0  0  0  0  0  0  0  0]\n",
        " [ 0  0  0  0  0  0  0  0  0  0  0  0]\n",
        " [ 0  0  0  0  0  0  0  0  0  0  0  0]\n",
        " [ 0  0  0  0  0  0  0  0  0  0  0  0]]\n"
       ]
      }
     ],
     "prompt_number": 7
    },
    {
     "cell_type": "code",
     "collapsed": false,
     "input": [
      "#######################################################################################"
     ],
     "language": "python",
     "metadata": {},
     "outputs": []
    },
    {
     "cell_type": "code",
     "collapsed": false,
     "input": [
      "cv2.createBackgroundSubtractorMOG2?"
     ],
     "language": "python",
     "metadata": {},
     "outputs": [],
     "prompt_number": 6
    },
    {
     "cell_type": "code",
     "collapsed": false,
     "input": [
      "# opencv\u81ea\u5e26\u524d\u666f\u68c0\u6d4b\n",
      "cap = cv2.VideoCapture('data/tube.mp4')\n",
      "fgbg = cv2.createBackgroundSubtractorMOG2()\n",
      "\n",
      "wT = 1\n",
      "count = 0\n",
      "\n",
      "while cap.isOpened():\n",
      "    ret, frame = cap.read()\n",
      "    if not ret:\n",
      "        break\n",
      "    if count <= 8000:\n",
      "        count += 1\n",
      "        continue\n",
      "        \n",
      "    origin = frame[192:216, 47:59]\n",
      "#     gray = cv2.cvtColor(origin, cv2.COLOR_BGR2GRAY)\n",
      "    gray = origin[:, :, 0]\n",
      "#     gray = cv2.equalizeHist(gray)\n",
      "    fgmask = fgbg.apply(gray)\n",
      "    fgmask_bl = cv2.medianBlur(fgmask, 3)\n",
      "    show_im(8, frame, origin, gray, fgmask, fgmask_bl)\n",
      "    \n",
      "    key = cv2.waitKey(wT) & 0xff\n",
      "    if key == ord('q'):\n",
      "        break\n",
      "    elif key == ord('p'):\n",
      "        cv2.waitKey(0)\n",
      "    elif key == ord('c'):\n",
      "        wT = 40 - wT\n",
      "        \n",
      "cap.release()\n",
      "cv2.destroyAllWindows()"
     ],
     "language": "python",
     "metadata": {},
     "outputs": [],
     "prompt_number": 5
    },
    {
     "cell_type": "code",
     "collapsed": false,
     "input": [
      "# \u53c2\u6570\u5bf9\u6bd4\n",
      "cap = cv2.VideoCapture('data/tube.mp4')\n",
      "# kernel = cv2.getStructuringElement(cv2.MORPH_ELLIPSE, (3, 3))\n",
      "# fgbg = cv2.createBackgroundSubtractorKNN()\n",
      "sigma1 = None\n",
      "p1 = 0.2\n",
      "sigma2 = None\n",
      "p2 = 0.3\n",
      "sigma3 = None\n",
      "p3 = 0.4\n",
      "while(cap.isOpened()):\n",
      "    ret, frame = cap.read()\n",
      "    \n",
      "    gray = cv2.cvtColor(frame[192:216, 47:59], cv2.COLOR_BGR2GRAY)\n",
      "#     fgmask = fgbg.apply(cur)\n",
      "#     fgmask = cv2.morphologyEx(fgmask, cv2.MORPH_OPEN, kernel)\n",
      "\n",
      "    if sigma1 is None:\n",
      "        sigma1 = gray\n",
      "        sigma2 = gray\n",
      "        sigma3 = gray\n",
      "    else:\n",
      "        sigma1 = p1 * gray + (1 - p1) * sigma1\n",
      "        sigma2 = p2 * gray + (1 - p2) * sigma2\n",
      "        sigma3 = p3 * gray + (1 - p3) * sigma3\n",
      "        \n",
      "    gray1 = (abs(gray - sigma1) * 4).astype('uint8')\n",
      "#     retVal, gray1 = cv2.threshold(gray, 40, 255, cv2.THRESH_BINARY)\n",
      "#     gray = ((gray - gray.min()) / (gray.max() - gray.min()) * 64).astype('uint8')\n",
      "    edges1 = cv2.Canny(gray1, 120, 175, L2gradient=True)\n",
      "    \n",
      "    gray2 = (abs(gray - sigma2) * 4).astype('uint8')\n",
      "#     gray = ((gray - gray.min()) / (gray.max() - gray.min()) * 64).astype('uint8')\n",
      "    edges2 = cv2.Canny(gray2, 120, 175, L2gradient=True)\n",
      "    \n",
      "    gray3 = (abs(gray - sigma3) * 4).astype('uint8')\n",
      "    gray3 = gray3 * 4\n",
      "#     gray = ((gray - gray.min()) / (gray.max() - gray.min()) * 64).astype('uint8')\n",
      "    edges3 = cv2.Canny(gray3, 120, 175, L2gradient=True)\n",
      "    \n",
      "    im = np.hstack((gray1, edges1, gray2, edges2, gray3, edges3))\n",
      "    im = cv2.resize(im, None, fx=16, fy=16)\n",
      "    cv2.imshow('frame', im)\n",
      "    key = cv2.waitKey(1) & 0xff\n",
      "    if key == ord('q'):\n",
      "        break\n",
      "\n",
      "cap.release()\n",
      "cv2.destroyAllWindows()"
     ],
     "language": "python",
     "metadata": {},
     "outputs": [],
     "prompt_number": 16
    }
   ],
   "metadata": {}
  }
 ]
}