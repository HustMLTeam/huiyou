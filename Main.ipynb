{
 "cells": [
  {
   "cell_type": "code",
   "execution_count": null,
   "metadata": {},
   "outputs": [],
   "source": [
    "# from LevelDetector import LevelDetector\n",
    "from detect import Locator\n",
    "import cv2\n",
    "import numpy as np\n",
    "\n",
    "tube_position = []\n",
    "window_position1 = []\n",
    "window_position2 = []\n",
    "count = 0\n",
    "speed = 1\n",
    "\n",
    "#定位液面\n",
    "locator = Locator(tube_extract='sift', tube_classify='svm', window_extract='lbp', window_classify='svm')\n",
    "cap = cv2.VideoCapture('data/tube.mp4')\n",
    "\n",
    "while cap.isOpened():\n",
    "    ret, frame = cap.read()\n",
    "    count += 1\n",
    "    if count == 1:\n",
    "        gray = cv2.cvtColor(frame, cv2.COLOR_BGR2GRAY)\n",
    "#         tube_position = locator.locate_tube(gray)\n",
    "#         tube_position.sort(key=lambda x:x[2])\n",
    "        tube_position = [[0, 271, 33, 76], [0, 271, 81, 115]]\n",
    "        tube1 = gray[tube_position[0][0]:tube_position[0][1], tube_position[0][2]:tube_position[0][3]]\n",
    "        tube2 = gray[tube_position[1][0]:tube_position[1][1], tube_position[1][2]:tube_position[1][3]]\n",
    "#         window_position1 = locator.locate_window(tube1, 5)\n",
    "#         print(window_position1)\n",
    "#         window_position1 = list(window_position1)\n",
    "#         window_position1.sort(key=lambda x:x[0])\n",
    "#         print(window_position1)\n",
    "        window_position1 = [[192, 216, 47, 59],\n",
    "                             [159, 183, 47, 56],\n",
    "                             [121, 148, 45, 56],\n",
    "                             [85, 112, 46, 58],\n",
    "                             [49, 77, 48, 61]]\n",
    "#         window_position2 = locator.locate_window(tube2, 7)\n",
    "#         print(window_position2)\n",
    "#         window_position2 = list(window_position2)\n",
    "#         window_position2.sort(key=lambda x:x[0])\n",
    "#         print(window_position2)\n",
    "        window_position2 = [[219, 244, 95, 107],\n",
    "                             [185, 210, 92, 104],\n",
    "                             [150, 177, 90, 102],\n",
    "                             [113, 141, 89, 101],\n",
    "                             [76, 105, 89, 101],\n",
    "                             [40, 68, 90, 103],\n",
    "                             [5, 33, 92, 105]]\n",
    "        detector1 = LevelDetector(1, tube_position[0], window_position1)\n",
    "        detector2 = LevelDetector(2, tube_position[1], window_position2)\n",
    "        \n",
    "    \n",
    "    cur_level, level_scale = detector1.detect_level(frame)\n",
    "    cv2.line(frame, (45, int(cur_level)), (60, int(cur_level)), (0, 0, 255), 1)\n",
    "    text = 'level1: ' + str(round(level_scale, 2))\n",
    "    cv2.putText(frame, text, (5, 13), cv2.FONT_HERSHEY_COMPLEX_SMALL, 0.6, (0, 0, 255), 1)\n",
    "#     if not count % 50:\n",
    "#         print(level_scale1)\n",
    "    \n",
    "    cur_level, level_scale = detector2.detect_level(frame)\n",
    "    cv2.line(frame, (90, int(cur_level)), (105, int(cur_level)), (0, 0, 255), 1)\n",
    "    text = 'level2: ' + str(round(level_scale, 2))\n",
    "    cv2.putText(frame, text, (5, 28), cv2.FONT_HERSHEY_COMPLEX_SMALL, 0.6, (0, 0, 255), 1)\n",
    "#     if not count % 50:\n",
    "#         print(level_scale2)\n",
    "    \n",
    "    frame = cv2.resize(frame, None, fx = 2, fy = 2)\n",
    "    cv2.imshow(\"result\", frame)\n",
    "    \n",
    "    #监听按键\n",
    "    if not count % 5:\n",
    "        key = cv2.waitKey(speed) & 0xff\n",
    "        if key == ord('q'):\n",
    "            break\n",
    "        elif key == ord('p'):\n",
    "            cv2.waitKey()\n",
    "        elif key == ord('c'):\n",
    "            speed = 40 - speed\n",
    "\n",
    "cap.release()\n",
    "cv2.destroyAllWindows()"
   ]
  },
  {
   "cell_type": "code",
   "execution_count": 13,
   "metadata": {},
   "outputs": [
    {
     "data": {
      "text/plain": [
       "<function putText>"
      ]
     },
     "execution_count": 13,
     "output_type": "execute_result",
     "metadata": {}
    }
   ],
   "source": [
    "min\n",
    "[[ 47  80  10  28]\n",
    " [ 82 115   9  25]\n",
    " [117 151   6  25]\n",
    " [153 186   8  28]\n",
    " [188 220  10  28]]\n",
    "[[  2  34   8  28]\n",
    " [ 35  69   4  24]\n",
    " [ 72 106   4  23]\n",
    " [108 142   4  23]\n",
    " [145 178   3  23]\n",
    " [178 212   6  27]\n",
    " [214 246   8  29]]"
   ]
  },
  {
   "cell_type": "code",
   "execution_count": 16,
   "metadata": {},
   "outputs": [],
   "source": [
    ""
   ]
  },
  {
   "cell_type": "code",
   "execution_count": null,
   "metadata": {},
   "outputs": [],
   "source": [
    ""
   ]
  }
 ],
 "metadata": {
  "kernelspec": {
   "display_name": "Python 3",
   "language": "python",
   "name": "python3"
  },
  "language_info": {
   "codemirror_mode": {
    "name": "ipython",
    "version": 3.0
   },
   "file_extension": ".py",
   "mimetype": "text/x-python",
   "name": "python",
   "nbconvert_exporter": "python",
   "pygments_lexer": "ipython3",
   "version": "3.5.1"
  }
 },
 "nbformat": 4,
 "nbformat_minor": 0
}